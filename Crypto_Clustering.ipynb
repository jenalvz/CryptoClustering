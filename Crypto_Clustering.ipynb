{
 "cells": [
  {
   "cell_type": "code",
   "execution_count": 64,
   "metadata": {},
   "outputs": [
    {
     "data": {
      "application/javascript": "(function(root) {\n  function now() {\n    return new Date();\n  }\n\n  var force = true;\n  var py_version = '3.2.2'.replace('rc', '-rc.').replace('.dev', '-dev.');\n  var is_dev = py_version.indexOf(\"+\") !== -1 || py_version.indexOf(\"-\") !== -1;\n  var reloading = false;\n  var Bokeh = root.Bokeh;\n  var bokeh_loaded = Bokeh != null && (Bokeh.version === py_version || (Bokeh.versions !== undefined && Bokeh.versions.has(py_version)));\n\n  if (typeof (root._bokeh_timeout) === \"undefined\" || force) {\n    root._bokeh_timeout = Date.now() + 5000;\n    root._bokeh_failed_load = false;\n  }\n\n  function run_callbacks() {\n    try {\n      root._bokeh_onload_callbacks.forEach(function(callback) {\n        if (callback != null)\n          callback();\n      });\n    } finally {\n      delete root._bokeh_onload_callbacks;\n    }\n    console.debug(\"Bokeh: all callbacks have finished\");\n  }\n\n  function load_libs(css_urls, js_urls, js_modules, js_exports, callback) {\n    if (css_urls == null) css_urls = [];\n    if (js_urls == null) js_urls = [];\n    if (js_modules == null) js_modules = [];\n    if (js_exports == null) js_exports = {};\n\n    root._bokeh_onload_callbacks.push(callback);\n\n    if (root._bokeh_is_loading > 0) {\n      console.debug(\"Bokeh: BokehJS is being loaded, scheduling callback at\", now());\n      return null;\n    }\n    if (js_urls.length === 0 && js_modules.length === 0 && Object.keys(js_exports).length === 0) {\n      run_callbacks();\n      return null;\n    }\n    if (!reloading) {\n      console.debug(\"Bokeh: BokehJS not loaded, scheduling load and callback at\", now());\n    }\n\n    function on_load() {\n      root._bokeh_is_loading--;\n      if (root._bokeh_is_loading === 0) {\n        console.debug(\"Bokeh: all BokehJS libraries/stylesheets loaded\");\n        run_callbacks()\n      }\n    }\n    window._bokeh_on_load = on_load\n\n    function on_error() {\n      console.error(\"failed to load \" + url);\n    }\n\n    var skip = [];\n    if (window.requirejs) {\n      window.requirejs.config({'packages': {}, 'paths': {'jspanel': 'https://cdn.jsdelivr.net/npm/jspanel4@4.12.0/dist/jspanel', 'jspanel-modal': 'https://cdn.jsdelivr.net/npm/jspanel4@4.12.0/dist/extensions/modal/jspanel.modal', 'jspanel-tooltip': 'https://cdn.jsdelivr.net/npm/jspanel4@4.12.0/dist/extensions/tooltip/jspanel.tooltip', 'jspanel-hint': 'https://cdn.jsdelivr.net/npm/jspanel4@4.12.0/dist/extensions/hint/jspanel.hint', 'jspanel-layout': 'https://cdn.jsdelivr.net/npm/jspanel4@4.12.0/dist/extensions/layout/jspanel.layout', 'jspanel-contextmenu': 'https://cdn.jsdelivr.net/npm/jspanel4@4.12.0/dist/extensions/contextmenu/jspanel.contextmenu', 'jspanel-dock': 'https://cdn.jsdelivr.net/npm/jspanel4@4.12.0/dist/extensions/dock/jspanel.dock', 'gridstack': 'https://cdn.jsdelivr.net/npm/gridstack@7.2.3/dist/gridstack-all', 'notyf': 'https://cdn.jsdelivr.net/npm/notyf@3/notyf.min'}, 'shim': {'jspanel': {'exports': 'jsPanel'}, 'gridstack': {'exports': 'GridStack'}}});\n      require([\"jspanel\"], function(jsPanel) {\n\twindow.jsPanel = jsPanel\n\ton_load()\n      })\n      require([\"jspanel-modal\"], function() {\n\ton_load()\n      })\n      require([\"jspanel-tooltip\"], function() {\n\ton_load()\n      })\n      require([\"jspanel-hint\"], function() {\n\ton_load()\n      })\n      require([\"jspanel-layout\"], function() {\n\ton_load()\n      })\n      require([\"jspanel-contextmenu\"], function() {\n\ton_load()\n      })\n      require([\"jspanel-dock\"], function() {\n\ton_load()\n      })\n      require([\"gridstack\"], function(GridStack) {\n\twindow.GridStack = GridStack\n\ton_load()\n      })\n      require([\"notyf\"], function() {\n\ton_load()\n      })\n      root._bokeh_is_loading = css_urls.length + 9;\n    } else {\n      root._bokeh_is_loading = css_urls.length + js_urls.length + js_modules.length + Object.keys(js_exports).length;\n    }\n\n    var existing_stylesheets = []\n    var links = document.getElementsByTagName('link')\n    for (var i = 0; i < links.length; i++) {\n      var link = links[i]\n      if (link.href != null) {\n\texisting_stylesheets.push(link.href)\n      }\n    }\n    for (var i = 0; i < css_urls.length; i++) {\n      var url = css_urls[i];\n      if (existing_stylesheets.indexOf(url) !== -1) {\n\ton_load()\n\tcontinue;\n      }\n      const element = document.createElement(\"link\");\n      element.onload = on_load;\n      element.onerror = on_error;\n      element.rel = \"stylesheet\";\n      element.type = \"text/css\";\n      element.href = url;\n      console.debug(\"Bokeh: injecting link tag for BokehJS stylesheet: \", url);\n      document.body.appendChild(element);\n    }    if (((window['jsPanel'] !== undefined) && (!(window['jsPanel'] instanceof HTMLElement))) || window.requirejs) {\n      var urls = ['https://cdn.holoviz.org/panel/1.2.2/dist/bundled/floatpanel/jspanel4@4.12.0/dist/jspanel.js', 'https://cdn.holoviz.org/panel/1.2.2/dist/bundled/floatpanel/jspanel4@4.12.0/dist/extensions/modal/jspanel.modal.js', 'https://cdn.holoviz.org/panel/1.2.2/dist/bundled/floatpanel/jspanel4@4.12.0/dist/extensions/tooltip/jspanel.tooltip.js', 'https://cdn.holoviz.org/panel/1.2.2/dist/bundled/floatpanel/jspanel4@4.12.0/dist/extensions/hint/jspanel.hint.js', 'https://cdn.holoviz.org/panel/1.2.2/dist/bundled/floatpanel/jspanel4@4.12.0/dist/extensions/layout/jspanel.layout.js', 'https://cdn.holoviz.org/panel/1.2.2/dist/bundled/floatpanel/jspanel4@4.12.0/dist/extensions/contextmenu/jspanel.contextmenu.js', 'https://cdn.holoviz.org/panel/1.2.2/dist/bundled/floatpanel/jspanel4@4.12.0/dist/extensions/dock/jspanel.dock.js'];\n      for (var i = 0; i < urls.length; i++) {\n        skip.push(urls[i])\n      }\n    }    if (((window['GridStack'] !== undefined) && (!(window['GridStack'] instanceof HTMLElement))) || window.requirejs) {\n      var urls = ['https://cdn.holoviz.org/panel/1.2.2/dist/bundled/gridstack/gridstack@7.2.3/dist/gridstack-all.js'];\n      for (var i = 0; i < urls.length; i++) {\n        skip.push(urls[i])\n      }\n    }    if (((window['Notyf'] !== undefined) && (!(window['Notyf'] instanceof HTMLElement))) || window.requirejs) {\n      var urls = ['https://cdn.holoviz.org/panel/1.2.2/dist/bundled/notificationarea/notyf@3/notyf.min.js'];\n      for (var i = 0; i < urls.length; i++) {\n        skip.push(urls[i])\n      }\n    }    var existing_scripts = []\n    var scripts = document.getElementsByTagName('script')\n    for (var i = 0; i < scripts.length; i++) {\n      var script = scripts[i]\n      if (script.src != null) {\n\texisting_scripts.push(script.src)\n      }\n    }\n    for (var i = 0; i < js_urls.length; i++) {\n      var url = js_urls[i];\n      if (skip.indexOf(url) !== -1 || existing_scripts.indexOf(url) !== -1) {\n\tif (!window.requirejs) {\n\t  on_load();\n\t}\n\tcontinue;\n      }\n      var element = document.createElement('script');\n      element.onload = on_load;\n      element.onerror = on_error;\n      element.async = false;\n      element.src = url;\n      console.debug(\"Bokeh: injecting script tag for BokehJS library: \", url);\n      document.head.appendChild(element);\n    }\n    for (var i = 0; i < js_modules.length; i++) {\n      var url = js_modules[i];\n      if (skip.indexOf(url) !== -1 || existing_scripts.indexOf(url) !== -1) {\n\tif (!window.requirejs) {\n\t  on_load();\n\t}\n\tcontinue;\n      }\n      var element = document.createElement('script');\n      element.onload = on_load;\n      element.onerror = on_error;\n      element.async = false;\n      element.src = url;\n      element.type = \"module\";\n      console.debug(\"Bokeh: injecting script tag for BokehJS library: \", url);\n      document.head.appendChild(element);\n    }\n    for (const name in js_exports) {\n      var url = js_exports[name];\n      if (skip.indexOf(url) >= 0 || root[name] != null) {\n\tif (!window.requirejs) {\n\t  on_load();\n\t}\n\tcontinue;\n      }\n      var element = document.createElement('script');\n      element.onerror = on_error;\n      element.async = false;\n      element.type = \"module\";\n      console.debug(\"Bokeh: injecting script tag for BokehJS library: \", url);\n      element.textContent = `\n      import ${name} from \"${url}\"\n      window.${name} = ${name}\n      window._bokeh_on_load()\n      `\n      document.head.appendChild(element);\n    }\n    if (!js_urls.length && !js_modules.length) {\n      on_load()\n    }\n  };\n\n  function inject_raw_css(css) {\n    const element = document.createElement(\"style\");\n    element.appendChild(document.createTextNode(css));\n    document.body.appendChild(element);\n  }\n\n  var js_urls = [\"https://cdn.bokeh.org/bokeh/release/bokeh-3.2.2.min.js\", \"https://cdn.bokeh.org/bokeh/release/bokeh-gl-3.2.2.min.js\", \"https://cdn.bokeh.org/bokeh/release/bokeh-widgets-3.2.2.min.js\", \"https://cdn.bokeh.org/bokeh/release/bokeh-tables-3.2.2.min.js\", \"https://cdn.holoviz.org/panel/1.2.2/dist/panel.min.js\"];\n  var js_modules = [];\n  var js_exports = {};\n  var css_urls = [];\n  var inline_js = [    function(Bokeh) {\n      Bokeh.set_log_level(\"info\");\n    },\nfunction(Bokeh) {} // ensure no trailing comma for IE\n  ];\n\n  function run_inline_js() {\n    if ((root.Bokeh !== undefined) || (force === true)) {\n      for (var i = 0; i < inline_js.length; i++) {\n        inline_js[i].call(root, root.Bokeh);\n      }\n      // Cache old bokeh versions\n      if (Bokeh != undefined && !reloading) {\n\tvar NewBokeh = root.Bokeh;\n\tif (Bokeh.versions === undefined) {\n\t  Bokeh.versions = new Map();\n\t}\n\tif (NewBokeh.version !== Bokeh.version) {\n\t  Bokeh.versions.set(NewBokeh.version, NewBokeh)\n\t}\n\troot.Bokeh = Bokeh;\n      }} else if (Date.now() < root._bokeh_timeout) {\n      setTimeout(run_inline_js, 100);\n    } else if (!root._bokeh_failed_load) {\n      console.log(\"Bokeh: BokehJS failed to load within specified timeout.\");\n      root._bokeh_failed_load = true;\n    }\n    root._bokeh_is_initializing = false\n  }\n\n  function load_or_wait() {\n    // Implement a backoff loop that tries to ensure we do not load multiple\n    // versions of Bokeh and its dependencies at the same time.\n    // In recent versions we use the root._bokeh_is_initializing flag\n    // to determine whether there is an ongoing attempt to initialize\n    // bokeh, however for backward compatibility we also try to ensure\n    // that we do not start loading a newer (Panel>=1.0 and Bokeh>3) version\n    // before older versions are fully initialized.\n    if (root._bokeh_is_initializing && Date.now() > root._bokeh_timeout) {\n      root._bokeh_is_initializing = false;\n      root._bokeh_onload_callbacks = undefined;\n      console.log(\"Bokeh: BokehJS was loaded multiple times but one version failed to initialize.\");\n      load_or_wait();\n    } else if (root._bokeh_is_initializing || (typeof root._bokeh_is_initializing === \"undefined\" && root._bokeh_onload_callbacks !== undefined)) {\n      setTimeout(load_or_wait, 100);\n    } else {\n      Bokeh = root.Bokeh;\n      bokeh_loaded = Bokeh != null && (Bokeh.version === py_version || (Bokeh.versions !== undefined && Bokeh.versions.has(py_version)));\n      root._bokeh_is_initializing = true\n      root._bokeh_onload_callbacks = []\n      if (!reloading && (!bokeh_loaded || is_dev)) {\n\troot.Bokeh = undefined;\n      }\n      load_libs(css_urls, js_urls, js_modules, js_exports, function() {\n\tconsole.debug(\"Bokeh: BokehJS plotting callback run at\", now());\n\trun_inline_js();\n      });\n    }\n  }\n  // Give older versions of the autoload script a head-start to ensure\n  // they initialize before we start loading newer version.\n  setTimeout(load_or_wait, 100)\n}(window));",
      "application/vnd.holoviews_load.v0+json": ""
     },
     "metadata": {},
     "output_type": "display_data"
    },
    {
     "data": {
      "application/javascript": "\nif ((window.PyViz === undefined) || (window.PyViz instanceof HTMLElement)) {\n  window.PyViz = {comms: {}, comm_status:{}, kernels:{}, receivers: {}, plot_index: []}\n}\n\n\n    function JupyterCommManager() {\n    }\n\n    JupyterCommManager.prototype.register_target = function(plot_id, comm_id, msg_handler) {\n      if (window.comm_manager || ((window.Jupyter !== undefined) && (Jupyter.notebook.kernel != null))) {\n        var comm_manager = window.comm_manager || Jupyter.notebook.kernel.comm_manager;\n        comm_manager.register_target(comm_id, function(comm) {\n          comm.on_msg(msg_handler);\n        });\n      } else if ((plot_id in window.PyViz.kernels) && (window.PyViz.kernels[plot_id])) {\n        window.PyViz.kernels[plot_id].registerCommTarget(comm_id, function(comm) {\n          comm.onMsg = msg_handler;\n        });\n      } else if (typeof google != 'undefined' && google.colab.kernel != null) {\n        google.colab.kernel.comms.registerTarget(comm_id, (comm) => {\n          var messages = comm.messages[Symbol.asyncIterator]();\n          function processIteratorResult(result) {\n            var message = result.value;\n            console.log(message)\n            var content = {data: message.data, comm_id};\n            var buffers = []\n            for (var buffer of message.buffers || []) {\n              buffers.push(new DataView(buffer))\n            }\n            var metadata = message.metadata || {};\n            var msg = {content, buffers, metadata}\n            msg_handler(msg);\n            return messages.next().then(processIteratorResult);\n          }\n          return messages.next().then(processIteratorResult);\n        })\n      }\n    }\n\n    JupyterCommManager.prototype.get_client_comm = function(plot_id, comm_id, msg_handler) {\n      if (comm_id in window.PyViz.comms) {\n        return window.PyViz.comms[comm_id];\n      } else if (window.comm_manager || ((window.Jupyter !== undefined) && (Jupyter.notebook.kernel != null))) {\n        var comm_manager = window.comm_manager || Jupyter.notebook.kernel.comm_manager;\n        var comm = comm_manager.new_comm(comm_id, {}, {}, {}, comm_id);\n        if (msg_handler) {\n          comm.on_msg(msg_handler);\n        }\n      } else if ((plot_id in window.PyViz.kernels) && (window.PyViz.kernels[plot_id])) {\n        var comm = window.PyViz.kernels[plot_id].connectToComm(comm_id);\n        comm.open();\n        if (msg_handler) {\n          comm.onMsg = msg_handler;\n        }\n      } else if (typeof google != 'undefined' && google.colab.kernel != null) {\n        var comm_promise = google.colab.kernel.comms.open(comm_id)\n        comm_promise.then((comm) => {\n          window.PyViz.comms[comm_id] = comm;\n          if (msg_handler) {\n            var messages = comm.messages[Symbol.asyncIterator]();\n            function processIteratorResult(result) {\n              var message = result.value;\n              var content = {data: message.data};\n              var metadata = message.metadata || {comm_id};\n              var msg = {content, metadata}\n              msg_handler(msg);\n              return messages.next().then(processIteratorResult);\n            }\n            return messages.next().then(processIteratorResult);\n          }\n        }) \n        var sendClosure = (data, metadata, buffers, disposeOnDone) => {\n          return comm_promise.then((comm) => {\n            comm.send(data, metadata, buffers, disposeOnDone);\n          });\n        };\n        var comm = {\n          send: sendClosure\n        };\n      }\n      window.PyViz.comms[comm_id] = comm;\n      return comm;\n    }\n    window.PyViz.comm_manager = new JupyterCommManager();\n    \n\n\nvar JS_MIME_TYPE = 'application/javascript';\nvar HTML_MIME_TYPE = 'text/html';\nvar EXEC_MIME_TYPE = 'application/vnd.holoviews_exec.v0+json';\nvar CLASS_NAME = 'output';\n\n/**\n * Render data to the DOM node\n */\nfunction render(props, node) {\n  var div = document.createElement(\"div\");\n  var script = document.createElement(\"script\");\n  node.appendChild(div);\n  node.appendChild(script);\n}\n\n/**\n * Handle when a new output is added\n */\nfunction handle_add_output(event, handle) {\n  var output_area = handle.output_area;\n  var output = handle.output;\n  if ((output.data == undefined) || (!output.data.hasOwnProperty(EXEC_MIME_TYPE))) {\n    return\n  }\n  var id = output.metadata[EXEC_MIME_TYPE][\"id\"];\n  var toinsert = output_area.element.find(\".\" + CLASS_NAME.split(' ')[0]);\n  if (id !== undefined) {\n    var nchildren = toinsert.length;\n    var html_node = toinsert[nchildren-1].children[0];\n    html_node.innerHTML = output.data[HTML_MIME_TYPE];\n    var scripts = [];\n    var nodelist = html_node.querySelectorAll(\"script\");\n    for (var i in nodelist) {\n      if (nodelist.hasOwnProperty(i)) {\n        scripts.push(nodelist[i])\n      }\n    }\n\n    scripts.forEach( function (oldScript) {\n      var newScript = document.createElement(\"script\");\n      var attrs = [];\n      var nodemap = oldScript.attributes;\n      for (var j in nodemap) {\n        if (nodemap.hasOwnProperty(j)) {\n          attrs.push(nodemap[j])\n        }\n      }\n      attrs.forEach(function(attr) { newScript.setAttribute(attr.name, attr.value) });\n      newScript.appendChild(document.createTextNode(oldScript.innerHTML));\n      oldScript.parentNode.replaceChild(newScript, oldScript);\n    });\n    if (JS_MIME_TYPE in output.data) {\n      toinsert[nchildren-1].children[1].textContent = output.data[JS_MIME_TYPE];\n    }\n    output_area._hv_plot_id = id;\n    if ((window.Bokeh !== undefined) && (id in Bokeh.index)) {\n      window.PyViz.plot_index[id] = Bokeh.index[id];\n    } else {\n      window.PyViz.plot_index[id] = null;\n    }\n  } else if (output.metadata[EXEC_MIME_TYPE][\"server_id\"] !== undefined) {\n    var bk_div = document.createElement(\"div\");\n    bk_div.innerHTML = output.data[HTML_MIME_TYPE];\n    var script_attrs = bk_div.children[0].attributes;\n    for (var i = 0; i < script_attrs.length; i++) {\n      toinsert[toinsert.length - 1].childNodes[1].setAttribute(script_attrs[i].name, script_attrs[i].value);\n    }\n    // store reference to server id on output_area\n    output_area._bokeh_server_id = output.metadata[EXEC_MIME_TYPE][\"server_id\"];\n  }\n}\n\n/**\n * Handle when an output is cleared or removed\n */\nfunction handle_clear_output(event, handle) {\n  var id = handle.cell.output_area._hv_plot_id;\n  var server_id = handle.cell.output_area._bokeh_server_id;\n  if (((id === undefined) || !(id in PyViz.plot_index)) && (server_id !== undefined)) { return; }\n  var comm = window.PyViz.comm_manager.get_client_comm(\"hv-extension-comm\", \"hv-extension-comm\", function () {});\n  if (server_id !== null) {\n    comm.send({event_type: 'server_delete', 'id': server_id});\n    return;\n  } else if (comm !== null) {\n    comm.send({event_type: 'delete', 'id': id});\n  }\n  delete PyViz.plot_index[id];\n  if ((window.Bokeh !== undefined) & (id in window.Bokeh.index)) {\n    var doc = window.Bokeh.index[id].model.document\n    doc.clear();\n    const i = window.Bokeh.documents.indexOf(doc);\n    if (i > -1) {\n      window.Bokeh.documents.splice(i, 1);\n    }\n  }\n}\n\n/**\n * Handle kernel restart event\n */\nfunction handle_kernel_cleanup(event, handle) {\n  delete PyViz.comms[\"hv-extension-comm\"];\n  window.PyViz.plot_index = {}\n}\n\n/**\n * Handle update_display_data messages\n */\nfunction handle_update_output(event, handle) {\n  handle_clear_output(event, {cell: {output_area: handle.output_area}})\n  handle_add_output(event, handle)\n}\n\nfunction register_renderer(events, OutputArea) {\n  function append_mime(data, metadata, element) {\n    // create a DOM node to render to\n    var toinsert = this.create_output_subarea(\n    metadata,\n    CLASS_NAME,\n    EXEC_MIME_TYPE\n    );\n    this.keyboard_manager.register_events(toinsert);\n    // Render to node\n    var props = {data: data, metadata: metadata[EXEC_MIME_TYPE]};\n    render(props, toinsert[0]);\n    element.append(toinsert);\n    return toinsert\n  }\n\n  events.on('output_added.OutputArea', handle_add_output);\n  events.on('output_updated.OutputArea', handle_update_output);\n  events.on('clear_output.CodeCell', handle_clear_output);\n  events.on('delete.Cell', handle_clear_output);\n  events.on('kernel_ready.Kernel', handle_kernel_cleanup);\n\n  OutputArea.prototype.register_mime_type(EXEC_MIME_TYPE, append_mime, {\n    safe: true,\n    index: 0\n  });\n}\n\nif (window.Jupyter !== undefined) {\n  try {\n    var events = require('base/js/events');\n    var OutputArea = require('notebook/js/outputarea').OutputArea;\n    if (OutputArea.prototype.mime_types().indexOf(EXEC_MIME_TYPE) == -1) {\n      register_renderer(events, OutputArea);\n    }\n  } catch(err) {\n  }\n}\n",
      "application/vnd.holoviews_load.v0+json": ""
     },
     "metadata": {},
     "output_type": "display_data"
    },
    {
     "data": {
      "text/html": [
       "<style>*[data-root-id],\n",
       "*[data-root-id] > * {\n",
       "  box-sizing: border-box;\n",
       "  font-family: var(--jp-ui-font-family);\n",
       "  font-size: var(--jp-ui-font-size1);\n",
       "  color: var(--vscode-editor-foreground, var(--jp-ui-font-color1));\n",
       "}\n",
       "\n",
       "/* Override VSCode background color */\n",
       ".cell-output-ipywidget-background:has(\n",
       "    > .cell-output-ipywidget-background > .lm-Widget > *[data-root-id]\n",
       "  ),\n",
       ".cell-output-ipywidget-background:has(> .lm-Widget > *[data-root-id]) {\n",
       "  background-color: transparent !important;\n",
       "}\n",
       "</style>"
      ]
     },
     "metadata": {},
     "output_type": "display_data"
    },
    {
     "data": {
      "text/html": [
       "\n",
       "<div class=\"logo-block\">\n",
       "<img src='data:image/png;base64,iVBORw0KGgoAAAANSUhEUgAAAEAAAABACAYAAACqaXHeAAAABHNCSVQICAgIfAhkiAAAAAlwSFlz\n",
       "AAAB+wAAAfsBxc2miwAAABl0RVh0U29mdHdhcmUAd3d3Lmlua3NjYXBlLm9yZ5vuPBoAAA6zSURB\n",
       "VHic7ZtpeFRVmsf/5966taWqUlUJ2UioBBJiIBAwCZtog9IOgjqACsogKtqirT2ttt069nQ/zDzt\n",
       "tI4+CrJIREFaFgWhBXpUNhHZQoKBkIUASchWla1S+3ar7r1nPkDaCAnZKoQP/D7mnPOe9/xy76n3\n",
       "nFSAW9ziFoPFNED2LLK5wcyBDObkb8ZkxuaoSYlI6ZcOKq1eWFdedqNzGHQBk9RMEwFAASkk0Xw3\n",
       "ETacDNi2vtvc7L0ROdw0AjoSotQVkKSvHQz/wRO1lScGModBFbDMaNRN1A4tUBCS3lk7BWhQkgpD\n",
       "lG4852/+7DWr1R3uHAZVQDsbh6ZPN7CyxUrCzJMRouusj0ipRwD2uKm0Zn5d2dFwzX1TCGhnmdGo\n",
       "G62Nna+isiUqhkzuKrkQaJlPEv5mFl2fvGg2t/VnzkEV8F5ioioOEWkLG86fvbpthynjdhXYZziQ\n",
       "x1hC9J2NFyi8vCTt91Fh04KGip0AaG9zuCk2wQCVyoNU3Hjezee9bq92duzzTmxsRJoy+jEZZZYo\n",
       "GTKJ6SJngdJqAfRzpze0+jHreUtPc7gpBLQnIYK6BYp/uGhw9YK688eu7v95ysgshcg9qSLMo3JC\n",
       "4jqLKQFBgdKDPoQ+Pltb8dUyQLpeDjeVgI6EgLIQFT5tEl3rn2losHVsexbZ3EyT9wE1uGdkIPcy\n",
       "BGxn8QUq1QrA5nqW5i2tLqvrrM9NK6AdkVIvL9E9bZL/oyfMVd/jqvc8LylzRBKDJSzIExwhQzuL\n",
       "QYGQj4rHfFTc8mUdu3E7yoLtbTe9gI4EqVgVkug2i5+uXGo919ixbRog+3fTbQ8qJe4ZOYNfMoTI\n",
       "OoshUNosgO60AisX15aeI2PSIp5KiFLI9ubb1vV3Qb2ltwLakUCDAkWX7/nHKRmmGIl9VgYsUhJm\n",
       "2NXjKYADtM1ygne9QQDIXlk49FBstMKx66D1v4+XuQr7vqTe0VcBHQlRWiOCbmmSYe2SqtL6q5rJ\n",
       "zsTb7lKx3FKOYC4DoqyS/B5bvLPxvD9Qtf6saxYLQGJErmDOdOMr/zo96km1nElr8bmPOBwI9COv\n",
       "HnFPRIwmkSOv9kcAS4heRsidOkpeWBgZM+UBrTFAXNYL5Vf2ii9c1trNzpYdaoVil3WIc+wdk+gQ\n",
       "noie3ecCcxt9ITcLAPWt/laGEO/9U6PmzZkenTtsSMQ8uYywJVW+grCstAvCIaAdArAsIWkRDDs/\n",
       "KzLm2YcjY1Lv0UdW73HabE9n6V66cxSzfEmuJssTpKGVp+0vHq73FwL46eOjpMpbRAnNmJFrGJNu\n",
       "Ukf9Yrz+3rghiumCKNXXWPhLYcjxGsIpoCMsIRoFITkW8AuyM8jC1+/QLx4bozCEJIq38+1rtpR6\n",
       "V/yzb8eBlRb3fo5l783N0CWolAzJHaVNzkrTzlEp2bQ2q3TC5gn6wpnoQAmwSiGh2GitnTmVMc5O\n",
       "UyfKWUKCIsU7+fZDKwqdT6DDpvkzAX4/+AMFjk0tDp5GRXLpQ2MUmhgDp5gxQT8+Y7hyPsMi8uxF\n",
       "71H0oebujHALECjFKaW9Lm68n18wXp2kVzIcABytD5iXFzg+WVXkegpAsOOYziqo0OkK76GyquC3\n",
       "ltZAzMhhqlSNmmWTE5T6e3IN05ITFLM4GdN0vtZ3ob8Jh1NAKXFbm5PtLU/eqTSlGjkNAJjdgn/N\n",
       "aedXa0tdi7+t9G0FIF49rtMSEgAs1kDLkTPO7ebm4IUWeyh1bKomXqlgMG6kJmHcSM0clYLJ8XtR\n",
       "1GTnbV3F6I5wCGikAb402npp1h1s7LQUZZSMIfALFOuL3UUrfnS8+rez7v9qcold5tilgHbO1fjK\n",
       "9ubb17u9oshxzMiUBKXWqJNxd+fqb0tLVs4lILFnK71H0Ind7uiPgACVcFJlrb0tV6DzxqqTIhUM\n",
       "CwDf1/rrVhTa33/3pGPxJYdQ2l2cbgVcQSosdx8uqnDtbGjh9SlDVSMNWhlnilfqZk42Th2ZpLpf\n",
       "xrHec5e815zrr0dfBZSwzkZfqsv+1FS1KUknUwPARVvItfKUY+cn57yP7qv07UE3p8B2uhUwLk09\n",
       "e0SCOrK+hbdYHYLjRIl71wWzv9jpEoeOHhGRrJAzyEyNiJuUqX0g2sBN5kGK6y2Blp5M3lsB9Qh4\n",
       "y2Ja6x6+i0ucmKgwMATwhSjdUu49tKrQ/pvN5d53ml2CGwCmJipmKjgmyuaXzNeL2a0AkQ01Th5j\n",
       "2DktO3Jyk8f9vcOBQHV94OK+fPumJmvQHxJoWkaKWq9Vs+yUsbq0zGT1I4RgeH2b5wef7+c7bl8F\n",
       "eKgoHVVZa8ZPEORzR6sT1BzDUAD/d9F78e2Tzv99v8D+fLVTqAKAsbGamKey1Mt9Ann4eH3gTXTz\n",
       "idWtAJ8PQWOk7NzSeQn/OTHDuEikVF1R4z8BQCy+6D1aWRfY0tTGG2OM8rRoPaeIj5ZHzJxszElN\n",
       "VM8K8JS5WOfv8mzRnQAKoEhmt8gyPM4lU9SmBK1MCQBnW4KONT86v1hZ1PbwSXPw4JWussVjtH9Y\n",
       "NCoiL9UoH/6PSu8jFrfY2t36erQHXLIEakMi1SydmzB31h3GGXFDFNPaK8Rme9B79Ixrd0WN+1ij\n",
       "NRQ/doRmuFLBkHSTOm5GruG+pFjFdAmorG4IXH1Qua6ASniclfFtDYt+oUjKipPrCQB7QBQ2lrgP\n",
       "fFzm+9XWUtcqJ3/5vDLDpJ79XHZk3u8nGZ42qlj1+ydtbxysCezrydp6ugmipNJ7WBPB5tydY0jP\n",
       "HaVNzs3QzeE4ZpTbI+ZbnSFPbVOw9vsfnVvqWnirPyCNGD08IlqtYkh2hjZ5dErEQzoNm+6ykyOt\n",
       "Lt5/PQEuSRRKo22VkydK+vvS1XEKlhCJAnsqvcVvH7f/ZU2R67eXbMEGAMiIV5oWZWiWvz5Fv2xG\n",
       "sjqNJQRvn3Rs2lji/lNP19VjAQDgD7FHhujZB9OGqYxRkZxixgRDVlqS6uEOFaJUVu0rPFzctrnF\n",
       "JqijImVp8dEKVWyUXDk92zAuMZ6bFwpBU1HrOw6AdhQgUooChb0+ItMbWJitSo5Ws3IAOGEOtL53\n",
       "0vHZih9sC4vtofZ7Qu6523V/fmGcds1TY3V36pUsBwAbSlxnVh2xLfAD/IAIMDf7XYIkNmXfpp2l\n",
       "18rkAJAy9HKFaIr/qULkeQQKy9zf1JgDB2uaeFNGijo5QsUyacNUUTOnGO42xSnv4oOwpDi1zYkc\n",
       "efUc3I5Gk6PhyTuVKaOGyLUAYPGIoY9Pu/atL/L92+4q9wbflRJ2Trpm/jPjdBtfnqB/dIThcl8A\n",
       "KG7hbRuKnb8qsQsVvVlTrwQAQMUlf3kwJI24Z4JhPMtcfng5GcH49GsrxJpGvvHIaeem2ma+KSjQ\n",
       "lIwUdYyCY8j4dE1KzijNnIP2llF2wcXNnsoapw9XxsgYAl6k+KzUXbi2yP3KR2ecf6z3BFsBICdW\n",
       "nvnIaG3eHybqX7vbpEqUMT+9OL4Qpe8VON7dXuFd39v19FoAABRVePbGGuXTszO0P7tu6lghUonE\n",
       "llRdrhArLvmKdh9u29jcFiRRkfLUxBiFNiqSU9icoZQHo5mYBI1MBgBH6wMNb+U7Pnw337H4gi1Y\n",
       "ciWs+uks3Z9fztUvfzxTm9Ne8XXkvQLHNytOOZeiD4e0PgkAIAYCYknKUNUDSXEKzdWNpnil7r4p\n",
       "xqkjTarZMtk/K8TQ6Qve78qqvXurGwIJqcOUKfUWHsm8KGvxSP68YudXq4pcj39X49uOK2X142O0\n",
       "Tz5/u/7TVybqH0rSya6ZBwD21/gubbrgWdDgEOx9WUhfBaC2ibcEBYm7a7x+ukrBMNcEZggyR0TE\n",
       "T8zUPjikQ4VosQZbTpS4vqizBKvqmvjsqnpfzaZyx9JPiz1/bfGKdgD45XB1zoIMzYbfTdS/NClB\n",
       "Gct0USiY3YL/g0LHy/uq/Ef6uo5+n0R/vyhp17Klpge763f8rMu6YU/zrn2nml+2WtH+Z+5IAAFc\n",
       "2bUTdTDOSNa9+cQY7YLsOIXhevEkCvzph7a8laecz/Un/z4/Ae04XeL3UQb57IwU9ZDr9UuKVajv\n",
       "nxp1+1UVIo/LjztZkKH59fO3G/JemqCfmaCRqbqbd90ZZ8FfjtkfAyD0J/9+C2h1hDwsSxvGjNDc\n",
       "b4zk5NfrSwiQblLHzZhg+Jf4aPlUwpDqkQqa9nimbt1/TDH8OitGMaQnj+RJS6B1fbF7SY1TqO5v\n",
       "/v0WAADl1f7zokgS7s7VT2DZ7pegUjBM7mjtiDZbcN4j0YrHH0rXpCtY0qPX0cVL0rv5jv/ZXend\n",
       "0u/EESYBAFBU4T4Qa5TflZOhTe7pmKpaP8kCVUVw1+yhXfJWvn1P3hnXi33JsTN6PnP3hHZ8Z3/h\n",
       "aLHzmkNPuPj7Bc/F/Q38CwjTpSwQXgE4Vmwry9tpfq/ZFgqFMy4AVDtCvi8rvMvOmv0N4YwbVgEA\n",
       "sPM72/KVnzfspmH7HQGCRLG2yL1+z8XwvPcdCbsAANh+xPzstgMtxeGKt+6MK3/tacfvwhWvIwMi\n",
       "oKEBtm0H7W+UVfkc/Y1V0BhoPlDr/w1w/eu1vjIgAgDg22OtX6/eYfnEz/focrZTHAFR+PSs56/7\n",
       "q32nwpjazxgwAQCwcU/T62t3WL7r6/jVRa6/byp1rei+Z98ZUAEAhEPHPc8fKnTU9nbgtnOe8h0l\n",
       "9hcGIqmODLQAHCy2Xti6v/XNRivf43f4fFvIteu854+VHnR7q9tfBlwAAGz+pnndB9vM26UebAe8\n",
       "SLHujPOTPVW+rwY+sxskAAC2HrA8t2Vvc7ffP1r9o+vwR2dcr92InIAbKKC1FZ5tB1tf+/G8p8sv\n",
       "N/9Q5zd/XR34LYCwV5JdccMEAMDBk45DH243r/X4xGvqxFa/GNpS7n6rwOwNWwHVE26oAADYurf1\n",
       "zx/utOzt+DMKYM0p17YtZZ5VNzqfsB2HewG1WXE8PoZ7gOclbTIvynZf9JV+fqZtfgs/8F/Nu5rB\n",
       "EIBmJ+8QRMmpU7EzGRsf2FzuePqYRbzh/zE26EwdrT10f6r6o8HOYzCJB9Dpff8tbnGLG8L/A/WE\n",
       "roTBs2RqAAAAAElFTkSuQmCC'\n",
       "     style='height:25px; border-radius:12px; display: inline-block; float: left; vertical-align: middle'></img>\n",
       "\n",
       "\n",
       "\n",
       "\n",
       "  <img src='data:image/png;base64,iVBORw0KGgoAAAANSUhEUgAAACAAAAAgCAYAAABzenr0AAAABHNCSVQICAgIfAhkiAAAAAlwSFlz\n",
       "AAAFMAAABTABZarKtgAAABl0RVh0U29mdHdhcmUAd3d3Lmlua3NjYXBlLm9yZ5vuPBoAAArNSURB\n",
       "VFiFnVd5VFNXGv/ee0kgGyQhbFoXIKCFYEXEDVErTucMoKUOWA/VLsNSLPQgFTOdyrHPiIp1lFIQ\n",
       "OlaPShEG3EpPcQmISCuV1bQ1CLKIULeQhJA9JO+9+UMT0x5aPfOdc895373f/e7v/t537/ddBF5Q\n",
       "JBIJl81mJwCACEVRQBCEQhAEAQCgnghCURRCkmS7Wq2+WlJSYn0Rv8jzDHAcD0EQJIVGo5mFQuGF\n",
       "jIyMu39kq1KpkOrq6gU6nS6aIAiGzWY7VVBQ0P9/AcjNzWXy+fxcOp2uiY+Przm0d6+n8dblv/Fo\n",
       "kzM4SzYfPlRePvFnjnt6ehh1dXVv2mw2nlar/byoqMj8wgBwHBchCJIZEhJSeu1yHVi7vtu02t8+\n",
       "NykQ7BMWoOUMhXQsXLv5IQAwSJJEEASxcDicoeTk5DtCoZBy9XX69Gnv3t7ebJIky3EcH3guAKlU\n",
       "GoGiaOKWLVsOvhs7/9XXPMde3/IyIFbMnaPDuD5AUdQuOf2XlD0npTExMWYAgNbWVpZcLg8xGAzB\n",
       "JEnSvby82tPT052LaTQatLy8fBtJkt/s3Lnz5h8CwHFcRKPRNu/YsePAjh072KTs0IGCxRg8RgUB\n",
       "TGpSx6cmHgMAfNqN6Xa1GvJ/D35gYAAViURkcXHxUrPZHDRv3rxv4uLiDI7xPXv2bLdYLBUFBQWD\n",
       "jj7M8ZGbm8tkMpmSrKysQiaTScXGxtpqL7dManT6tcu5mgEWWJyOhicozpk+c3NsbKzNFcBbWWEf\n",
       "1Td9/upA30i3ZJv0h8bGxiSFQmFcuHDhOACAWCy+0d3dvX3lypUtzc3N9t8AiIuLk4SEhByLiooy\n",
       "AgAcO3ZsNlPgH3Cttb35JZo+bCYXIQAA9MDiUW7sWS1KN687w6Mera2twa2trfMvXboUOS28Pyb1\n",
       "U08McRtf/sXBSmt5cc35pqamVQqFwhoZGallMpnU/fv3e7RaberVq1d/AABAn1IfQqfTNRs3blQB\n",
       "AFy+fJk7Nja2XCKRnD3dNSorusPq6NfTPR+gPiEEoLRFXO1tS2+zavv27ReftjNttyr0S1/j0rUP\n",
       "PEJQwNwQYGgAACQSyXmNRhMtk8lYAAApKSlKDMP0+fn5QU4ACIKkxMfH1zjYuHnz5uspKSlOfdX7\n",
       "u68fvOePcCzKQR4YVCgATGfa/F3pnzaHWOAXSDyaMCqH2+r8VXErP3D+snXr1tV2dXW94dATExOr\n",
       "6XT6JgAAVCKRcDEMM4WHh9sAAHJyUqNu//wDymKx7AAAVVVVPiaTKXxByrYMvBsxEMSTwPXhuL+8\n",
       "e/fu9fv371+flvbemogYNz+TnsBOFEwMFO8/KzEYDKFVVVX+AAChoaGT7u7ud48ePRro0DEMs+bl\n",
       "5bFRNpud4O3tfdGBzq5uy/5wTUPM/q2zC9atmbVqeHg4Pi0t7WxGRoZFH5rw76I7LI8HqHfwPL7d\n",
       "rfVagzw1NfW81t4ePUfsP/OrnWZ6fPSuUqFQSEkkkrOjo6OvuQR5q0ajiXLoPj4+lzgcTjwKACLH\n",
       "9SqXy2kzhBO8haGo+UA2wZW+p880DxeveGt9aHx9fT09ctlq3sC0NT9e6xsbjuZblSxl7wKtVotM\n",
       "m6PnXvlmZJBtX91CEMQsxyJsNlteXl4udugIghAajQYFAEhPTx9AEGQOimGY8y4oLt63KlJkdB4t\n",
       "P282Z/c/dPrDH04ktJ9P2tfWXP3+2o1vHzunEp6Xq0lsGt08KzUrcSGTQ3n3XeefLCs5UqnT6Rap\n",
       "VCoEACA7O/snvV4f5gJooLa2NsihoygKKEVRzquTND2OCpttGXdG1tOxwOlgzdvE9v30rV+m3W5I\n",
       "2jfJNQmLH85QUUzPNTwvkAx0+vVGhq2/VV9fT+dyuZ01NTXOXQOA3fGxevXq2waDYY5r8KIoij5b\n",
       "jzB5Cz2oKdOo0erOm+1tVuVtBMZXElNMRJR1fvvjx9iPLQ/RjpuB0Xu/Vp7YmH1864YNG3oNBkPw\n",
       "VD7mzp1rJUnSzZUBmqsBggAgGFC/n6jVA+3WoN3tu1Gg39cg2tEx1Cg3CIJHsclxnl2HRorMN8Z0\n",
       "fRW+vr7GJ36Q56Z5h9BIknzGAMJWtvdQYs0EZe3/FSwqk5tpXEMb1JoYD+n8xRdQJl/fMPEgzKhS\n",
       "L40KCD7lGzg92qIyovpb3y/msT2un2psvFpWVvYyl8vtc1nDSXFXV5c7iqLOtEyS5LNBAADfWeKm\n",
       "Ly4uuvR1++sfv51/P5sfnHm2/Iy+mBmwsaHJbpt+Q0jHSS7TZ/PSNVkNJ/973OxtemD1s91CPb12\n",
       "h9MfvZsk5meo1eqo5ORkxTNWn7HR1tY2l8PhOAsUiqIolCRJcETtv/61qzNySYK5trZ2TCgUUiwW\n",
       "S1FSUhLR+bA/kAzwXcAbHa/cFhrTXrJ/v+7IkSPu3Je4Xm5eboJv2wba5QbO5fQwxhsP679Y+nFO\n",
       "jgAAoKSkJILFYjnBGI1G0YYNGwYBnqRoiqIQlKKojurq6gUAAAKBgKQoiuGYkJWVpTCZTOKmI1Xd\n",
       "HwnDcm+cOnOMw+H0FxYWbqpvqv/r9EV+bky+O+/QoUPiqJRt9JphTLFHbKBCR87tWL9EPN9oNIZn\n",
       "ZWUpXHaMCQQCEgCgsrIyEgBuoGq1+qpOp4t2GPH5/BvFxcVLHXpgYGDD8ePH/56Xl2cCAMjMzOxP\n",
       "S0s7pWfow4RCbz/fAF9RT0+P9yeffHJySSqev+9nxLD1FaAlTR8vlJ8vxxzsFhUVLRMIBB0OvwaD\n",
       "YRlFUdfQkpISK0EQ9J6eHgYAQEZGxl2z2Rw0MjJCBwBITk5+xOVyfzpw4ECSw5lQKKQIbxtJm4EN\n",
       "8eZ7jPz0oNv+dK5FG/jq54eH+IFr/S1KabBy0UerAvI+++wzD4vFEpCWljYEACCTyVh2ux3FcXwS\n",
       "BQCw2WxVdXV1bzrQRURE1FVVVTn1zMzM/pkzZ35/9OjRd0pLS19RqVQIy4/tCwDgOcPTQvFQEQBA\n",
       "aWnpK0ERK2LbyVllN341GUJ4YDu8zD5bKyur7O+85tx9Z2fnO1ar9QjA04KkpaVFs2LFir8olcq7\n",
       "YWFhJpFINNnX16drbGyMjY6Ovg0AIBaLjcuXL5d3d3d7XbhwIW704b3F479MeD1qVfJ5Og/bvb4R\n",
       "LwaDMZabm9uwflNa/z/3HOIv5NsDEK7XS7FeevXPvYNLvm5S/GglCK5KpZorlUobXE8g5ObmMqVS\n",
       "6UG1Wu1BURSHoijOiRMnwgoLC7coFAqBo+9Fm0KhEKStmvvto3TeucFN7pVJYbytarXaQyqVHsRx\n",
       "3N15TF1BuBaljr4rV66wOzo63mAymXdzcnKuwwtIUVHRMqvVGkgQxMV7NXvyJijGvcNXB/7z5Zdf\n",
       "bicI4gSO40NTAgD4bVnuODIAT2pElUq1FEEQO4fD6QsPD++fqixHEATj8/ntjoCrqKhwS0hIsJWV\n",
       "leURBHEOx3G563pT3tn5+flBDAbjg6CgoMMpKSlK17GhoSFMJpMFPk04DJIkEQzDzCwW6+5UD5Oa\n",
       "mhrfO3fufECS5GHXnf8pAAAAHMfdURTdimGYPjExsTo0NHTyj2ynEplMxurs7HyHIAiKJMlSHMct\n",
       "U9k9N2vl5+cH0en0TRiGWX18fC65vnh+LxqNBq2oqFhgMpmi7XY7arVaj+zdu/fxn/l/4bSZl5fH\n",
       "5nK5CQAQMtXznCRJePpEbwOAZhzHX4ix/wHzzC/tu64gcwAAAABJRU5ErkJggg=='\n",
       "       style='height:15px; border-radius:12px; display: inline-block; float: left'></img>\n",
       "  \n",
       "\n",
       "\n",
       "</div>\n"
      ]
     },
     "metadata": {},
     "output_type": "display_data"
    }
   ],
   "source": [
    "# Import required libraries and dependencies\n",
    "import pandas as pd\n",
    "import hvplot.pandas\n",
    "from sklearn.cluster import KMeans\n",
    "from sklearn.decomposition import PCA\n",
    "from sklearn.preprocessing import StandardScaler\n",
    "import holoviews as hv\n",
    "hv.extension('matplotlib')"
   ]
  },
  {
   "cell_type": "code",
   "execution_count": 65,
   "metadata": {},
   "outputs": [
    {
     "data": {
      "text/html": [
       "<div>\n",
       "<style scoped>\n",
       "    .dataframe tbody tr th:only-of-type {\n",
       "        vertical-align: middle;\n",
       "    }\n",
       "\n",
       "    .dataframe tbody tr th {\n",
       "        vertical-align: top;\n",
       "    }\n",
       "\n",
       "    .dataframe thead th {\n",
       "        text-align: right;\n",
       "    }\n",
       "</style>\n",
       "<table border=\"1\" class=\"dataframe\">\n",
       "  <thead>\n",
       "    <tr style=\"text-align: right;\">\n",
       "      <th></th>\n",
       "      <th>price_change_percentage_24h</th>\n",
       "      <th>price_change_percentage_7d</th>\n",
       "      <th>price_change_percentage_14d</th>\n",
       "      <th>price_change_percentage_30d</th>\n",
       "      <th>price_change_percentage_60d</th>\n",
       "      <th>price_change_percentage_200d</th>\n",
       "      <th>price_change_percentage_1y</th>\n",
       "    </tr>\n",
       "    <tr>\n",
       "      <th>coin_id</th>\n",
       "      <th></th>\n",
       "      <th></th>\n",
       "      <th></th>\n",
       "      <th></th>\n",
       "      <th></th>\n",
       "      <th></th>\n",
       "      <th></th>\n",
       "    </tr>\n",
       "  </thead>\n",
       "  <tbody>\n",
       "    <tr>\n",
       "      <th>bitcoin</th>\n",
       "      <td>1.08388</td>\n",
       "      <td>7.60278</td>\n",
       "      <td>6.57509</td>\n",
       "      <td>7.67258</td>\n",
       "      <td>-3.25185</td>\n",
       "      <td>83.51840</td>\n",
       "      <td>37.51761</td>\n",
       "    </tr>\n",
       "    <tr>\n",
       "      <th>ethereum</th>\n",
       "      <td>0.22392</td>\n",
       "      <td>10.38134</td>\n",
       "      <td>4.80849</td>\n",
       "      <td>0.13169</td>\n",
       "      <td>-12.88890</td>\n",
       "      <td>186.77418</td>\n",
       "      <td>101.96023</td>\n",
       "    </tr>\n",
       "    <tr>\n",
       "      <th>tether</th>\n",
       "      <td>-0.21173</td>\n",
       "      <td>0.04935</td>\n",
       "      <td>0.00640</td>\n",
       "      <td>-0.04237</td>\n",
       "      <td>0.28037</td>\n",
       "      <td>-0.00542</td>\n",
       "      <td>0.01954</td>\n",
       "    </tr>\n",
       "    <tr>\n",
       "      <th>ripple</th>\n",
       "      <td>-0.37819</td>\n",
       "      <td>-0.60926</td>\n",
       "      <td>2.24984</td>\n",
       "      <td>0.23455</td>\n",
       "      <td>-17.55245</td>\n",
       "      <td>39.53888</td>\n",
       "      <td>-16.60193</td>\n",
       "    </tr>\n",
       "    <tr>\n",
       "      <th>bitcoin-cash</th>\n",
       "      <td>2.90585</td>\n",
       "      <td>17.09717</td>\n",
       "      <td>14.75334</td>\n",
       "      <td>15.74903</td>\n",
       "      <td>-13.71793</td>\n",
       "      <td>21.66042</td>\n",
       "      <td>14.49384</td>\n",
       "    </tr>\n",
       "    <tr>\n",
       "      <th>binancecoin</th>\n",
       "      <td>2.10423</td>\n",
       "      <td>12.85511</td>\n",
       "      <td>6.80688</td>\n",
       "      <td>0.05865</td>\n",
       "      <td>36.33486</td>\n",
       "      <td>155.61937</td>\n",
       "      <td>69.69195</td>\n",
       "    </tr>\n",
       "    <tr>\n",
       "      <th>chainlink</th>\n",
       "      <td>-0.23935</td>\n",
       "      <td>20.69459</td>\n",
       "      <td>9.30098</td>\n",
       "      <td>-11.21747</td>\n",
       "      <td>-43.69522</td>\n",
       "      <td>403.22917</td>\n",
       "      <td>325.13186</td>\n",
       "    </tr>\n",
       "    <tr>\n",
       "      <th>cardano</th>\n",
       "      <td>0.00322</td>\n",
       "      <td>13.99302</td>\n",
       "      <td>5.55476</td>\n",
       "      <td>10.10553</td>\n",
       "      <td>-22.84776</td>\n",
       "      <td>264.51418</td>\n",
       "      <td>156.09756</td>\n",
       "    </tr>\n",
       "    <tr>\n",
       "      <th>litecoin</th>\n",
       "      <td>-0.06341</td>\n",
       "      <td>6.60221</td>\n",
       "      <td>7.28931</td>\n",
       "      <td>1.21662</td>\n",
       "      <td>-17.23960</td>\n",
       "      <td>27.49919</td>\n",
       "      <td>-12.66408</td>\n",
       "    </tr>\n",
       "    <tr>\n",
       "      <th>bitcoin-cash-sv</th>\n",
       "      <td>0.92530</td>\n",
       "      <td>3.29641</td>\n",
       "      <td>-1.86656</td>\n",
       "      <td>2.88926</td>\n",
       "      <td>-24.87434</td>\n",
       "      <td>7.42562</td>\n",
       "      <td>93.73082</td>\n",
       "    </tr>\n",
       "  </tbody>\n",
       "</table>\n",
       "</div>"
      ],
      "text/plain": [
       "                 price_change_percentage_24h  price_change_percentage_7d  \\\n",
       "coin_id                                                                    \n",
       "bitcoin                              1.08388                     7.60278   \n",
       "ethereum                             0.22392                    10.38134   \n",
       "tether                              -0.21173                     0.04935   \n",
       "ripple                              -0.37819                    -0.60926   \n",
       "bitcoin-cash                         2.90585                    17.09717   \n",
       "binancecoin                          2.10423                    12.85511   \n",
       "chainlink                           -0.23935                    20.69459   \n",
       "cardano                              0.00322                    13.99302   \n",
       "litecoin                            -0.06341                     6.60221   \n",
       "bitcoin-cash-sv                      0.92530                     3.29641   \n",
       "\n",
       "                 price_change_percentage_14d  price_change_percentage_30d  \\\n",
       "coin_id                                                                     \n",
       "bitcoin                              6.57509                      7.67258   \n",
       "ethereum                             4.80849                      0.13169   \n",
       "tether                               0.00640                     -0.04237   \n",
       "ripple                               2.24984                      0.23455   \n",
       "bitcoin-cash                        14.75334                     15.74903   \n",
       "binancecoin                          6.80688                      0.05865   \n",
       "chainlink                            9.30098                    -11.21747   \n",
       "cardano                              5.55476                     10.10553   \n",
       "litecoin                             7.28931                      1.21662   \n",
       "bitcoin-cash-sv                     -1.86656                      2.88926   \n",
       "\n",
       "                 price_change_percentage_60d  price_change_percentage_200d  \\\n",
       "coin_id                                                                      \n",
       "bitcoin                             -3.25185                      83.51840   \n",
       "ethereum                           -12.88890                     186.77418   \n",
       "tether                               0.28037                      -0.00542   \n",
       "ripple                             -17.55245                      39.53888   \n",
       "bitcoin-cash                       -13.71793                      21.66042   \n",
       "binancecoin                         36.33486                     155.61937   \n",
       "chainlink                          -43.69522                     403.22917   \n",
       "cardano                            -22.84776                     264.51418   \n",
       "litecoin                           -17.23960                      27.49919   \n",
       "bitcoin-cash-sv                    -24.87434                       7.42562   \n",
       "\n",
       "                 price_change_percentage_1y  \n",
       "coin_id                                      \n",
       "bitcoin                            37.51761  \n",
       "ethereum                          101.96023  \n",
       "tether                              0.01954  \n",
       "ripple                            -16.60193  \n",
       "bitcoin-cash                       14.49384  \n",
       "binancecoin                        69.69195  \n",
       "chainlink                         325.13186  \n",
       "cardano                           156.09756  \n",
       "litecoin                          -12.66408  \n",
       "bitcoin-cash-sv                    93.73082  "
      ]
     },
     "execution_count": 65,
     "metadata": {},
     "output_type": "execute_result"
    }
   ],
   "source": [
    "# Load the data into a Pandas DataFrame\n",
    "df_market_data = pd.read_csv(\n",
    "    \"Resources/crypto_market_data.csv\",\n",
    "    index_col=\"coin_id\")\n",
    "\n",
    "# Display sample data\n",
    "df_market_data.head(10)"
   ]
  },
  {
   "cell_type": "code",
   "execution_count": 66,
   "metadata": {},
   "outputs": [
    {
     "data": {
      "text/html": [
       "<div>\n",
       "<style scoped>\n",
       "    .dataframe tbody tr th:only-of-type {\n",
       "        vertical-align: middle;\n",
       "    }\n",
       "\n",
       "    .dataframe tbody tr th {\n",
       "        vertical-align: top;\n",
       "    }\n",
       "\n",
       "    .dataframe thead th {\n",
       "        text-align: right;\n",
       "    }\n",
       "</style>\n",
       "<table border=\"1\" class=\"dataframe\">\n",
       "  <thead>\n",
       "    <tr style=\"text-align: right;\">\n",
       "      <th></th>\n",
       "      <th>price_change_percentage_24h</th>\n",
       "      <th>price_change_percentage_7d</th>\n",
       "      <th>price_change_percentage_14d</th>\n",
       "      <th>price_change_percentage_30d</th>\n",
       "      <th>price_change_percentage_60d</th>\n",
       "      <th>price_change_percentage_200d</th>\n",
       "      <th>price_change_percentage_1y</th>\n",
       "    </tr>\n",
       "  </thead>\n",
       "  <tbody>\n",
       "    <tr>\n",
       "      <th>count</th>\n",
       "      <td>41.000000</td>\n",
       "      <td>41.000000</td>\n",
       "      <td>41.000000</td>\n",
       "      <td>41.000000</td>\n",
       "      <td>41.000000</td>\n",
       "      <td>41.000000</td>\n",
       "      <td>41.000000</td>\n",
       "    </tr>\n",
       "    <tr>\n",
       "      <th>mean</th>\n",
       "      <td>-0.269686</td>\n",
       "      <td>4.497147</td>\n",
       "      <td>0.185787</td>\n",
       "      <td>1.545693</td>\n",
       "      <td>-0.094119</td>\n",
       "      <td>236.537432</td>\n",
       "      <td>347.667956</td>\n",
       "    </tr>\n",
       "    <tr>\n",
       "      <th>std</th>\n",
       "      <td>2.694793</td>\n",
       "      <td>6.375218</td>\n",
       "      <td>8.376939</td>\n",
       "      <td>26.344218</td>\n",
       "      <td>47.365803</td>\n",
       "      <td>435.225304</td>\n",
       "      <td>1247.842884</td>\n",
       "    </tr>\n",
       "    <tr>\n",
       "      <th>min</th>\n",
       "      <td>-13.527860</td>\n",
       "      <td>-6.094560</td>\n",
       "      <td>-18.158900</td>\n",
       "      <td>-34.705480</td>\n",
       "      <td>-44.822480</td>\n",
       "      <td>-0.392100</td>\n",
       "      <td>-17.567530</td>\n",
       "    </tr>\n",
       "    <tr>\n",
       "      <th>25%</th>\n",
       "      <td>-0.608970</td>\n",
       "      <td>0.047260</td>\n",
       "      <td>-5.026620</td>\n",
       "      <td>-10.438470</td>\n",
       "      <td>-25.907990</td>\n",
       "      <td>21.660420</td>\n",
       "      <td>0.406170</td>\n",
       "    </tr>\n",
       "    <tr>\n",
       "      <th>50%</th>\n",
       "      <td>-0.063410</td>\n",
       "      <td>3.296410</td>\n",
       "      <td>0.109740</td>\n",
       "      <td>-0.042370</td>\n",
       "      <td>-7.544550</td>\n",
       "      <td>83.905200</td>\n",
       "      <td>69.691950</td>\n",
       "    </tr>\n",
       "    <tr>\n",
       "      <th>75%</th>\n",
       "      <td>0.612090</td>\n",
       "      <td>7.602780</td>\n",
       "      <td>5.510740</td>\n",
       "      <td>4.578130</td>\n",
       "      <td>0.657260</td>\n",
       "      <td>216.177610</td>\n",
       "      <td>168.372510</td>\n",
       "    </tr>\n",
       "    <tr>\n",
       "      <th>max</th>\n",
       "      <td>4.840330</td>\n",
       "      <td>20.694590</td>\n",
       "      <td>24.239190</td>\n",
       "      <td>140.795700</td>\n",
       "      <td>223.064370</td>\n",
       "      <td>2227.927820</td>\n",
       "      <td>7852.089700</td>\n",
       "    </tr>\n",
       "  </tbody>\n",
       "</table>\n",
       "</div>"
      ],
      "text/plain": [
       "       price_change_percentage_24h  price_change_percentage_7d  \\\n",
       "count                    41.000000                   41.000000   \n",
       "mean                     -0.269686                    4.497147   \n",
       "std                       2.694793                    6.375218   \n",
       "min                     -13.527860                   -6.094560   \n",
       "25%                      -0.608970                    0.047260   \n",
       "50%                      -0.063410                    3.296410   \n",
       "75%                       0.612090                    7.602780   \n",
       "max                       4.840330                   20.694590   \n",
       "\n",
       "       price_change_percentage_14d  price_change_percentage_30d  \\\n",
       "count                    41.000000                    41.000000   \n",
       "mean                      0.185787                     1.545693   \n",
       "std                       8.376939                    26.344218   \n",
       "min                     -18.158900                   -34.705480   \n",
       "25%                      -5.026620                   -10.438470   \n",
       "50%                       0.109740                    -0.042370   \n",
       "75%                       5.510740                     4.578130   \n",
       "max                      24.239190                   140.795700   \n",
       "\n",
       "       price_change_percentage_60d  price_change_percentage_200d  \\\n",
       "count                    41.000000                     41.000000   \n",
       "mean                     -0.094119                    236.537432   \n",
       "std                      47.365803                    435.225304   \n",
       "min                     -44.822480                     -0.392100   \n",
       "25%                     -25.907990                     21.660420   \n",
       "50%                      -7.544550                     83.905200   \n",
       "75%                       0.657260                    216.177610   \n",
       "max                     223.064370                   2227.927820   \n",
       "\n",
       "       price_change_percentage_1y  \n",
       "count                   41.000000  \n",
       "mean                   347.667956  \n",
       "std                   1247.842884  \n",
       "min                    -17.567530  \n",
       "25%                      0.406170  \n",
       "50%                     69.691950  \n",
       "75%                    168.372510  \n",
       "max                   7852.089700  "
      ]
     },
     "execution_count": 66,
     "metadata": {},
     "output_type": "execute_result"
    }
   ],
   "source": [
    "# Generate summary statistics\n",
    "df_market_data.describe()"
   ]
  },
  {
   "cell_type": "code",
   "execution_count": 67,
   "metadata": {},
   "outputs": [
    {
     "name": "stderr",
     "output_type": "stream",
     "text": [
      "c:\\Users\\alvar\\anaconda3\\envs\\machlearn\\Lib\\site-packages\\holoviews\\core\\util.py:1175: FutureWarning: unique with argument that is not not a Series, Index, ExtensionArray, or np.ndarray is deprecated and will raise in a future version.\n",
      "  return pd.unique(values)\n",
      "c:\\Users\\alvar\\anaconda3\\envs\\machlearn\\Lib\\site-packages\\holoviews\\core\\util.py:1175: FutureWarning: unique with argument that is not not a Series, Index, ExtensionArray, or np.ndarray is deprecated and will raise in a future version.\n",
      "  return pd.unique(values)\n",
      "c:\\Users\\alvar\\anaconda3\\envs\\machlearn\\Lib\\site-packages\\holoviews\\core\\util.py:1175: FutureWarning: unique with argument that is not not a Series, Index, ExtensionArray, or np.ndarray is deprecated and will raise in a future version.\n",
      "  return pd.unique(values)\n",
      "c:\\Users\\alvar\\anaconda3\\envs\\machlearn\\Lib\\site-packages\\holoviews\\core\\util.py:1175: FutureWarning: unique with argument that is not not a Series, Index, ExtensionArray, or np.ndarray is deprecated and will raise in a future version.\n",
      "  return pd.unique(values)\n",
      "c:\\Users\\alvar\\anaconda3\\envs\\machlearn\\Lib\\site-packages\\holoviews\\core\\util.py:1175: FutureWarning: unique with argument that is not not a Series, Index, ExtensionArray, or np.ndarray is deprecated and will raise in a future version.\n",
      "  return pd.unique(values)\n",
      "c:\\Users\\alvar\\anaconda3\\envs\\machlearn\\Lib\\site-packages\\holoviews\\core\\util.py:1175: FutureWarning: unique with argument that is not not a Series, Index, ExtensionArray, or np.ndarray is deprecated and will raise in a future version.\n",
      "  return pd.unique(values)\n",
      "c:\\Users\\alvar\\anaconda3\\envs\\machlearn\\Lib\\site-packages\\holoviews\\core\\util.py:1175: FutureWarning: unique with argument that is not not a Series, Index, ExtensionArray, or np.ndarray is deprecated and will raise in a future version.\n",
      "  return pd.unique(values)\n",
      "c:\\Users\\alvar\\anaconda3\\envs\\machlearn\\Lib\\site-packages\\holoviews\\core\\util.py:1175: FutureWarning: unique with argument that is not not a Series, Index, ExtensionArray, or np.ndarray is deprecated and will raise in a future version.\n",
      "  return pd.unique(values)\n",
      "c:\\Users\\alvar\\anaconda3\\envs\\machlearn\\Lib\\site-packages\\holoviews\\core\\util.py:1175: FutureWarning: unique with argument that is not not a Series, Index, ExtensionArray, or np.ndarray is deprecated and will raise in a future version.\n",
      "  return pd.unique(values)\n",
      "c:\\Users\\alvar\\anaconda3\\envs\\machlearn\\Lib\\site-packages\\holoviews\\core\\util.py:1175: FutureWarning: unique with argument that is not not a Series, Index, ExtensionArray, or np.ndarray is deprecated and will raise in a future version.\n",
      "  return pd.unique(values)\n",
      "c:\\Users\\alvar\\anaconda3\\envs\\machlearn\\Lib\\site-packages\\holoviews\\core\\util.py:1175: FutureWarning: unique with argument that is not not a Series, Index, ExtensionArray, or np.ndarray is deprecated and will raise in a future version.\n",
      "  return pd.unique(values)\n",
      "c:\\Users\\alvar\\anaconda3\\envs\\machlearn\\Lib\\site-packages\\holoviews\\core\\util.py:1175: FutureWarning: unique with argument that is not not a Series, Index, ExtensionArray, or np.ndarray is deprecated and will raise in a future version.\n",
      "  return pd.unique(values)\n",
      "c:\\Users\\alvar\\anaconda3\\envs\\machlearn\\Lib\\site-packages\\holoviews\\core\\util.py:1175: FutureWarning: unique with argument that is not not a Series, Index, ExtensionArray, or np.ndarray is deprecated and will raise in a future version.\n",
      "  return pd.unique(values)\n",
      "c:\\Users\\alvar\\anaconda3\\envs\\machlearn\\Lib\\site-packages\\holoviews\\core\\util.py:1175: FutureWarning: unique with argument that is not not a Series, Index, ExtensionArray, or np.ndarray is deprecated and will raise in a future version.\n",
      "  return pd.unique(values)\n",
      "c:\\Users\\alvar\\anaconda3\\envs\\machlearn\\Lib\\site-packages\\holoviews\\core\\util.py:1175: FutureWarning: unique with argument that is not not a Series, Index, ExtensionArray, or np.ndarray is deprecated and will raise in a future version.\n",
      "  return pd.unique(values)\n",
      "c:\\Users\\alvar\\anaconda3\\envs\\machlearn\\Lib\\site-packages\\holoviews\\core\\util.py:1175: FutureWarning: unique with argument that is not not a Series, Index, ExtensionArray, or np.ndarray is deprecated and will raise in a future version.\n",
      "  return pd.unique(values)\n",
      "c:\\Users\\alvar\\anaconda3\\envs\\machlearn\\Lib\\site-packages\\holoviews\\core\\util.py:1175: FutureWarning: unique with argument that is not not a Series, Index, ExtensionArray, or np.ndarray is deprecated and will raise in a future version.\n",
      "  return pd.unique(values)\n",
      "c:\\Users\\alvar\\anaconda3\\envs\\machlearn\\Lib\\site-packages\\holoviews\\core\\util.py:1175: FutureWarning: unique with argument that is not not a Series, Index, ExtensionArray, or np.ndarray is deprecated and will raise in a future version.\n",
      "  return pd.unique(values)\n"
     ]
    },
    {
     "data": {
      "text/html": [
       "<img src='data:image/png;base64,iVBORw0KGgoAAAANSUhEUgAAAyoAAAGZCAYAAABmCMU1AAAAOXRFWHRTb2Z0d2FyZQBNYXRwbG90bGliIHZlcnNpb24zLjcuMiwgaHR0cHM6Ly9tYXRwbG90bGliLm9yZy8pXeV/AAAACXBIWXMAAAsTAAALEwEAmpwYAADzFklEQVR4nOzdeXzNd9r4/9c5Jyc52UOIhmgTI0Iii2y0UVVEdLTRaahmdNXeDNoanTF1162lw129f+10bkqN3lqUTjP4ou2okqLaIMQea4pIExGRfc9ZPr8/4nwI2ZAFuZ6PR5dzzmd5f062c32u63q/NYqiKAghhBBCCCHEHUTb1gMQQgghhBBCiOtJoCKEEEIIIYS440igIoQQQgghhLjjSKAihBBCCCGEuONIoCKEEEIIIYS440igIoQQQgghhLjj3NGByogRI9p6CEIIIYQQQog2cEcHKpcvX27rIQghhBBCCCHawB0dqAghhBBCCCHaJwlUhBBCCCGEEHccCVSEEEIIIYQQdxybth6AEEIIIUR7ZDQayczMpLKysq2HIkSbMRgMeHl5odfrb3hNAhUhhBBCiDaQmZmJs7Mz3t7eaDSath6OEK1OURTy8vLIzMzEx8fnhtel9EsIIYQQog1UVlbi7u4uQYpotzQaDe7u7vVmFSVQEUIIIYRoIxKkiPauoZ8BCVSEEEIIIcRd4dFHH+X777+v9dzf//53Jk2a1KT93377bRITExvcZvDgwaSkpNzw/PLly3n11VebPlhx2yRQEUIIIYQQd4X4+Hi++uqrWs999dVXxMfHN7qv2Wzm3XffZdiwYS01PNHMJFARQgghhBB3hdGjR/Pvf/+b6upqANLT07lw4QL//Oc/CQ8PJyAggHfeeUfd3tvbmzfffJPQ0FDWrFnDiy++yNq1awF49913iYiIoG/fvkyYMAFFUdT9vvjiC0JCQujbty979+69YRy5ubnExcURERFBREQESUlJLXzl7ZMEKkIIIYQQ4q7QsWNHIiMj+e6774CabMrTTz/NvHnzSElJ4ciRI/z4448cOXJE3cfd3Z0DBw7wzDPP1DrWq6++yr59+0hNTaWiooJvv/1Wfa28vJxDhw6xePFixo8ff8M4pk6dyrRp09i3bx/r1q3jlVdeaaErbt8kUBFCCCGEEHeNa8u/rGVf//rXvwgNDaVfv34cO3aM48ePq9uPHTu2zuNs376d/v37ExgYyLZt2zh27FitcwAMGjSI4uJiCgsLa+2bmJjIq6++SkhICLGxsRQXF1NaWtrMVyqaFKh89NFHBAQE0LdvX+Lj46msrOTcuXP079+fnj17MnbsWDUFV1VVxdixY+nZsyf9+/cnPT1dPc57771Hz5498fPzu6ERSgghhBBCiMaMGjWKH374gQMHDlBeXk7Hjh354IMP+OGHHzhy5AgjR46sNd2to6PjDceorKxk8uTJrF27lqNHj/If//Eftfa5fiaq6x9bLBb27NnDoUOHOHToEFlZWTg5OTXzlYpGA5WsrCwWLFhASkoKqampmM1mvvrqK958802mTZvGL7/8QocOHVi2bBkAy5Yto0OHDvzyyy9MmzaNN998E4Djx4/z1VdfcezYMTZv3szkyZMxm80te3VCCCGEEOKe4uTkxKOPPsr48eOJj4+nuLgYR0dHXF1dycnJUcvCGmINSjp16kRpaanat2KVkJAAwM8//4yrqyuurq61Xh8+fDgLFy5UHx86dOg2r0rUpUkZFZPJREVFBSaTifLycjw9Pdm2bRujR48G4IUXXmDDhg0AbNy4kRdeeAGoaXj64YcfUBSFjRs38swzz2BnZ4ePjw89e/asszlJCCGEEEKIhsTHx3P48GHi4+MJDg6mX79+9O7dm9///vdERUU1ur+bmxv/8R//Qd++fYmJiSEiIqLW6waDgX79+vGHP/xBvRl/LetN/KCgIPz9/VmyZEmzXZu4yqaxDbp168af//xn7r//fuzt7Rk+fDhhYWG4ublhY1Ozu5eXF1lZWUBNBqZ79+41B7exwdXVlby8PLKyshgwYIB63Gv3EUIIIYQQoqmefPLJWrN0LV++vM7trm1BuH67uXPnMnfu3Bv22bFjR53HevHFF3nxxReBmkyMNesiWk6jGZWCggI2btzIuXPnuHDhAmVlZWzevLnFBrR06VLCw8MJDw8nNze3xc4jhBBCCCGEuHM1GqgkJibi4+ND586d0ev1PPXUUyQlJVFYWIjJZAIgMzOTbt26ATUZmF9//RWoKRkrKirC3d291vPX73OtCRMmkJKSQkpKCp07d26WixRCCCGEEELcXRoNVO6//3727NlDeXk5iqLwww8/4O/vz6OPPqo2Hq1YsYJRo0YBEBsby4oVKwBYu3YtQ4YMQaPREBsby1dffUVVVRXnzp0jLS2NyMjIFrw0IYQQQgghxN2q0R6V/v37M3r0aEJDQ7GxsaFfv35MmDCBkSNH8swzz/Bf//Vf9OvXj5dffhmAl19+meeee46ePXvSsWNHdZ7rgIAAnn76afz9/bGxsWHRokXodLqWvTohhBDiJpiMZnasOsVvwjzwCerU1sMRQoh2TaNc24l0hwkPDyclJaWthyGEEKKd+PVEPl//7yG6+rrxuz+FtvVwxD3uxIkT9OnTp62HIUSbq+9nQVamF0IIIa6oKq/pvayqMLXxSIQQQkigIoQQQlxRXVkToBgrJVARQoi2JoGKEEIIcYWx0gxAdYW5jUcixJ3l7bffJjExsUXPMXjwYCn5r0NhYSGLFy9utfP97W9/w9/fn6CgIIYOHcr58+drvV5cXIyXlxevvvqq+pyTk1OLjEUCFSGEEOIKa0alutLEHdzCKUSrMpvNvPvuuwwbNqyth3JXMZub54ZHawcq/fr1IyUlhSNHjjB69Gj+8pe/1Hp91qxZDBo0qFXGIoGKEEIIcUX1ld4Ui1nBbLK08WhEe9Lvi7QW+acx6enp9O7dm3HjxtGnTx9Gjx5NeXk53t7evPnmm4SGhrJmzRpefPFFdVmKffv28dBDDxEcHExkZCQlJSWYzWamT59OREQEQUFB/OMf/2jwvO+//z6BgYEEBwczY8YM9fk1a9YQGRlJr169+Omnn9QxPvzww4SGhhIaGsquXbuAmhXkBw8ezOjRo9VrsN5g2LRpE7179yYsLIzXX3+dxx9/HICysjLGjx9PZGQk/fr1Y+PGjfWOcfny5YwaNYrBgwfj6+vLnDlz1NdWrVpFZGQkISEhTJw4UQ1KnJyc+NOf/kRwcDC7d+9m5cqVBAUFERwczHPPPQdAbm4ucXFxREREEBERQVJSEgCzZ89m/PjxDB48mB49erBgwQIAZsyYwZkzZwgJCWH69OmUlpYydOhQQkNDCQwMrHUNf/3rX/Hz82PgwIHEx8fzwQcfAHDmzBlGjBhBWFgYDz/8MCdPnqz3uh999FEcHBwAGDBgAJmZmepr+/fvJycnh+HDh9+w38yZMwkODmbAgAHk5OTUe/yb0ej0xEIIIUR7UV159Q5odYUZG71Moy/ufadOnWLZsmVERUUxfvx49e69u7s7Bw4cAGDz5s0AVFdXM3bsWBISEoiIiKC4uBh7e3uWLVuGq6sr+/bto6qqiqioKIYPH46Pj88N5/vuu+/YuHEjycnJODg4kJ+fr75mMpnYu3cvmzZtYs6cOSQmJuLh4cHWrVsxGAykpaURHx+vlogdPHiQY8eO0bVrV6KiokhKSiI8PJyJEyeyc+dOfHx8iI+PV48/b948hgwZwmeffUZhYSGRkZEMGzYMR0fHOt+bvXv3kpqaioODAxEREYwcORJHR0cSEhJISkpCr9czefJkVq9ezfPPP09ZWRn9+/fnww8/5NixY8ydO5ddu3bRqVMn9TqnTp3KtGnTGDhwIBkZGcTExHDixAkATp48yfbt2ykpKcHPz49JkyYxf/58UlNTOXTokPoerV+/HhcXFy5fvsyAAQOIjY0lJSWFdevWcfjwYYxGI6GhoYSFhQE1C6ovWbIEX19fkpOTmTx5Mtu2bWv0e2PZsmU89thjAFgsFv70pz+xatWqG8oAy8rKGDBgAPPmzeMvf/kLn376Kf/1X//V6PEbI4GKEEIIcUX1NU301ZUmHFxs23A0oj05+Jxvm527e/fuREVFAfDss8+qd/LHjh17w7anTp3C09OTiIgIAFxcXADYsmULR44cUbMuRUVFpKWl1RmoJCYm8tJLL6l37Tt27Ki+9tRTTwEQFhZGeno6AEajkVdffZVDhw6h0+k4ffq0un1kZCReXl4AhISEkJ6ejpOTEz169FDPHR8fz9KlS9Vxfv3112qmobKykoyMjHqniY6Ojsbd3V0d288//4yNjQ379+9X34OKigo8PDwA0Ol0xMXFAbBt2zbGjBlDp06dal1nYmIix48fV89RXFxMaWkpACNHjsTOzg47Ozs8PDzqzEwoisJbb73Fzp070Wq1ZGVlkZOTQ1JSEqNGjcJgMGAwGHjiiScAKC0tZdeuXYwZM0Y9RlVVVZ3Xe61Vq1aRkpLCjz/+CMDixYv57W9/q77f17K1tVWzVmFhYWzdurXR4zeFBCpCCCHEFdc20RsrpaFetA8ajabOx/VlGeqiKAoLFy4kJibmtsZiZ2cH1HzgN5lqbhx89NFHdOnShcOHD2OxWDAYDDdsf/0+DY1z3bp1+Pn5NWk8db03iqLwwgsv8N57792wvcFgaHRBc4vFwp49e2pdh1VTrmf16tXk5uayf/9+9Ho93t7eVFZWNng+Nzc3NSPTFImJicybN48ff/xRHdPu3bv56aefWLx4MaWlpVRXV+Pk5MT8+fPR6/Xqe9WUr0NTSY+KEEIIccW10xJXy1oqop3IyMhg9+7dAHz55ZcMHDiw3m39/PzIzs5m3759AJSUlGAymYiJieGTTz7BaDQCcPr0acrKyuo8RnR0NJ9//jnl5eUAtUq/6lJUVISnpydarZYvvvii0SZ1Pz8/zp49q2ZkEhIS1NdiYmJYuHCh2sty8ODBBo+1detW8vPzqaioYMOGDURFRTF06FDWrl3LpUuX1PFfPzMWwJAhQ1izZg15eXm1rnP48OEsXLhQ3a6xAMLZ2ZmSkhL1cVFRER4eHuj1erZv366eOyoqim+++YbKykpKS0v59ttvgZqsl4+PD2vWrAFqgrXDhw/Xe76DBw8yceJEvv76azVTBDUBUkZGBunp6XzwwQc8//zzzJ8/v8Gx3y4JVIQQQogrrl3oURZ9FO2Fn58fixYtok+fPhQUFDBp0qR6t7W1tSUhIYHXXnuN4OBgoqOjqays5JVXXsHf35/Q0FD69u3LxIkT672rPmLECGJjYwkPDyckJEQtw6rP5MmTWbFiBcHBwZw8ebLRTI+9vT2LFy9Wm8ednZ1xdXUFamasMhqNBAUFERAQwKxZsxo8VmRkJHFxcQQFBREXF0d4eDj+/v7MnTuX4cOHExQURHR0NNnZ2TfsGxAQwMyZM3nkkUcIDg7mjTfeAGDBggWkpKQQFBSEv78/S5YsaXAM7u7uREVF0bdvX6ZPn864ceNISUkhMDCQlStX0rt3bwAiIiKIjY0lKCiIxx57jMDAQPW6V69ezbJlywgODiYgIKDBSQSsDftjxowhJCSE2NjYBsfXkjTKHTz/Ynh4uMynLYQQotWseCuJ0vya2u1hL/bBb4BnG49I3MtOnDhRb29Ea0lPT+fxxx8nNTW1TcfR3EpLS3FyckJRFKZMmYKvry/Tpk27qWMsX76clJQUPv744xYaZfOzXnd5eTmDBg1i6dKlhIaGtvWwGlXfz4JkVIQQQogrru1LqZYeFSHuWp9++ikhISEEBARQVFTExIkT23pIrWLChAmEhIQQGhpKXFzcXRGkNEQyKkIIIQQ1ddufTN6O9a/igCd7EDbCu03HJO5td0JGpSUdPXpUXTvEys7OjuTk5DYaUd2+//573nzzzVrP+fj4sH79+jYaUeuYN2+e2rdiNWbMGGbOnNnqY6nvZ0ECFSGEEAIwVplZOvVH9XFozAM8+LvftOGIxL3uXg9UhGgqKf0SQgghGnDtGip1PRZCCNG6JFARQgghuHE6YglUhBCibUmgIoQQQnBj8/y1iz8KIYRofRKoCCGEEFzNoFgXojZKRkUIIdqUBCpCCCEEYLySQXF0swNkemIhrvX222+TmJjYoucYPHiwTKJUh8LCQhYvXtxq55s2bRohISGEhITQq1cv3Nzc6tzuxRdfZO3atS06FpsWPboQQghxl7BmVBzd7CgtqLqhZ0WI9spsNvPuu++29TDuOmazGZ1Od9vHsQYqkydPboZRNe6jjz5S/3/hwoUcPHiwVc5bF8moCCGEEFwNVJw62NV6LERrMD/Zr0X+aUx6ejq9e/dm3Lhx9OnTh9GjR1NeXo63tzdvvvkmoaGhrFmzptbd83379vHQQw8RHBxMZGQkJSUlmM1mpk+fTkREBEFBQfzjH/9o8Lzvv/8+gYGBBAcHM2PGDPX5NWvWEBkZSa9evfjpp5/UMT788MOEhoYSGhrKrl27ANixYweDBw9m9OjR6jVYV93YtGkTvXv3JiwsjNdff53HH38cgLKyMsaPH09kZCT9+vVj48aN9Y5x+fLljBo1isGDB+Pr68ucOXPU11atWkVkZCQhISFMnDgRs7kmA+vk5MSf/vQngoOD2b17NytXriQoKIjg4GB1TZnc3Fzi4uKIiIggIiKCpKQkAGbPns348eMZPHgwPXr0YMGCBQDMmDGDM2fOEBISwvTp0yktLWXo0KGEhoYSGBhY6xr++te/4ufnx8CBA4mPj+eDDz4A4MyZM4wYMYKwsDAefvhhTp482eDXx+qf//wn8fHxQM1aU6+++ip+fn4MGzaMS5cuNekYt0MyKkIIIQRXm+ed3Aw1j6X0S7QTp06dYtmyZURFRTF+/Hi1zMjd3Z0DBw4AsHnzZgCqq6sZO3YsCQkJREREUFxcjL29PcuWLcPV1ZV9+/ZRVVVFVFQUw4cPx8fH54bzfffdd2zcuJHk5GQcHBzIz89XXzOZTOzdu5dNmzYxZ84cEhMT8fDwYOvWrRgMBtLS0oiPj1dLxA4ePMixY8fo2rUrUVFRJCUlER4ezsSJE9m5cyc+Pj7qB22oWeRwyJAhfPbZZxQWFhIZGcmwYcNwdHSs873Zu3cvqampODg4EBERwciRI3F0dCQhIYGkpCT0ej2TJ09m9erVPP/885SVldG/f38+/PBDjh07xty5c9m1axedOnVSr3Pq1KlMmzaNgQMHkpGRQUxMDCdOnADg5MmTbN++nZKSEvz8/Jg0aRLz588nNTWVQ4cOqe/R+vXrcXFx4fLlywwYMIDY2FhSUlJYt24dhw8fxmg0EhoaSlhYGFCzYv2SJUvw9fUlOTmZyZMns23btga/L86fP8+5c+cYMmQIAOvXr+fUqVMcP36cnJwc/P39GT9+fIPHuF0SqAghhBBczaDYu+jRaDWYjRbMJgs6Gyk+EC1Pt6Htymu6d+9OVFQUAM8++6x6J3/s2LE3bHvq1Ck8PT2JiIgAwMXFBYAtW7Zw5MgRNetSVFREWlpanYFKYmIiL730Eg4ODgB07NhRfe2pp54CICwsjPT0dACMRiOvvvoqhw4dQqfTcfr0aXX7yMhIvLy8AAgJCSE9PR0nJyd69Oihnjs+Pp6lS5eq4/z666/VTENlZSUZGRn1LrwZHR2Nu7u7Oraff/4ZGxsb9u/fr74HFRUVeHh4AKDT6YiLiwNg27ZtjBkzhk6dOtW6zsTERI4fP66eo7i4mNLSUgBGjhyJnZ0ddnZ2eHh4kJOTc8OYFEXhrbfeYufOnWi1WrKyssjJySEpKYlRo0ZhMBgwGAw88cQTAJSWlrJr1y7GjBmjHqOqqqrO673WV199xejRo9XytZ07dxIfH49Op6Nr165qANOSJFARQgghuJpBsbO3wdago6rchLHSjM5JAhVxb9NYp7q77nF9WYa6KIrCwoULiYmJua2x2NnVlF7qdDpMppqbBx999BFdunTh8OHDWCwWDAbDDdtfv09D41y3bh1+fn5NGk9d742iKLzwwgu89957N2xvMBga7UuxWCzs2bOn1nVYNeV6Vq9eTW5uLvv370ev1+Pt7U1lZWWD53Nzc1MzMk311VdfsWjRopvap7nJb18hhBCCqws+6g022Bpq7uNJn4poDzIyMti9ezcAX375JQMHDqx3Wz8/P7Kzs9m3bx8AJSUlmEwmYmJi+OSTTzAajQCcPn2asrKyOo8RHR3N559/Tnl5OUCt0q+6FBUV4enpiVar5YsvvlD7QRoa49mzZ9WMTEJCgvpaTEwMCxcuVHtZGmsU37p1K/n5+VRUVLBhwwaioqIYOnQoa9euVXs08vPzOX/+/A37DhkyhDVr1pCXl1frOocPH87ChQvV7RoLIJydnSkpKVEfFxUV4eHhgV6vZ/v27eq5o6Ki+Oabb6isrKS0tJRvv/0WqMl6+fj4sGbNGqAmWDt8+HCD5zx58iQFBQU8+OCD6nODBg0iISEBs9lMdnY227dvb/AYzUECFSGEEIKrQYmtvQ229rpazwlxL/Pz82PRokX06dOHgoICJk2aVO+2tra2JCQk8NprrxEcHEx0dDSVlZW88sor+Pv7ExoaSt++fZk4cWK92Y0RI0YQGxtLeHg4ISEhahlWfSZPnsyKFSsIDg7m5MmTjWZ67O3tWbx4sdo87uzsjKurKwCzZs3CaDQSFBREQEAAs2bNavBYkZGRxMXFERQURFxcHOHh4fj7+zN37lyGDx9OUFAQ0dHRZGdn37BvQEAAM2fO5JFHHiE4OJg33ngDgAULFpCSkkJQUBD+/v4sWbKkwTG4u7sTFRVF3759mT59OuPGjSMlJYXAwEBWrlxJ7969AYiIiCA2NpagoCAee+wxAgMD1etevXo1y5YtIzg4mICAgAYnEYCabMozzzxTK6P0u9/9Dl9fX/z9/Xn++edrBTEtRaNYQ8o7UHh4uMynLYQQolX8vw/2k/1LEU++0Y/kjWfJPlPE7/7Uj66+Hdp6aOIedeLEiXp7I1pLeno6jz/+OKmpqW06juZWWlqKk5MTiqIwZcoUfH19mTZt2k0dY/ny5aSkpPDxxx+30Cibn/W6y8vLGTRoEEuXLiU0NLSth9Wo+n4WJKMihBBCcLVHxdZgg95a+lUhM38JcTf69NNPCQkJISAggKKiIiZOnNjWQ2oVEyZMICQkhNDQUOLi4u6KIKUh0kwvhBBCAEa19EsnpV+i3fD29m6xbMrRo0fVtUOs7OzsSE5ObpHzXWvatGlNzqB8//33vPnmm7We8/HxYf369bz44ostMLqW8+WXXzZ523nz5ql9K1Zjxoxh5syZzT2sWyaBihBCCMHV7ElNj4q1mV4yKkLcqsDAwJueaaotxMTE3PZsZXejmTNn3lFBSV2k9EsIIUS7pyjK1WZ6u2tm/aqQjIoQQrQVCVSEEEK0e2aTBYtZQWejRafXYmuQ0i8hhGhrEqgIIYRo966WfdUEKFfXUZHSLyGEaCsSqAghhGj3rJkT62xf1oDFKKVfQgjRZiRQEUII0e4Z1amJJaMiRF3efvttEhMTW/QcgwcPlvXz6lBYWMjixYtb7Xw7d+4kNDQUGxsb1q5de8PrxcXFeHl58eqrr9a5//Lly+t97WZJoCKEEKLdszbNWwOUq4GKZFSEMJvNvPvuuwwbNqyth3JXMZub50ZHawcq999/P8uXL+f3v/99na/PmjWLQYMGtcpYJFARQgjR7qkzfl2ZllhvXUdFSr9EK7mw/sEW+acx6enp9O7dm3HjxtGnTx9Gjx5NeXk53t7evPnmm4SGhrJmzRpefPFF9e76vn37eOihhwgODiYyMpKSkhLMZjPTp08nIiKCoKAg/vGPfzR43vfff5/AwECCg4OZMWOG+vyaNWuIjIykV69e/PTTT+oYH374YUJDQwkNDWXXrl0A7Nixg8GDBzN69Gj1GhRFAWDTpk307t2bsLAwXn/9dR5//HEAysrKGD9+PJGRkfTr14+NGzfWO8bly5czatQoBg8ejK+vL3PmzFFfW7VqFZGRkYSEhDBx4kQ1KHFycuJPf/oTwcHB7N69m5UrVxIUFERwcLC6pkxubi5xcXFEREQQERFBUlISALNnz2b8+PEMHjyYHj16sGDBAgBmzJjBmTNnCAkJYfr06ZSWljJ06FBCQ0MJDAysdQ1//etf8fPzY+DAgcTHx/PBBx8AcObMGUaMGEFYWBgPP/wwJ0+erPe6vb29CQoKQqu9MUzYv38/OTk5DB8+vNbzn3/+Ob169SIyMlK9nuYg66gIIYRo96ql9Eu0Y6dOnWLZsmVERUUxfvx49e69u7s7Bw4cAGDz5s0AVFdXM3bsWBISEoiIiKC4uBh7e3uWLVuGq6sr+/bto6qqiqioKIYPH46Pj88N5/vuu+/YuHEjycnJODg4kJ+fr75mMpnYu3cvmzZtYs6cOSQmJuLh4cHWrVsxGAykpaURHx+vlogdPHiQY8eO0bVrV6KiokhKSiI8PJyJEyeyc+dOfHx8iI+PV48/b948hgwZwmeffUZhYSGRkZEMGzYMR0fHOt+bvXv3kpqaioODAxEREYwcORJHR0cSEhJISkpCr9czefJkVq9ezfPPP09ZWRn9+/fnww8/5NixY8ydO5ddu3bRqVMn9TqnTp3KtGnTGDhwIBkZGcTExHDixAkATp48yfbt2ykpKcHPz49JkyYxf/58UlNT1TVpTCYT69evx8XFhcuXLzNgwABiY2NJSUlh3bp1HD58GKPRSGhoKGFhYUDNivVLlizB19eX5ORkJk+ezLZt227q+8RisfCnP/2JVatW1SoDzM7O5p133mH//v24urry6KOP0q9fv5s6dn0kUBFCCNHuSemXaGtdf7e7zc7dvXt3oqKiAHj22WfVO/ljx469YdtTp07h6elJREQEAC4uLgBs2bKFI0eOqFmXoqIi0tLS6gxUEhMTeemll3BwcACgY8eO6mtPPfUUAGFhYaSnpwNgNBp59dVXOXToEDqdjtOnT6vbR0ZG4uXlBUBISAjp6ek4OTnRo0cP9dzx8fEsXbpUHefXX3+tZhoqKyvJyMigT58+db430dHRuLu7q2P7+eefsbGxYf/+/ep7UFFRgYeHBwA6nY64uDgAtm3bxpgxY+jUqVOt60xMTOT48ePqOYqLiyktLQVg5MiR2NnZYWdnh4eHBzk5OTeMSVEU3nrrLXbu3IlWqyUrK4ucnBySkpIYNWoUBoMBg8HAE088AUBpaSm7du1izJgx6jGqqqrqvN6GLF68mN/+9rfq+22VnJzM4MGD6dy5M1DzfXPt1+h2SKAihBCi3bta+qWr9V/JqIj2QKPR1Pm4vixDXRRFYeHChbe9wrudnR1Q84HfZKr5ufzoo4/o0qULhw8fxmKxYDAYbtj++n0aGue6devw8/Nr0njqem8UReGFF17gvffeu2F7g8GATqdr8JgWi4U9e/bUug6rplzP6tWryc3NZf/+/ej1ery9vamsrGzwfG5ubmpG5lbt3r2bn376icWLF1NaWkp1dTVOTk4MGDDgto7bEOlREUII0e5Z11GxTk+st9WBBkxVZiwWpS2HJkSLy8jIYPfumozOl19+ycCBA+vd1s/Pj+zsbPbt2wdASUkJJpOJmJgYPvnkE4xGIwCnT5+mrKyszmNER0fz+eefU15eDlCr9KsuRUVFeHp6otVq+eKLLxptUvfz8+Ps2bNqRiYhIUF9LSYmhoULF6q9LAcPHmzwWFu3biU/P5+Kigo2bNhAVFQUQ4cOZe3atVy6dEkd//nz52/Yd8iQIaxZs4a8vLxa1zl8+HAWLlyobtdYAOHs7ExJSYn6uKioCA8PD/R6Pdu3b1fPHRUVxTfffENlZSWlpaV8++23QE3Wy8fHhzVr1gA1wdrhw4cbPGddVq9eTUZGBunp6XzwwQc8//zzzJ8/n/79+/Pjjz+Sl5eH0WhUz9McJFARQgjR7qkZlSuBikarwdbuyloqUv4l7nF+fn4sWrSIPn36UFBQwKRJk+rd1tbWloSEBF577TWCg4OJjo6msrKSV155BX9/f0JDQ+nbty8TJ06sN7sxYsQIYmNjCQ8PJyQkRC3Dqs/kyZNZsWIFwcHBnDx5stFMj729PYsXL1abx52dnXF1dQVqZqwyGo0EBQUREBDArFmzGjxWZGQkcXFxBAUFERcXR3h4OP7+/sydO5fhw4cTFBREdHQ02dnZN+wbEBDAzJkzeeSRRwgODuaNN94AYMGCBaSkpBAUFIS/vz9LlixpcAzu7u5ERUXRt29fpk+fzrhx40hJSSEwMJCVK1fSu3dvACIiIoiNjSUoKIjHHnuMwMBA9bpXr17NsmXLCA4OJiAgoMFJBPbt24eXlxdr1qxh4sSJBAQENDg+T09PZs+ezYMPPkhUVFS9ZXS3QqNYQ8o7UHh4uMynLYQQosVt/fwYp5NzGPpiH3oP8ARgxX8mUVpQxfP//RDOHW8s0RDidp04caJZP9TdivT0dB5//HFSU1PbdBzNrbS0FCcnJxRFYcqUKfj6+jJt2rSbOsby5ctJSUnh448/bqFRNj/rdZeXlzNo0CCWLl1KaGhoWw+rUfX9LEhGRQghRLtnLf2yZlTgahmYTFEsxN3n008/JSQkhICAAIqKipg4cWJbD6lVTJgwgZCQEEJDQ4mLi7srgpSGSDO9EEKIds+oln5dbYK1/r8EKuJe5u3t3WLZlKNHj6prh1jZ2dmRnJzcIue71rRp05qcQfn+++958803az3n4+PD+vXrefHFF1tgdC3nyy+/bPK28+bNu6GfZMyYMcycObO5h3XLJFARQgjR7qnrqNhf/bNoZy9rqQhxOwIDA297pqnWEBMTc9uzld2NZs6ceUcFJXWR0i8hhBDt3vXrqMA1pV/STC+EEG1CAhUhhBDt3tV1VK4GKupaKlL6JYQQbaJJgUphYSGjR4+md+/e9OnTh927d5Ofn090dDS+vr5ER0dTUFAA1MzN/Prrr9OzZ0+CgoI4cOCAepwVK1bg6+uLr68vK1asaJkrEkIIIW6SWvpVq0dFSr+EEKItNSlQmTp1KiNGjODkyZMcPnyYPn36MH/+fIYOHUpaWhpDhw5l/vz5AHz33XekpaWRlpbG0qVL1bm48/PzmTNnDsnJyezdu5c5c+aowY0QQgjRVswmC2ajBa1Wg05/9c+i2kwvpV9CCNEmGg1UioqK2LlzJy+//DJQs9CPm5sbGzdu5IUXXgDghRdeYMOGDQBs3LiR559/Ho1Gw4ABAygsLCQ7O5vvv/+e6OhoOnbsSIcOHYiOjmbz5s0td2VCCCFEExivZEz09jo0Go36vLUMzFghGRUh3n77bRITE1v0HIMHD5b18+pQWFjI4sWLW+18S5YsITAwkJCQEAYOHMjx48fV19577z169uyJn58f33//fZ37z549u9FFPJuq0UDl3LlzdO7cmZdeeol+/frxyiuvUFZWRk5ODp6eNYti3XfffeTk5ACQlZVF9+7d1f29vLzIysqq93khhBCiLV2/Kr2VrTTTCwGA2Wzm3XffZdiwYW09lLuK2dw8NzlaO1D5/e9/z9GjRzl06BB/+ctfeOONNwA4fvw4X331FceOHWPz5s1Mnjy52a6xPo1OT2wymThw4AALFy6kf//+TJ06VS3zstJoNLXuQt2OpUuXsnTpUgByc3Ob5ZhCCCFEfeoLVPRS+iVa0ev/+2SLHHfB1A0Nvp6ens6IESMICwvjwIEDBAQEsHLlSvz9/Rk7dixbt27lL3/5C5s3b+bxxx9n9OjR7Nu3j6lTp1JWVoadnR0//PADDg4OzJgxgx07dlBVVcWUKVMaXGTx/fffZ9WqVWi1Wh577DH1s+WaNWuYPHkyhYWFLFu2jIcffpj09HSee+45ysrKAPj444956KGH2LFjB7Nnz6ZTp06kpqYSFhbGqlWr0Gg0bNq0iTfeeANHR0eioqI4e/Ys3377LWVlZbz22mukpqZiNBqZPXs2o0aNqnOMy5cvZ/369RQVFZGVlcWzzz7LO++8A8CqVatYsGAB1dXV9O/fn8WLF6PT6XBycmLixIkkJiayaNEizp49ywcffIBGoyEoKIgvvviC3Nxc/vCHP5CRkQHA3//+d6Kiopg9ezYZGRmcPXuWjIwM/vjHP/L6668zY8YMzpw5Q0hICNHR0bzzzjuMGjWKgoICjEYjc+fOVa/hr3/9K6tWraJz5850796dsLAw/vznP3PmzBmmTJlCbm4uDg4OfPrpp/Tu3bvO63ZxcVH/v6ysTP2Mv3HjRp555hns7Ozw8fGhZ8+e7N27lwcffJB58+axYsUKPDw81PM2h0YDFS8vL7y8vOjfvz8Ao0ePZv78+XTp0oXs7Gw8PT3Jzs7Gw8MDgG7duvHrr7+q+2dmZtKtWze6devGjh07aj0/ePDgG843YcIEJkyYAEB4ePjtXJsQQgjRKHVVentdredtZR0V0U6cOnWKZcuWERUVxfjx49W79+7u7uqkSNZy/erqasaOHUtCQgIREREUFxdjb2/PsmXLcHV1Zd++fVRVVREVFcXw4cPx8fG54XzfffcdGzduJDk5GQcHB/Lz89XXTCYTe/fuZdOmTcyZM4fExEQ8PDzYunUrBoOBtLQ04uPj1RKxgwcPcuzYMbp27UpUVBRJSUmEh4czceJEdu7ciY+PD/Hx8erx582bx5AhQ/jss88oLCwkMjKSYcOG4ejoWOd7s3fvXlJTU3FwcCAiIoKRI0fi6OhIQkICSUlJ6PV6Jk+ezOrVq3n++ecpKyujf//+fPjhhxw7doy5c+eya9cuOnXqpF7n1KlTmTZtGgMHDiQjI4OYmBhOnDgBwMmTJ9m+fTslJSX4+fkxadIk5s+fT2pqqromjclkYv369bi4uHD58mUGDBhAbGwsKSkprFu3jsOHD2M0GgkNDVUDhgkTJrBkyRJ8fX1JTk5m8uTJbNu2rd7viUWLFvG3v/2N6upqdbusrCwGDBigbmOtjtq/fz9fffUVhw4dwmQy1Trv7Wo0ULnvvvvo3r07p06dws/Pjx9++AF/f3/8/f1ZsWIFM2bMYMWKFWokFxsby8cff8wzzzxDcnIyrq6ueHp6EhMTw1tvvaU20G/ZsoX33nuvWS5CCCGEuFWNln7J9MSiFTSW+WhJ3bt3JyoqCoBnn32WBQsWADB27Ngbtj116hSenp5EREQAV+++b9myhSNHjrB27Vqgpsc5LS2tzkAlMTGRl156CQcHBwA6duyovvbUU08BEBYWRnp6OgBGo5FXX32VQ4cOodPpOH36tLp9ZGQkXl5eAISEhJCeno6TkxM9evRQzx0fH69W62zZsoWvv/5a7aGorKwkIyODPn361PneREdH4+7uro7t559/xsbGhv3796vvQUVFhXrDXqfTERcXB8C2bdsYM2YMnTp1qnWdiYmJtfo+iouLKS0tBWDkyJHY2dlhZ2eHh4eH2lpxLUVReOutt9i5cydarZasrCxycnJISkpi1KhRGAwGDAYDTzzxBAClpaXs2rWLMWPGqMeoqqqq83qtpkyZwpQpU/jyyy+ZO3dug7P1/vTTT/zud79Tv56xsbENHvtmNGll+oULFzJu3Diqq6vp0aMHn3/+ORaLhaeffpply5bxwAMP8K9//QuA3/72t2zatImePXvi4ODA559/DtR8cWbNmqV+Ud9+++1a35hCCCFEW7gaqFyXUVFLvySjIu5t15fvWx/Xl2Woi6IoLFy48LZXeLezswNqPvCbTDU/mx999BFdunTh8OHDWCwWDAbDDdtfv09D41y3bh1+fn5NGk9d742iKLzwwgt13nA3GAzodLobnr+WxWJhz549ta7DqinXs3r1anJzc9m/fz96vR5vb28qKysbPJ+bm5uakbkZzzzzjDqDb31VU5mZmTd93KZq0vTEISEhpKSkcOTIETZs2ECHDh1wd3fnhx9+IC0tjcTERDXo0Gg0LFq0iDNnznD06NFa5Vvjx4/nl19+4ZdffuGll15qmSsSQgghboK19Etvf11GxTrrl/SoiHtcRkYGu3fvBuDLL79k4MCB9W7r5+dHdnY2+/btA6CkpASTyURMTAyffPIJRqMRgNOnT6s9JdeLjo7m888/p7y8HKBW6VddioqK8PT0RKvV8sUXXzTawO3n58fZs2fVjExCQoL6WkxMDAsXLkRRFKCmdKwhW7duJT8/n4qKCjZs2EBUVBRDhw5l7dq1XLp0SR3/+fPnb9h3yJAhrFmzhry8vFrXOXz4cBYuXKhu11gA4ezsTElJifq4qKgIDw8P9Ho927dvV88dFRXFN998Q2VlJaWlpXz77bdATdbLx8eHNWvWADXB2uHDh+s9X1pamvr///73v/H19QVqMiVfffUVVVVVnDt3jrS0NCIjIxk0aBAbNmygoqKCkpISvvnmmwav52bIyvRCCCHaNWtp142lX7IyvWgf/Pz8WLRoEX369KGgoEC9g14XW1tbEhISeO211wgODiY6OprKykpeeeUV/P39CQ0NpW/fvkycOLHe7MaIESOIjY0lPDyckJCQRqeynTx5MitWrCA4OJiTJ082mumxt7dn8eLF6iQBzs7OuLq6AjBr1iyMRiNBQUEEBAQwa9asBo8VGRlJXFwcQUFBxMXFER4ejr+/P3PnzmX48OEEBQURHR1Ndnb2DfsGBAQwc+ZMHnnkEYKDg9XZsxYsWEBKSgpBQUH4+/uzZMmSBsfg7u5OVFQUffv2Zfr06YwbN46UlBQCAwNZuXKl2hQfERFBbGwsQUFBPPbYYwQGBqrXvXr1apYtW0ZwcDABAQFs3Lix3vN9/PHHBAQEEBISwt/+9je17CsgIICnn34af39/RowYwaJFi9DpdISGhjJ27FiCg4N57LHH1Oqp5qBRrCHlHSg8PFzm0xZCCNGi9mw8w/7vzhP5hA8RI6/W01ssCp9M3g4amLzoUTTa5pndUgirEydO1Nsb0VrS09N5/PHHSU1NbdNxNLfS0lKcnJxQFIUpU6bg6+vLtGnTbuoYy5cvJyUlhY8//riFRtn8rNddXl7OoEGDWLp0KaGhoW09rEbV97MgGRUhhBDtmrUH5fqMilarwcZOBwoYq6RPRYi7yaeffkpISAgBAQEUFRU1OFXyvWTChAmEhIQQGhpKXFzcXRGkNKRJzfRCCCHEvcpoLf2yv7EB1tagw1RlprrSpPasCHEv8fb2brFsytGjR3nuuedqPWdnZ0dycnKLnO9a06ZNa3IG5fvvv+fNN9+s9ZyPjw/r16/nxRdfbIHRtZwvv/yyydvOmzdP7VuxGjNmDDNnzmzuYd0y+a0rhBCiXVMzKnUEIrYGG8qLqmsa7ju09siEuLsFBgbe0kxTrS0mJua2Zyu7G82cOfOOCkrqIqVfQggh2rX61lGBaxd9lIZ6IYRobRKoCCGEaNfqm/Wr5jnrWioSqAghRGuTQEUIIUS7drX0q44eFWtGpUKa6YUQorVJoCKEEKJda7D0SzIqQgjRZiRQEUII0a5ZMyp6Q12zfllXp5eMimjf3n77bRITE1v0HIMHD5b18+pQWFjI4sWLW/Wc//rXv/D39ycgIIDf//736vMrVqzA19cXX19fdSHI6y1fvpxXX321WcYhs34JIYRotywWBVOVGTSgt2ug9EsyKqIdM5vNvPvuu209jLuO2WxGp7vx98rNsgYqkydPboZRNS4tLY333nuPpKQkOnTowKVLlwDIz89nzpw5pKSkoNFoCAsLIzY2lg4dWm5KRAlUhBBCtFvGa8q+NJobV563ZlmsDfdCtJQPPvigRY775z//ucHX09PTGTFiBGFhYRw4cICAgABWrlyJv78/Y8eOZevWrfzlL39h8+bNPP7444wePZp9+/YxdepUysrKsLOz44cffsDBwYEZM2awY8cOqqqqmDJlSoOLLL7//vusWrUKrVbLY489xvz58wFYs2YNkydPprCwkGXLlvHwww+Tnp7Oc889R1lZGQAff/wxDz30EDt27GD27Nl06tSJ1NRUwsLCWLVqFRqNhk2bNvHGG2/g6OhIVFQUZ8+e5dtvv6WsrIzXXnuN1NRUjEYjs2fPZtSoUXWOcfny5axfv56ioiKysrJ49tlneeeddwBYtWoVCxYsoLq6mv79+7N48WJ0Oh1OTk5MnDiRxMREFi1axNmzZ/nggw/QaDQEBQXxxRdfkJubyx/+8AcyMjIA+Pvf/05UVBSzZ88mIyODs2fPkpGRwR//+Edef/11ZsyYwZkzZwgJCSE6Opp33nmHUaNGUVBQgNFoZO7cueo1/PWvf2XVqlV07tyZ7t27ExYWxp///GfOnDnDlClTyM3NxcHBgU8//ZTevXvXed2ffvopU6ZMUQMQDw8PoGa9mejoaDp27AhAdHQ0mzdvJj4+ns8//5z33nsPNzc3goODsbOza/D7rqkkUBFCCNFuXV2Vvu67ntbSr2op/RL3sFOnTrFs2TKioqIYP368Wmbk7u7OgQMHANi8eTMA1dXVjB07loSEBCIiIiguLsbe3p5ly5bh6urKvn37qKqqIioqiuHDh+Pj43PD+b777js2btxIcnIyDg4O5Ofnq6+ZTCb27t3Lpk2bmDNnDomJiXh4eLB161YMBgNpaWnEx8erJWIHDx7k2LFjdO3alaioKJKSkggPD2fixIns3LkTHx8f4uPj1ePPmzePIUOG8Nlnn1FYWEhkZCTDhg3D0dGxzvdm7969pKam4uDgQEREBCNHjsTR0ZGEhASSkpLQ6/VMnjyZ1atX8/zzz1NWVkb//v358MMPOXbsGHPnzmXXrl106tRJvc6pU6cybdo0Bg4cSEZGBjExMZw4cQKAkydPsn37dkpKSvDz82PSpEnMnz+f1NRUdU0ak8nE+vXrcXFx4fLlywwYMIDY2FhSUlJYt24dhw8fxmg0EhoaSlhYGFCzYv2SJUvw9fUlOTmZyZMns23btjqv+fTp0wBERUVhNpuZPXs2I0aMICsri+7du6vbeXl5kZWVRXZ2Nu+88w779+/H1dWVRx99lH79+jX0LddkEqgIIYRot9SpietZdd46E5iUfomW1ljmoyV1796dqKgoAJ599lkWLFgAwNixY2/Y9tSpU3h6ehIREQGAi4sLAFu2bOHIkSOsXbsWgKKiItLS0uoMVBITE3nppZdwcHAAUO/QAzz11FMAhIWFkZ6eDoDRaOTVV1/l0KFD6HQ69YM0QGRkJF5eXgCEhISQnp6Ok5MTPXr0UM8dHx/P0qVL1XF+/fXXagarsrKSjIwM+vTpU+d7Ex0djbu7uzq2n3/+GRsbG/bv36++BxUVFWrWQafTERcXB8C2bdsYM2YMnTp1qnWdiYmJHD9+XD1HcXExpaWlAIwcORI7Ozvs7Ozw8PAgJyfnhjEpisJbb73Fzp070Wq1ZGVlkZOTQ1JSEqNGjcJgMGAwGHjiiScAKC0tZdeuXYwZM0Y9RlVVVZ3XCzWBUFpaGjt27CAzM5NBgwZx9OjRerdPTk5m8ODBdO7cGaj5vrn2a3Q7JFARQgjRbjU5oyLTE4t72PVlj9bH9WUZ6qIoCgsXLrztFd6tJUM6nQ6TqeYGwUcffUSXLl04fPgwFosFg8Fww/bX79PQONetW4efn1+TxlPXe6MoCi+88ALvvffeDdsbDIZG+1IsFgt79uypdR1WTbme1atXk5uby/79+9Hr9Xh7e1NZWdng+dzc3NSMTGO8vLzo378/er0eHx8fevXqRVpaGt26dWPHjh3qdpmZmQwePLhJx7xVMuuXEEKIdquhxR6vfd4oGRVxD8vIyGD37t0AfPnllwwcOLDebf38/MjOzmbfvn0AlJSUYDKZiImJ4ZNPPsFoNAI15UPWnpLrRUdH8/nnn1NeXg5Qq/SrLkVFRXh6eqLVavniiy8wmxu+ceDn58fZs2fVjExCQoL6WkxMDAsXLkRRFKCmdKwhW7duJT8/n4qKCjZs2EBUVBRDhw5l7dq1tZrMz58/f8O+Q4YMYc2aNeTl5dW6zuHDh7Nw4UJ1u8YCCGdnZ0pKStTHRUVFeHh4oNfr2b59u3ruqKgovvnmGyorKyktLeXbb78FarJePj4+rFmzBqgJ1g4fPlzv+Z588kk1ILl8+TKnT5+mR48exMTEsGXLFgoKCigoKGDLli3ExMTQv39/fvzxR/Ly8jAajep5moMEKkIIIdota0mXvr5ARUq/RDvg5+fHokWL6NOnDwUFBUyaNKnebW1tbUlISOC1114jODiY6OhoKisreeWVV/D39yc0NJS+ffsyceLEerMbI0aMIDY2lvDwcEJCQhqdSGDy5MmsWLGC4OBgTp482Wimx97ensWLF6uTBDg7O+Pq6grArFmzMBqNBAUFERAQwKxZsxo8VmRkJHFxcQQFBREXF0d4eDj+/v7MnTuX4cOHExQURHR0NNnZ2TfsGxAQwMyZM3nkkUcIDg7mjTfeAGDBggWkpKQQFBSEv78/S5YsaXAM7u7uREVF0bdvX6ZPn864ceNISUkhMDCQlStXqk3xERERxMbGEhQUxGOPPUZgYKB63atXr2bZsmUEBwcTEBDAxo0b6z1fTEwM7u7u+Pv78+ijj/L//X//H+7u7nTs2JFZs2YRERFBREQEb7/9Nh07dsTT05PZs2fz4IMPEhUVVW8Z3a3QKNaQ8g4UHh4u82kLIYRoMcd+ymLH6lP0ifJkyHM3/nEtvlzBF/+1G+eOBp7/74faYITiXnbixIlm/VB3K9LT03n88cdJTU1t03E0t9LSUpycnFAUhSlTpuDr68u0adNu6hjLly8nJSWFjz/+uIVG2fys111eXs6gQYNYunQpoaGhbT2sRtX3syAZFSGEEO3W1R6Vhku/JKMixN3l008/JSQkhICAAIqKihqcKvleMmHCBEJCQggNDSUuLu6uCFIaIs30Qggh2q1qdR2Vuptf1XVUKs0oilLnWitC3M28vb1bLJty9OhRnnvuuVrP2dnZkZyc3CLnu9a0adOanEH5/vvvefPNN2s95+Pjw/r163nxxRdbYHQt58svv2zytvPmzbuhn2TMmDHMnDmzuYd1yyRQEUII0W4Zr8zmVd/0xDobLTq9FrPRgqnaUufq9UKIugUGBjZ5pqm2FBMTc9uzld2NZs6ceUcFJXWR0i8hhBDtlppRqSdQufY1Kf8SQojWJYGKEEKIdutq6VcDgYq1/KtCAhUhhGhNEqgIIYRotxpb8LHmNZta2wohhGgdEqgIIYRot9QFHxss/ZK1VIQQoi1IoCKEEKLdsmZJ9E3IqFgb74Voj95++20SExNb9ByDBw+W9fPqUFhYyOLFi1vtfH/729/w9/cnKCiIoUOHqivfA6xYsQJfX198fX1ZsWKF+vz+/fsJDAykZ8+evP7669S1TGN6ejp9+/a9qbFIoCKEEKLdMjapR0Wa6UX7Zjabeffddxk2bFhbD+WuYjY3z82N1g5U+vXrR0pKCkeOHGH06NH85S9/ASA/P585c+aQnJzM3r17mTNnDgUFBQBMmjSJTz/9lLS0NNLS0ti8eXOzjEUCFSGEEO1Wk0q/DFL6JVrefdsPtcg/jUlPT6d3796MGzeOPn36MHr0aMrLy/H29ubNN98kNDSUNWvW8OKLL7J27VoA9u3bx0MPPURwcDCRkZGUlJRgNpuZPn06ERERBAUF8Y9//KPB877//vsEBgYSHBzMjBkz1OfXrFlDZGQkvXr14qefflLH+PDDDxMaGkpoaCi7du0CYMeOHQwePJjRo0er12C9k79p0yZ69+5NWFgYr7/+Oo8//jgAZWVljB8/nsjISPr168fGjRvrHePy5csZNWoUgwcPxtfXlzlz5qivrVq1isjISEJCQpg4caIalDg5OfGnP/2J4OBgdu/ezcqVKwkKCiI4OFhdUyY3N5e4uDgiIiKIiIggKSkJgNmzZzN+/HgGDx5Mjx49WLBgAQAzZszgzJkzhISEMH36dEpLSxk6dCihoaEEBgbWuoa//vWv+Pn5MXDgQOLj4/nggw8AOHPmDCNGjCAsLIyHH36YkydP1nvdjz76KA4ODgAMGDCAzMxMoGa9mejoaDp27EiHDh2Ijo5m8+bNZGdnU1xczIABA9BoNDz//PNs2LABqMm0BAcHExwczKJFi+r/hqiHrKMihBCiXVIsCtVVV0q/GlgfRW+dnlhKv8Q96tSpUyxbtoyoqCjGjx+v3r13d3fnwIEDAOod8urqasaOHUtCQgIREREUFxdjb2/PsmXLcHV1Zd++fVRVVREVFcXw4cPx8fG54XzfffcdGzduJDk5GQcHB/Lz89XXTCYTe/fuZdOmTcyZM4fExEQ8PDzYunUrBoOBtLQ04uPj1RKxgwcPcuzYMbp27UpUVBRJSUmEh4czceJEdu7ciY+PD/Hx8erx582bx5AhQ/jss88oLCwkMjKSYcOG4ejoWOd7s3fvXlJTU3FwcCAiIoKRI0fi6OhIQkICSUlJ6PV6Jk+ezOrVq3n++ecpKyujf//+fPjhhxw7doy5c+eya9cuOnXqpF7n1KlTmTZtGgMHDiQjI4OYmBhOnDgBwMmTJ9m+fTslJSX4+fkxadIk5s+fT2pqqromjclkYv369bi4uHD58mUGDBhAbGwsKSkprFu3jsOHD2M0GgkNDSUsLAyoWbF+yZIl+Pr6kpyczOTJk9m2bVuj3xvLli3jscceAyArK4vu3burr3l5eZGVlUVWVhZeXl43PA/w0ksv8fHHHzNo0CCmT5/e6PmuJ4GKEEKIdslYbQalJkjRautfcV4yKqI1XHw0pM3O3b17d6KiogB49tln1Tv5Y8eOvWHbU6dO4enpSUREBAAuLi4AbNmyhSNHjqhZl6KiItLS0uoMVBITE3nppZfUu/YdO3ZUX3vqqacACAsLIz09HQCj0cirr77KoUOH0Ol0nD59Wt0+MjJS/ZAcEhJCeno6Tk5O9OjRQz13fHw8S5cuVcf59ddfq5mGyspKMjIy6NOnT53vTXR0NO7u7urYfv75Z2xsbNi/f7/6HlRUVODh4QGATqcjLi4OgG3btjFmzBg6depU6zoTExM5fvy4eo7i4mJKS0sBGDlyJHZ2dtjZ2eHh4UFOTs4NY1IUhbfeeoudO3ei1WrJysoiJyeHpKQkRo0ahcFgwGAw8MQTTwBQWlrKrl27GDNmjHqMqqqqOq/3WqtWrSIlJYUff/yx0W3rUlhYSGFhIYMGDQLgueee47vvvrupY0igIoQQol2yZkgampq45nWZnljc2zQaTZ2P68sy1EVRFBYuXHjbK7zb2dkBNR/4TaaamwMfffQRXbp04fDhw1gsFgwGww3bX79PQ+Nct24dfn5+TRpPXe+Noii88MILvPfeezdsbzAY0Oka/p1isVjYs2dPreuwasr1rF69mtzcXPbv349er8fb25vKysoGz+fm5qZmZJoiMTGRefPm8eOPP6pj6tatGzt27FC3yczMZPDgwXTr1k0tD7M+361btyafqyHSoyKEEKJdakp/yrWvy4KP4l6VkZHB7t27Afjyyy8ZOHBgvdv6+fmRnZ3Nvn37ACgpKcFkMhETE8Mnn3yC0WgE4PTp05SVldV5jOjoaD7//HPKy8sBapV+1aWoqAhPT0+0Wi1ffPFFo03qfn5+nD17Vs3IJCQkqK/FxMSwcOFCtZfl4MGDDR5r69at5OfnU1FRwYYNG4iKimLo0KGsXbuWS5cuqeO/dmYsqyFDhrBmzRry8vJqXefw4cNZuHChul1jAYSzszMlJSXq46KiIjw8PNDr9Wzfvl09d1RUFN988w2VlZWUlpby7bffAjVZLx8fH9asWQPUBGuHDx+u93wHDx5k4sSJfP3112qmCGreuy1btlBQUEBBQQFbtmwhJiYGT09PXFxc2LNnD4qisHLlSkaNGoWbmxtubm78/PPPQE2AdbMkUBFCCNEuWUu59A3M+AVXMy5GKf0S9yg/Pz8WLVpEnz59KCgoYNKkSfVua2trS0JCAq+99hrBwcFER0dTWVnJK6+8gr+/P6GhofTt25eJEyfWm90YMWIEsbGxhIeHExISopZh1Wfy5MmsWLGC4OBgTp482Wimx97ensWLF6vN487Ozri6ugIwa9YsjEYjQUFBBAQEMGvWrAaPFRkZSVxcHEFBQcTFxREeHo6/vz9z585l+PDhBAUFER0dTXZ29g37BgQEMHPmTB555BGCg4N54403AFiwYAEpKSkEBQXh7+/PkiVLGhyDu7s7UVFR9O3bl+nTpzNu3DhSUlIIDAxk5cqV9O7dG4CIiAhiY2MJCgriscceIzAwUL3u1atXs2zZMoKDgwkICGhwEgFrw/6YMWMICQkhNjYWqCldmzVrljoJwNtvv62Wsy1evJhXXnmFnj178pvf/Ebta/n888+ZMmUKISEhdU5Z3BiNcit7tZLw8HCZT1sIIUSLyDiexzcLDuPVuwOj/tiv3u2yThWw4aODdPV143d/Cm3FEYp73YkTJ+rtjWgt6enpPP7446SmprbpOJpbaWkpTk5OKIrClClT8PX1Zdq0aTd1jOXLl5OSksLHH3/cQqNsftbrLi8vZ9CgQSxdupTQ0Dv/91Z9PwuSURFCCNEuqT0qTS39koyKEHeNTz/9lJCQEAICAigqKmLixIltPaRWMWHCBEJCQggNDSUuLu6uCFIaIs30Qggh2qVqdbHHhhtfravWS4+KuBd5e3u3WDbl6NGj6tohVnZ2diQnJ7fI+a41bdq0JmdQvv/+e958881az/n4+LB+/XpefPHFFhhdy/nyyy+bvO28efPUvhWrMWPGMHPmzOYe1i2TQEUIIUS7ZKxsYkbFIOuoCHErAgMDb2qmqbYSExNz27OV3Y1mzpx5RwUldZHSLyGEEO3S1YxKw4GK3TWlX3dwW6cQQtxzJFARQgjRLqnTEzcSqOj0WrQ2GixmBbPJ0hpDE0IIgQQqQggh2qlqtfSr4R4VkPIvIYRoCxKoCCGEaJeaWvpVs42u1j5CCCFangQqQggh2iVrdkTfyKxfcLXh3tqAL0R78/bbb5OYmNii5xg8eLCsn1eHwsJCFi9e3Grn27lzJ6GhodjY2LB27dpWO29dJFARQgjRLllXmm9s1i+4tvRLMiqi/TGbzbz77rsMGzasrYdyVzGbm+fGRmsHKvfffz/Lly/n97//faudsz4yPbEQQoh2SUq/xJ1k0R+2tchxpywZ0uDr6enpjBgxgrCwMA4cOEBAQAArV67E39+fsWPHsnXrVv7yl7+wefNmHn/8cUaPHs2+ffuYOnUqZWVl2NnZ8cMPP+Dg4MCMGTPYsWMHVVVVTJkypcFFFt9//31WrVqFVqvlscceY/78+QCsWbOGyZMnU1hYyLJly3j44YdJT0/nueeeo6ysDICPP/6Yhx56iB07djB79mw6depEamoqYWFhrFq1Co1Gw6ZNm3jjjTdwdHQkKiqKs2fP8u2331JWVsZrr71GamoqRqOR2bNnM2rUqDrHuHz5ctavX09RURFZWVk8++yzvPPOOwCsWrWKBQsWUF1dTf/+/Vm8eDE6nQ4nJycmTpxIYmIiixYt4uzZs3zwwQdoNBqCgoL44osvyM3N5Q9/+AMZGRkA/P3vfycqKorZs2eTkZHB2bNnycjI4I9//COvv/46M2bM4MyZM4SEhBAdHc0777zDqFGjKCgowGg0MnfuXPUa/vrXv7Jq1So6d+5M9+7dCQsL489//jNnzpxhypQp5Obm4uDgwKeffkrv3r3rvG5vb28AtNra+Yznn3+ep556iieffBKAcePG8fTTT9f7/jUHCVSEEEK0S+rK9E0o/dJbMypS+iXuQadOnWLZsmVERUUxfvx49e69u7s7Bw4cAGDz5s0AVFdXM3bsWBISEoiIiKC4uBh7e3uWLVuGq6sr+/bto6qqiqioKIYPH46Pj88N5/vuu+/YuHEjycnJODg4kJ+fr75mMpnYu3cvmzZtYs6cOSQmJuLh4cHWrVsxGAykpaURHx+vlogdPHiQY8eO0bVrV6KiokhKSiI8PJyJEyeyc+dOfHx8iI+PV48/b948hgwZwmeffUZhYSGRkZEMGzYMR0fHOt+bvXv3kpqaioODAxEREYwcORJHR0cSEhJISkpCr9czefJkVq9ezfPPP09ZWRn9+/fnww8/5NixY8ydO5ddu3bRqVMn9TqnTp3KtGnTGDhwIBkZGcTExHDixAkATp48yfbt2ykpKcHPz49JkyYxf/58UlNT1TVpTCYT69evx8XFhcuXLzNgwABiY2NJSUlh3bp1HD58GKPRSGhoKGFhYUDNivVLlizB19eX5ORkJk+ezLZtNxccv/zyy3z00Uc8+eSTFBUVsWvXLlasWHFTx7hZEqgIIYRol6pvpvTLXkq/RMtqLPPRkrp3705UVBQAzz77LAsWLABg7NixN2x76tQpPD09iYiIAMDFxQWALVu2cOTIEbWnoaioiLS0tDoDlcTERF566SUcHBwA6Nixo/raU089BUBYWBjp6ekAGI1GXn31VQ4dOoROp+P06dPq9pGRkXh5eQEQEhJCeno6Tk5O9OjRQz13fHw8S5cuVcf59ddf88EHHwBQWVlJRkYGffr0qfO9iY6Oxt3dXR3bzz//jI2NDfv371ffg4qKCjw8PADQ6XTExcUBsG3bNsaMGUOnTp1qXWdiYiLHjx9Xz1FcXExpaSkAI0eOxM7ODjs7Ozw8PMjJyblhTIqi8NZbb7Fz5060Wi1ZWVnk5OSQlJTEqFGjMBgMGAwGnnjiCQBKS0vZtWsXY8aMUY9RVVVV5/U25JFHHmHy5Mnk5uaybt064uLisLFp2VBCAhUhhBDtjqIoanakSc30Uvol7mEajabOx/VlGeqiKAoLFy687RXe7ezsgJoP/CZTzc/bRx99RJcuXTh8+DAWiwWDwXDD9tfv09A4161bh5+fX5PGU9d7oygKL7zwAu+9994N2xsMBnS6hn+nWCwW9uzZU+s6rJpyPatXryY3N5f9+/ej1+vx9vamsrKywfO5ubmpGZnb8fzzz7Nq1Sq++uorPv/889s+XmOkmV4IIUS7Y6q2oFgUbPRadLrG/xTaSumXuIdlZGSwe/duAL788ksGDhxY77Z+fn5kZ2ezb98+AEpKSjCZTMTExPDJJ59gNBoBOH36tNpTcr3o6Gg+//xzysvLAWqVftWlqKgIT09PtFotX3zxRaNN6n5+fpw9e1bNyCQkJKivxcTEsHDhQhRFAWpKxxqydetW8vPzqaioYMOGDURFRTF06FDWrl3LpUuX1PGfP3/+hn2HDBnCmjVryMvLq3Wdw4cPZ+HChep2jQUQzs7OlJSUqI+Liorw8PBAr9ezfft29dxRUVF88803VFZWUlpayrfffgvUZL18fHxYs2YNUBOsHT58uMFz1ufFF1/k73//OwD+/v63dIyb0eRAxWw2069fPx5//HEAzp07R//+/enZsydjx46luroaqEkljR07lp49e9K/f3/1mwTgvffeo2fPnvj5+fH9998375UIIYQQTWTNjOibUPYFVxeFNErpl7gH+fn5sWjRIvr06UNBQQGTJk2qd1tbW1sSEhJ47bXXCA4OJjo6msrKSl555RX8/f0JDQ2lb9++TJw4sd7sxogRI4iNjSU8PJyQkBC1DKs+kydPZsWKFQQHB3Py5MlGMz329vYsXrxYnSTA2dkZV1dXAGbNmoXRaCQoKIiAgABmzZrV4LEiIyOJi4sjKCiIuLg4wsPD8ff3Z+7cuQwfPpygoCCio6PJzs6+Yd+AgABmzpzJI488QnBwMG+88QYACxYsICUlhaCgIPz9/VmyZEmDY3B3dycqKoq+ffsyffp0xo0bR0pKCoGBgaxcuVJtio+IiCA2NpagoCAee+wxAgMD1etevXo1y5YtIzg4mICAADZu3Fjv+fbt24eXlxdr1qxh4sSJBAQEqK916dKFPn368NJLLzU45uaiUawhZSP+9re/kZKSQnFxMd9++y1PP/00Tz31FM888wx/+MMfCA4OZtKkSSxevJgjR46wZMkSvvrqK9avX09CQgLHjx8nPj6evXv3cuHCBYYNG8bp06cbTI+Fh4fLfNpCCCGaXcHFMr6cnYyrhz3Pvvtgo9uf3J3NDytO4Nf/Poa91PJ3EUX7cOLEiXp7I1pLeno6jz/+OKmpqW06juZWWlqKk5MTiqIwZcoUfH19mTZt2k0dY/ny5aSkpPDxxx+30Cibn/W6y8vLGTRoEEuXLiU0NLTZjl9eXk5gYCAHDhxQg6DmUN/PQpMyKpmZmfz73//mlVdeAWpSRtu2bWP06NEAvPDCC2zYsAGAjRs38sILLwAwevRofvjhBxRFYePGjTzzzDPY2dnh4+NDz5492bt3b3NcmxBCCHFTrCVcTZma+NrtpEdFiLvDp59+SkhICAEBARQVFTU4VfK9ZMKECYSEhBAaGkpcXFyzBimJiYn06dOH1157rVmDlIY06Tf0H//4R/7nf/5HrY/Ly8vDzc1N7fT38vIiKysLgKysLLp3715zcBsbXF1dycvLIysriwEDBqjHvHYfIYQQojVdnfGr8UZ6AL29NNOLe5O3t3eLZVOOHj3Kc889V+s5Ozs7kpOTW+R815o2bVqTMyjff/89b775Zq3nfHx8WL9+PS+++GILjK7lfPnll03edt68eWrfitWYMWOYOXNmndsPGzaszl6cltRooPLtt9/i4eFBWFgYO3bsaPEBLV26VJ1CLjc3t8XPJ4QQov0xVtxiRqVCmulF81IU5YaZpe4VgYGBzTLTVEuLiYm57dnK7kYzZ86sNyhpTQ11oTT6GzopKYmvv/6aTZs2UVlZSXFxMVOnTqWwsBCTyYSNjQ2ZmZl069YNgG7duvHrr7/i5eWFyWSiqKgId3d39Xmra/e51oQJE5gwYQJQ06MihBBCNLebWUMFrpmeWJrpRTMyGAzk5eXh7u5+zwYrQjREURTy8vLqnKoZmhCovPfee+o80Tt27OCDDz5g9erVjBkzhrVr1/LMM8+wYsUKRo0aBUBsbCwrVqzgwQcfZO3atQwZMgSNRkNsbCy///3veeONN7hw4QJpaWlERkY246UKIYQQTaMGKk3NqNhLj4pofl5eXmRmZkoFiWjXDAaDumjn9W55wcf333+fZ555hv/6r/+iX79+vPzyywC8/PLLPPfcc/Ts2ZOOHTvy1VdfATVTtD399NP4+/tjY2PDokWLGl0QRwghhGgJ1WrpV9P+Dl0NVKT0SzQfvV5f58rtQogaTZ6euC3I9MRCCCFawq7/9wsHt2Tw4O9+Q2jMA41urygKn0zZgWJR+MPHg9HZyHrJQgjR0uQ3rRBCiHbn6vTETcuoaDQadVujZFWEEKJVSKAihBCi3bE2xeub2KMCspaKEEK0NglUhBBCtDvGm5z1q2ZbWUtFCCFakwQqQggh2p2bLf2q2VbWUhFCiNYkgYoQQoh252anJ4arZWKSURFCiNYhgYoQQoh2x9qjYi3nagop/RJCiNYlgYoQQoh25+o6KrfQTC+lX0II0SokUBFCCNGuKIpyS6Vf1n4WyagIIUTrkEBFCCFEu2I2WbCYFbQ2GnT6pv8ZtM4QJuuoCCFE65BARQghRLtyK2Vf125v7W8RQgjRsiRQEUII0a5cLftqeiM9gF5Kv4QQolVJoCKEEKJdsZZu3cxij3DtyvRS+iWEEK1BAhUhhBDtijo18c2WflmnJ5bSLyGEaBUSqAghhGhX1NKvm82o2EuPihBCtCYJVIQQQrQr1tKtm+1RkdIvIYRoXRKoCCGEaFduufRLDVQkoyKEEK1BAhUhhBDtytXSr5vMqFh7VCSjIoQQrUICFSGEEO2KNdDQ32RGRW+rAw2YqsxYLEpLDE0IIcQ1JFARQgjRrhhvsfRLo9Vga1eTVTFK+ZcQQrQ4CVSEEEK0K2oz/U2WftXsIw31QgjRWiRQEUII0a5cXZn+5jIqcLVcTKYoFkKIlieBihBCiHbl6qxft5BRMUhDvRBCtBYJVIQQQrQrV0u/bj6jcrX0SzIqQgjR0iRQEUII0a7c6joqNfvoah1DCCFEy5FARQghRLtizYbob6n0qya4MUrplxBCtDgJVIQQQrQrt1X6JavTCyFEq5FARQghRLthNlkwGy1otBps9Df/J1BvL6VfQgjRWiRQEUII0W4Yr1lDRaPR3PT+VzMqUvolhBAtTQIVIYQQ7cbtrKFSs591emLJqAghREuTQEUIIUS7cduBir0s+CiEEK1FAhUhhBDtRnXF1dKvW3F1HRUp/RJCiJYmgYoQQoh24/ZLvySjIoQQrUUCFSGEEO3G1UDlFjMqao+KZFSEEKKlSaAihBCi3bCWfulvYQ0VuFr6ZZRmeiGEaHESqAghhGg3mm3WLyn9EkKIFieBihBCiHZDXUflFku/9NYelSozikVptnEJIYS4kQQqQggh2g1rJuRWMyparQYbOx0oYKyWPhUhhGhJEqgIIYRoN9RA5RanJ4Zry78kUBFCiJYkgYoQQoh2o1ot/bq1jMq1+8rq9EII0bIkUBFCCNFu3G4zfc2+1imKJVARQoiWJIGKEEKIdsNa+qW/ndIv6xTFUvolhBAtSgIVIYQQ7YaUfgkhxN1DAhUhhBDthpR+CSHE3UMCFSGEEO2GmlFpoPTrUpWRSrOl3tetq9rLrF9CCNGyJFARQgjRLlgsCqYqM2hAb1d3oJJWVkn47uP8Z1pmvceRjIoQQrQOCVSEEEK0C8Zryr40Gk2d2/xUUEK1opCYV4yi1L3y/NUeFcmoCCFES5JARQghRLtwtZG+/rKvo6UVAORWm8iuMta5ja1a+iUZFSGEaEkSqAghhGgXrq5KX38j/dGSCvX/j1zz/9ey9rdI6ZcQQrSsRgOVX3/9lUcffRR/f38CAgL43//9XwDy8/OJjo7G19eX6OhoCgoKAFAUhddff52ePXsSFBTEgQMH1GOtWLECX19ffH19WbFiRQtdkhBCCHGjxjIqVRYLp8oq1ceHS8rr3E4t/ZJmeiGEaFGNBio2NjZ8+OGHHD9+nD179rBo0SKOHz/O/PnzGTp0KGlpaQwdOpT58+cD8N1335GWlkZaWhpLly5l0qRJQE1gM2fOHJKTk9m7dy9z5sxRgxshhBCipTU2NfGpskqM1/SlNBaoGCWjIoQQLarRQMXT05PQ0FAAnJ2d6dOnD1lZWWzcuJEXXngBgBdeeIENGzYAsHHjRp5//nk0Gg0DBgygsLCQ7Oxsvv/+e6Kjo+nYsSMdOnQgOjqazZs3t9yVCSGEENdQV6WvJ1Cxln2FuTgANaVfdTXU3+mlX5czS1j25584setCWw9FCCFuy031qKSnp3Pw4EH69+9PTk4Onp6eANx3333k5OQAkJWVRffu3dV9vLy8yMrKqvf56y1dupTw8HDCw8PJzc29pYsSQgghrmdsZA0VayP9bzu74Waj47LRxIU6Gurv9NKvk7svUllq5OTui209FCGEuC1NDlRKS0uJi4vj73//Oy4uLrVe02g09U71eLMmTJhASkoKKSkpdO7cuVmOKYQQQjRW+nX0SqlXsLM9Qc72ABypo/zr6vTEd2ZGJet0TVn1pYwSLJa6p1gWQoi7QZMCFaPRSFxcHOPGjeOpp54CoEuXLmRnZwOQnZ2Nh4cHAN26dePXX39V983MzKRbt271Pi+EEEK0hirrrF91NNObLArHr2RUApzsCXK+Wv51Pb264KO53rVW2kplqZHLmaUAmKrMFGSXtfGIhBDi1jUaqCiKwssvv0yfPn1444031OdjY2PVmbtWrFjBqFGj1OdXrlyJoijs2bMHV1dXPD09iYmJYcuWLRQUFFBQUMCWLVuIiYlpocsSQgghajNWWEu/bsyo/FJRSYVFobvBlg56G4KvBCqH6sio6Gy06PRaFIuCyWhp2UHfpKy0Argmdso5V9x2gxFCiNtU/2TyVyQlJfHFF18QGBhISEgIAP/93//NjBkzePrpp1m2bBkPPPAA//rXvwD47W9/y6ZNm+jZsycODg58/vnnAHTs2JFZs2YREREBwNtvv03Hjh1b6LKEEEKI2hoq/Uq9kjmxlnxdLf2qaai/vrzZ1qCjwmihusKE3rb+BSRbW9apQgAcXGwpL64mJ70Y/4Fd23ZQQghxixoNVAYOHFhvavuHH3644TmNRsOiRYvq3H78+PGMHz/+JocohBBC3D5roKKvo/TLOuNXoFNNgHK/wZYONjryjCayqox4GWxrbW9rsKGixFjToO/awgO/Cdb+lOCh3dm9/oxkVIQQdzVZmV4IIUS7oC74WEfp15HSmhKvvldKvjQazTV9KnU01NvfeQ315cXV5F8ow8ZWS8Cgbmi0GvIvlGKsujNnJxNCiMZIoCKEEKJdqK6ou/TLoihXS7+uZFSgdvnX9awN+dZj3gms2RTP37hiZ2+DezdHFAVyMySrIoS4O0mgIoQQol2ormcdlYzKakrMFrrY2uBhp1eftzbU17VCvV6dovjOyVZknaoJVLr5dQCgi3fNUgI550rabExCCHE7JFARQgjRLhjraaa3Zkz6OjnUet6aUTlcUn5Dr+aduDp95vWBis+VQCW9qM3GJIQQt0MCFSGEEO2CWvp1XY+KdaFHa2Bi1d1gS0e9jnyjmczrVqi/01anLy2oouhSBXqDDo/7nSkzm/F4wBqoSOmXEOLuJIGKEEKIe55iUai+0lSut6td+pV6ZaHHwOsCFY1GQ5BT3Q31d1ozvbU/pauvGz8XldHrp6N8ZSxDb9BRml9FWVFVG49QCCFungQqQggh7nnGajMoNUGKVnt1TRRFUdTSr0Bnhxv2q6+h/k5rplf7U3p14O/nczArkJBTgMcDzgBckqyKEOIuJIGKEEKIe561RMv2ujVUsquM5BlNuNno8Lqmkd4q2OVKQ33xdRmVO6yZ3tqfUt3dnl2FpQCcLq/EwcsJkBXqhRB3JwlUhBBC3PPUVemv70+5puzr+tXngatrqZTWbqhXS7/ugIxK8eUKSvIqsXOw4V+W2gFVlnvNOKVPRQhxN5JARQghxD3v6qr01zfSW1ekv7HsC8DLTq821P9aWa0+b83MGO+AHhVrf0rnnq78v9xCACZ6dQYg2aEm43MpvRjFotS5vxBC3KkkUBFCCHHPM9ZT+nX0yor01zfSW2k0GnU9lWv7VO6k0i9r2devHnoqLAqPdnRmvFcnAH6orsDRzY7qSjMFOTeuByOEEHcyCVSEEELc8+ot/Sqpe8ava6nlX9fM/HWnzPqlKApZpwoB2GBfk/F5xaszD9jb0dPBjhKzBX23mvFLQ70Q4m4jgYoQQoh7XpV1DZVrMiqXq01cqDLiqNPSw96u3n2D1YUfr2ZU9HfIrF9FlyooK6xC62BDqr1CD3s7Hu1YM9OX9b85nWomCZCGeiHE3UYCFSGEEPc8Y6W19OtqRiX1StlXXyd7tHU00ltdm1GxNtTfKaVf1v6U7PtsQaNhvFcn9VoGd6xZ8DHF0QJIQ70Q4u4jgYoQQoh7Xl2lX9ayr75O9Zd9AXSz0+Out6HAZCbjSkO9rb2u1nHbirU/ZX8HcNRpGXtfR/W1B92csNNq+MlgRqOBvMxSTNVt31MjhBBNJYGKEEKIe561REt/TenXkSb0p8CVFeqvW/hRZ6NFq9NgMSmYjZaWGHKjFEUh63QhAOkeep65ryPONlevz0Gn5UFXJ4x6DbrOBiwWhcuZpW0yViGEuBUSqAghhLjnVTdQ+hVUx4r017PO/HX4SkO9RqO5pvyrbbIqBdnlVBRXU2qvIc9Zq870da1H3Wv6VC5Ln4oQ4i4kgYoQQoh73tXSr5qMQ7HJzLmKauy0GnwdDI3uH6xmVK6d+atty7+sZV/nOut51N2F39RxHY9e6VM5VBOvSJ+KEOKuIoGKEEKIe151Re2MSuqVEq7ejgb02vob6a2CrllLxdpQb1080nrs1mYNVNI9bHjlygKP1/N1sKObnZ7TrjXXmHOuqNXGJ4QQt0sCFSGEEPc843XN9EdvouwLoKudnk56Gwqvbag3tF1GRbEonD+VD4Dlfkd1KuLraTQaHu3owiVXHYpeQ/HlSipKq1tzqEIIccskUBFCCHHPU0u/rmRB1IUeG5nxy+rahnrreipXF31s/YzK5axSLBVmCh20jOnTpcHplR91d0bRaih0twWkT0UIcfeQQEUIIcQ972rpV00W5GjplamJG5nx61rXN9SrzfRtsOjjgaOXAMjqoucZT/cGt324gzM6DZy6Uv4lK9QLIe4WEqgIIYS45127jkq52UJaWSU6DfRxvPlAxdpQb82oGNug9Otwai4AXXu51ZqSuC4uNjoiXBzJdK8ZrzTUCyHuFhKoCCGEuKcpiqKWZ+kNOk6UVmABejkYsNc1/c/gtWupKIqiZmeqWjmjcrnSiM2vNRmhJyO9mrTPox1duNCxZrw56cXqhABCCHEnk0BFCCFEm1EUpcU/NJuMFhSLgo1ei06nVcu+Glvo8Xqedno629pQZDJzvrL6mnVUWrdH5auDWdgZFSpcbOjbzbVJ+wx2d6bIQUu5QUtVmYmi3IoWHqUQQtw+CVSEEEK0CbOiEHfoDA8mn6DE1HIf9tVV6a0zfl0p3Qp0atqMX1YajYYgp6t9KtZ1VIytmFExWRRSrvSn3NfLrcn7BTrZ426rJ/NKVkX6VIQQdwMJVIQQQrSJhOx8dhWWkl5RzWeZl1vsPMbK6xrpS24towJXy78OF1e0SUZlS14RHS5UARAe6NHk/bQaDY92dCbL2qciM38JIe4CEqgIIYRodaUmM++dy1YfL/n1EqUtlFWx9pDYGmyotlg4WVYJQN8mTk18rRCXqw31VwOV1suoLDufy/2XjQB0793hpvZ9tKMzWR2loV4IcfeQQEUIIUSrW5hxidxqE6EuDkS6OlJgMrM8q2WyKldn/NJxuqySakWhh70dTo3MllUXtaG+tBy9QVvr+C3teGkF588VYmsC1y4OOLra3dT+j3R0IftK6dflX0swmywtMUwhhGg2EqgIIYRoVb9WVrPk15o+i3d7duMN7y4AfPJrLuXm5v/wbFTXULHhyC020lvdZ6vHw9aGYpOFy5qaSQCsa7S0tM8yL+N9qSYo6u53c9kUgE62Nvi5O3LZWYvZpJCXVdrcQxRCiGYlgYoQQohWNe/MBaosCk92dqVo/XmKVpwh3MFAntHEFxeaP6ty7ar0N7si/fVqVqivKf/6xWysdfybGU9RbvlN7ZNvNLEuJ58HLtWcs9stBCpQM02x9KkIIe4WEqgIIYRoNSlFZWy4VIhBqyH+goaTey6SeaqAcWdrMimLMi5R0cxZlauBio7UK4GKNdi4FdbyrxPG6ivHb3pGxWQ0s/b9/ayatYd9/z7X5KmZv7yQR7XRwgOXa87Vzc/t5gZ9hfSpCCHuJhKoCCGEaBUWReHtX7IAmOTgyolv0tXXCn/O4SGTDZeqTazOzmvW81pLs2wMOlKvlH71vcXSL4CQK0HO0eqa2bduZnrilH+nU5BdBsDeb86xYMF+Pku/xDeXCtlTWMov5ZUUGU21AhiTReHzrMt0yzOhMyu4d3PE3sn2lsYe5uJIkYcegMyzRbd0DCGEaC02bT0AIYQQ7cOGS4UcKC7nPp2O+7dcIt9oofeD96HVajielM3IAxXsirDh4/OXeNbTHcNNrBrfEGtGpUQHFRYL3ez0dNTf+p8/azbmcGUFj2pqFpQ0my3oGhnv5cwS9m/JQAF29LXnoZMV2J0o5pecE/z3QGdK7a/ur9do6GRrQ2e9DXZaLVlVRkbl1wQv3XrdWtkXgI1WQ2+fDpi0RZRdqqCq3Iidg/6WjyeEEC1JMipCCCFaXLnZwrwzFwB47VcN+b+W4uxu4OGne/Hg73picNJTea6EETkKF6uNfHUxv9nObS3NuqSpKSm7nbIvgPvs9HSxtaHYrKC7sjaLsZHyL4vZwublx8GikNLTjh7RXri87IvFVU+3fDNTfihhaJUeH3tbnHRajIpCdpWRI6UV7CuuycCE5NeM/1b7U6we7ezKxQ7WhR9LbutYQgjRkiRQEUII0eL+8eslsqqMDCrTUvXzJdDAsBf9sbW3weCk56GnfgNA/5RS7KotLDyfQ7WleXpVrCvTZyo1wcStrJ9yPWuwo9hqa52jPvsSMyjKLKPIQYsyuAvze3nxSr/uvPJf/fHs6YptmZlB/85lpY07vwwK4tygIPY96M93Yb34ItCHz/0egAsVoIGuvm63NfbB1/SpXDh355Z/GS1N698RQty7JFARQgjRoi5WGVmYcQm9USF6VwmKAqHD76/1gbv3AE88f+OKpczE705Wk1VlZM3FgmY5v/FK6de5K7N03erUxNeyNtRX6TVAww31hZfK2fvNOQAOPOTKwhAftJqa/eydbRn1x370ifLEZLSw5f+Osfebsxg0GrobbOnn4kB0J1f6FilYzAqduztjcLy9Uq1uBlssnjXjP/1L87zHze1QcTkDk09wqPjmZkcTQtxbJFARQgjRouafzabcbGH8SSPV+VW4ezkR+USPWttotBoe+b0fGq0G35PleOab+N/zOc1yV90aRFinE77d0i+A4CvHKNVZz1F3RkVRFFYvO4rWpHDC2455j/XB5bqFJnU2Wh59tjdRo3ui0cC+f6fz/f8dw1h9NfjJOlUTUHTr5XbbYwfodaXPpfB8SZNnHmst6RVVPHvkLOcrq5t9YgUhxN1FAhVRL0VRSCoo4f/lFJBvbJ2Vl4UQ95YjJeUkXMynzwUjHsdL0dloiX7JH53NjX9+3Ls5ETy0OyjwuwMV/Fpexbqc2+9VsQYR+VqFzrY2dLG9/XlkrIFKgda66GPdvyO/3noOzpdRZqdh+DN++Dka6txOo9EQMux+Rk4Jxtag48yBS6z/4AClBZUAZFoDldvsT7Ea5ONOua0GbbmZkvzKZjlmc8itNvLM4TNcNpoY3MGZ//b1aushCSHakAQqok6nyiqJP3yWuENnmHz8PIFJqYw++AufZ13mYpWxrYcnhLgLKIrCO79kYV9p4amUmhKeAU/2wL2bU737RIz0xqmDHe55RkLPVPG/53Mw3WZWxRpEVOk19HWyR3Ol7Op2dLHTc5+tnnIba+nXjYFKWk4pZ745D4A22pNY706NHveBvu7E/SUcl04GcjNKWDM/hcyT+Vw6X4JGq7nt/hSrAW5OXLyy8GNa2p1R/lVmMvPckXOkV1QT5GTP//X1Rq+9/a+VEOLuJYGKqKXAaGLm6UyG7DvJjoISOpthqI0BDfBzYSn/eTqTkF3HeGJ/Gp9kXOJ8RVVbD1kIcYf67nIRuwtKeWp/OdoKM938OhA8pHuD+9gabBj4tC8Aw45WcCm/kg2Xbu+DtLX0q8pG0yxlX1ZBzvZXe1QqaveoVJgtLP/8CHZGhfz77fnjb3s1+bgduzoyekY4XX3dKC+qZuPfD6FYFDwecMbW0DyrChh0WvTdrkyzfKrty6uMFoX/OJbOoZJy7jfYsiqoB07XlcgJIdofWUdFADULiq24cJkPzl2kwGRGb1aYfEGL+74CzEYLo3q4UBnkxg4P2FZSxr7imn/mnLlAoJM9v+3sysjObvSqp6yhrZTkV3Jkeyb2TnqCh3VvdJ0DIUTzqLJYePfMBULOVeOTWY2tvQ1DX+iDpgl3yHuEdOaBvu6cT80j+nA5/+uew++6dEB3i5kQa7ajSq8hsBlm/LIKdnbgoP7GjIqiKLz77xN4pVditNEw/uVAbLQ397vH3smW2Kkh7PzqNMd/rpnWubnKvqx8enbAlFLE5TaeolhRFP5y+le25ZfQUa/jn8E98LCTtV2EEBKoCODH/BJmpWVxurymTnlUkY7IfcVU5lVhBmz0WnLPFsPZYh406Ph9RBcKA1xI1FezNa+Yo6UVHC2t4P1zF/F1sOMJDzde8ep8Wwuq3a7iyxXs//48J3dlYzHXlI2cOZhL9Ev+uHVpvjuqQtyrzIrCtrxituQV08PejlgPN7oZmr4a+meZlynKreCZgzUlX4/E98K5Y9NuZGg0Gh4e24vMU8kEnq/m4LlSvvEu5MkuN/9B3Wy0YDEpmLVg1mmaZcYvqyBne/ZcCVSuXUfl/37JwXXbJQACnvCmW5f6S90aorPRMnicH528nDi55yJ9HvS8/UFfY5B/Z7aRju2lSowmM/o2ymD8z7mL/DM7H3uthlWBPfiNw511w0sI0XYkUGnHzpZXMfuXLLbkFQPQt1rL749VU3E6n0pqyg8eHtsLjwec+WX/JY7/fIGcc8Wc+ukC/HSBR7s7MfEhTy76OrK5pJTvLxeRVl7F39Jz+L/MXKY+cB8vd+vUbKtLN0XhpXL2bz7PqT0XUSwKaMAhwI3qzHIupReT8N/7ePhpX/o85NksdepCNKcysxktGuzbMPOXU2Xkn9l5fHEhj6xr+tHmnLlApKsjozzceKKzW4N3vC9Xm/jobDZP7SlDb1LoGe6Bb0SXmxqHa2d7wh97gOSvz/Hb/WX87wMXifVwU6f1baqqK/0plXoNLjZa7r+JYKsxwc4OVF3pUbGeZ1dBKXvXnyGkUsH2fkeGRXvf1jk0Gg2Bg70IHNz0pvLKykpycnLw8PDA3r7+wKx3Zyc2OOtwKTGz55c8Hu7tcVtjvRUrsy7z0fkcdBr4R4A3oa6OrT4GIcSdSwKVJqo0WzhSUo6LXkdvx+a7I9cWik1m/pZ+kWWZlzEqCq6KhtcyNej25lFhUrA16Ih8ogd9B3dTS6X8o7riH9WVvKxSjidd4NSei1z+tZTLCWnY6LXEhnnw54e8OOuuY/GvufxYUMJfz1zg86xc/tPHk9916XDTHzBuRsHFMlK+Sydtbw6KUjPVqX1wB9b2sOGArRm7Xg48d8QGzzPlbP/iJOdT83h0XG8MTlJe0BqKjCaOl1XSy8GAezPMuHQvURSFfUVlJBy6QMGByyga6PVwVyYEebXae2VRFH4uKGXlhctsvlyESQGNReGRHAsPZZkpsNfwcwc4ZCxlb1EZs9KyeMjNiVFd3PhtJ7cbxvn/ncsm8Fg53fNMOLrZ8Ui83y3dGOgX/QAn91yESxV0PFDIpt8U8biH200dQy37stEQ6OTQrDcoPOz02NvXXHteaRVZldXM/uE0o85Woeg0jB7ft0mlbs2hsrKSX375hVOnTnH+/HksFgv29vYMHDiQwMBAtHWUnmk0GnRd7eFUKftPtH6gsjm3iBmnMwH4n17dGd7JVX3NbLLwy/5L3B/QEXun5gsuhRB3F41yp02gfo3w8HBSUlLa5NwlJjP7isrYU1hKclEZB4vLqb7yVg1wdeQVr86M6OSKzV00I8nlahMbLxXwt/Qc8owmNIrCy6V29NiVT0VhNQC9H7yPB3/XEweXhv8wmIxmzh7K5fjP2er8/gAd7nOgT1RXLvs58t8XczlRVlNOFuRkz9s9uzKwg3OzXlNeVikp36Xzy/5LoIBWq8EhpCP/6qFjv67mA0p3gy1lZjP51SYCz1fz+MFybKoVHF1tGfqiP937dGzWMTXkVFkl63MK2J5XhJ1ORye9DZ1sbXDX2+Bua6M+tj7XUW9zy3X5iqKgKICioAAoNf8oNf9CUbi6foICOr22ziljb0VWZTV7i8pILiojubCUk2WVKICdVsNTXTrwH16d8W/GXoEyk5nvLheRXWWkl6OB3o4GuhtsWzQ4vl1FRhP/yszj511ZdDtWQrf8q6VDFg2kdbel6+CuTIi4v8XKKPOqTSRczOeLC5c5V1HzO0BvUXjmso5eR0qozrtusgwtFN9nx4FOOtK62HCxgw4brYaHOzgzysONxzq5kl1t5Pebj/FiYjE6BWJfD6G7/63/jP16Mp+v/34Iow4Sn/Lg6yEBN/V1zc0o4V//vY+Lbjp0r/Rkds9utzyWuvxx/VF8v89F39uVDQMceHBNDh3LLEQ84UPkSJ9mPdf16gpOoCYAcXV1pbCwEIAuXbowdOhQunbtesMxEr4+zeVNmWT2cuS9N/o3ek5FUcj+pZBjP1/AbLTQK/I+Hgh0v+n+v5SiMkYf+oVKi8Kfve/jzz73AVBWVMWxnVkc++kC5cXVDHiyB2EjvG/q2EKIe4cEKlfkVhtJLixjT1EpyYVlHCutwHLN6xrAz9FAZmU1peaaV7rZ6Rnv1Zlxnh1xa8N+jIacK69i8+UiNl8uYl9RmXpNQyy2/PZgOUW/1JR9db7fmUHP9OK+Hq71H6wehZfKObErm5O7sikvrvmwo9Vp8A7uRK6/M3+jlItX1mEZ2tGFWT09bzsrlftrCSmb0jl7MFc9n1OoO2t8dOzV1JSrdLPTM837Pp6+rwPVFoV//JrLJ79eQlds5Mk9Zdx/uWZMwcO68+Co36DTt0y5TVZlNRsuFbLhQh7GtBKCzlXxm4tGSg1acjrouOim42IHGy666Sh20MI1H8I0QMcrwctv7O0IcXEgxNmBYGd7XK98z1nMFgpyymsyXJmlXP61hMuZpVSW3tw00lqdhm693HggsBPegZ1w7dy0r5FFUThVVlkrMMm6bgprW42GHg52nCy7ul7Dg26O/IdXZ2I6ud5SMGZRFHYVlvKvXy9zPPUyD2RW41BlIbujDZnuNhR21uPj6kBvJwN9HA30drSnt6OBzrY2bVb2pygKB4vL+eexbC4nXyLgbBX2xppfwYqdFp/ILpRVmMg5kIv2yg/r+fv0dBrkycsDH8Dd9vYzgIqisLeojJUX8vjmUqF6A6a7zoZxuVpc9hVQUVgToLh0MhA8tDtV5SYyjuWTc66Ia/9iVNtrOeVhw5n79Jy5T4/JXkdnjY7Yby/TqcRC0KNePDy26bNd1ee7/0vlbMolTnfVM+IPgTx2E1mVrFMFbPjoIOc729B/Sl/i7mveGxMfbf8F24QMzt+nJ8tVx0OnKnHr6sgzb0U0W+B/LWtwcvr0adLT02sFJ926dcOhgw0Xyk5x5mIq3Zx6oyvuQFVlze/lvn378vDDD+PoeLW86uzpfL772yEuueqYNjeq3r9lxiozp/de5OiOTPKyymq9Zu9iS+8B9+Ef1bVJPYBpZZXEHkijwGTmWU93/qdXNy6ll3BkeyZnDlxS+wo7dnUk/Lfe+IbfXNmgEOLe0eqByubNm5k6dSpms5lXXnmFGTNm1LttSwYqudVGtueXkFxYyp7CMs5cO82uotChwkKEWU/fah3dyhTsC42U5Vag1eso9rRjp6OZ/a5Q7KjDXqtlzH0deMWrc5vPeqUoCodKKvj+chHfXS7i1DUfDG01Gh5xcGDYiSrKk3OxWBTsHG148Mnf0CeqK9rbzA6ZzRbOH83jeNIFMlLz1A80Th3tKApw4TN3ExftNGiBeM+OTPfx5L4mzuyiWBTys8u4kFZI+tE8Mo7VTKeps9HiHN6Jf3lrSFZqPhzfZ6tnqncXfu/ZEbvryh3yqk0szMhh+a+5hB+r4JFjFWgVcOnqwG9f6Yt711trer1evtHEt5cK+X8X8/n1bDFB6VUE/FqNfXXDP24mOy1F7npyO9iQ4arlrIuGy846lCtfG1ujgkehifsKzfiWKHQrsmCfVw3meo6rqQl20Giu/LfmA83V56++Zqw212RdruhwnwPegZ3wDurEfT1cqAZyqo1crDJysdrI+YqarMm+ojKKTLWnZnWx0RLh4kR/N0fC7A08UAaV+VUUGTSsVyr4Z34hZVcC/u4GW8Z368TvPTuqwVdDfimvZO2ZXA4dyMHjfAU9cozozTdupwC5Ljqy3G3IdK/572UXHR3sbOjtaE8fRwN+jgZ8HQ34Ohhw1+taLIApNZlZeyGfbXsy8UgtwefS1RmibLs5MGBId7r3cSKv4DIAjrZuJO3MIXNPDjZXApmcjja4DOzCS0N74H6TMyJdrDKyv7iMlKIytuWXqL8XNMAwJydGZpop351LxZUbDR3ucyDsMW98wz3QXnOnvLLMSObJAn49nkfG8XxKC2pnXLI76KjUa/C5ZMKliwPxMyOwsa2/QdtisZCbm4vZbKZLly7odHVvW1ZUxfK3d0OVheShHVkxOrjJX6tzh3PZ9MlRTnfVM+VPEc3+O/qbgxfI+MdJyuw02FcraIHRb4bTxdul2c5RXl7O2bNn6wxOvLy64exu4GLFLxzP2Ee1qfbXRKNo6aTtiYPRA0UBOzs7oqKiCAkJQavVYjKa+WTqj2gs4DUzmCe7u9favzCnnNQfszixO1tdj8beWU/Aw92wc7DheFI2BdlXA5euvm74R3nSI9QDfR1f+5wqIyMPnCaz0kiMmzNvVjpwbEcml86XXLkm8AnuTNCjXnTt5Sa9hEK0c60aqJjNZnr16sXWrVvx8vIiIiKCf/7zn/j7+9e5fUsGKlsvF/Ef+8/gXmzBvcSMR5mF31Ro6FRiRldoRDFaGj8IUOmkI62jjozONvzayYYAbzdeud+DIR2db6o8QVEUCk1mCo1m7LQaHHRaHHRa9BpNo7+oqy0WdhWWsvlyMd/nFlJYUo1bmQW3MgtdKiwEmGzwrFAwlJgpzavAbKppMu/7cDf6x/ZokT6N0oJKTu7O5nhSNiV5Vz4UaaDc25F/d9NwylOPnY2OP3TvzJT7PW6YL1+xKORdKCXrdCEX0gq5cLqQyrKrd+lt9FpcIzuzxltL0pU/zJ1tbXj9/i4819W90Qb+C5XV/C09hx+P5fDE7lLcSy0oNhpCR/XgwWH339IfxzKzmS2Xi/l/OQXs/7UA//RqgtKrcC+5+r3k7uVEj7AOOHQzYtA5UV2kpSC7grzMUnJ/rTsLotVrcehiT0W5EXN+dZ3nLnDUcqmDDrOHAfduTvTs4Ya3hyM6rQatpiY41Go06Kj5cKPVoD6npeZrU1ZSzbnUPPKOF2A8U4Km6uq4K201pN2nJ62rnjOeeipta7+/Xe30PGRrIMRog3eZgl1BNYUXyynILr9x1WsNuHS2p6STLSkGMyecNVzsoAN7G56+EvD7XvdhMr/ayPrjORzafxGns2V0yzNz7VfItbsTvft1xrmjgZzzJeScLeJyZql6Z9aq2kZDVseaoCXL3YbsDjZU6TUYdeBma0NPBwM9He3o6WDA18EOX4eaErKmlngqikKlRaHEZKbIZOZStZGv03LJSs6h75lKnCtrxmOx0dCxtwMe91dTYsolJyeHsrLr7lLb29OpQxcKCjpTnmbB7sq+BU5a7B/y4IURPenkcGOJZpXFQmpJBSnFZewvLmd/UdkNGa7OtjaMc3Ml7HQl53/Kpqq85gNo5/udCXvsAXoEd260t0JRFAqyy8m4ErRcOF2I2XTlA7RWw5gZ4XS+v3apZ3V1NRcvXiQzM5OsrCyys7Oprq75nraxsaFr1650794dLy8vPD09sbG5Grju/yGDPWt+ochBS/j0YIZ7Nm0GsP1JWez54hTHH7BjwYyHbrmUsj6/nC/k+/cOqI9DhnUnarTvbR3TbDZz4cIF0tPTSU9PJycnR32tJjjxwq2zI5eqzpF6fg8VVVe/d7w9/Qjr9TD+3mGcOH+QpKObyc7LwEYx0MHcA3ulJqPk7u7OsGHD6N69Ox/P3oXmYiU//bYT9/t1wGJWsE8vw/lwEY7ny9Vjl3sayA9yofA3jph1Gpx0Wh6ws+W+PBPawwXkH87DVF3zPWBr0NEr8j78B3ZVvw9KTGaePJhGxqVyRmaaCfylksqSmu9NO0cbAgZ2JWBQN1zc7+4+UCFE82nVQGX37t3Mnj2b77//HoD33nsPgP/8z/+sc/uWDFT2bT/C3oTL9b5ua2fCydmIs7MJFycTLi4mXJ1MGE16cvPsyb1sS+4lG6qra//RK7fVkNnJhtL79IT2dGaorwtVei15Rgu5JguXjWZyjWYum8zkmSzkGi1cNlnIM1kw1vGV0KFgp5gxWEw4VxlxrjLiWGXCscqEQ6UZm2oN1UYXnMo1uJVacCszY3fjAsm1WAwlOHX9FQ+3ctxtzHSyMdFRZ0SPGSxmNBYzWExgufIYQKsDjQ6NVgdaGxS0GLVaqrVQhYYqFKqv/NesAa3WBq1Oi1ajo7iwAxczu3DpoiuKUvMBt9oA+7wNHOxhB84K3lTjUWTB45KZDpcUnC5Z0F3/mdxBg203Pdquer7xsGPPlc/KHWy0TOzqzjjPzjjUc0dec91/rQ/Ollex4JcLmLdepN+5moDH6G3PiKe74+hmTyU1HzzLLQrlZoVyi4UKxfrYQoVFocJi4Vx5NT9eKsP712qC06vwvuaOuWJThdn1AtVOuVj0ZnTY1RqbggWtxoyN1owtdtganbGpdoYqZ4xlBqrKr16TVgcd3LW4ddJi6qAl21XLMRcdh7Q2nDZrsdA8H8K0FoXul034XjDS60J1rWDLooGy+2yhmwGPKgv2BdWU5xmprKj7V4lGo+BkX4mDfTmVVXYUlzmo3wfXKrK/UgrXQUeHLnYM93WmskjhWGoh9ukVdCi9ZgxasOumx/sBPR28NOjtLJjMZhRFwUar4f9v777jmrreP4B/bhK2gDirVgXqliUgFhREVNS6B9q6qYrar6i/umqHs9X2a6uiVVv3top7dDlbFy4UVOqoIrgFQXbIOr8/Yu6XQG5IYpD1vH3lJVxO7j03uTe559xznkciEkPEOOSlMWSmqpDxQon0F0rkZQt/3ClFgFysbrTIJRzkYg4KMaCQcJBYcLCyFMHGUgwGQKFS5x5SqBiUTP2zUsWgfD0viHv9sFQwvPtSAdHrzcqrqCB2fIF8y2eAWLszxNLSArVqVAM4DimpacjPL3ACqDhk5b8Lm/SasH993ZhjzUHhbouOQe/gAccQlytHbG4+EqQKFL5xZ88BXlYitLLg4CFTwe6mFHfic6F4/aFTq4ENPNrXRN2mVQGJBSCWvH6I1a1YlQpQyMEp5ODkMvVDIQenkEGRnweZNBN5mWl48liK50842Dplwb5uNrKUHNJzGTJylMjOZZDpOEaUIhkABrFK+7zgRBwcq9qhVq3qqF+7NhrUfAe/rHsOpMjxb0trfNixCpQqDgoFoFAyKBUiKFSA8vXvcpkScgXD83+lsEzIQ1ITa3w31Bn8hC1+ftbryVuvf1YpVciXyyDiOFhwIojAAKZSvwZMBagY5Ip8ZORl4FVeBl6kZePar+p5L5Z2crT54BWqVrGHvVUVVLFygMTCAuBE6oeIe/1ZyqkfTKXetEqFtKws3H/6HEkvUvA45SXkyv/dJhSJRKjp4AB7Ryukqx7jTtoN5Miy+b/XtHNCy5rvonmNaqgqUQCKTECRBU5iC1g44HEeQ+zzZ0h49hCWyqpwUrpCAnVngOt7LlClNcLzSy9xtpk18qw4+PybD6cc9fEpFwM3GljiciNrPKum/46npZzB+2E+vO/no/rL/9XfspYl6nk5IlqsgM2NHDR/JOPPiSq1JKjjZQmnxhxUnBxypRxyhRwKlRxyhQyudZuiWUPdnZmEkIrvrTZUdu/ejd9//x1r164FAGzZsgUXLlzAjz/+qLN8STZU9m5YgScXm0BlIYXKMg8qizyoLPOgtMiB0iIXTKIAgwrqqcfs9f8qANzrfyJwTARxfhVIpFUhyXOESOoIsaJoD6eS01z44PXFDwe55PVFkUR9MSQXc1CKVOCggqUCsJZxsJID1jIGWxmDtYwZfAnKOCWYRT6YhQxMIoOK/zkfKot8cKKibzkDg4rLAxNlA6IscKIsiMTZEInUF+8yJoJMxUHGOMiUHORMAg4ScBCDgwgiJlH/DzHU/fYAxzj+9QI4iBSWsM1qCJsMZ1jI/jcs4mlVMZxyVLAu1FJ7ZStCck0JkmpZIKmmBOlVtOdvWCmkcHtxFR6p12HDlBCDgwSAGIAYIojw+k4COAAiKJkYKoihev0/Y2KoB2qI8cLaCcniZmidIIHt66s8hajA+/b6wlUu5iCTqC9e1T+r/26Xz9D0sYwfgsQ4FZR2r6C0T4PKNlOrhcSggpLLA5gIIlhChGJyFyjFEMmswUQqMMtccCIp/xCJpOA49f9ysRIvbKrhiXUdPLF+F1liBzCOgwocGNT7qt5vERgnAoP2Q8QYqsjzXj9yYKfIQRV5FuwU2XDMUcDulSMk2XUgzq39+pXVphLJobTMhMIyGwrLHCgtc8Es8sAsZOA4zTHCAUwEscwOonw7iPOrQJxvB1G+LTim/3WQWjDkOObCxuIFOJsM8JM4jKGQQCS1e/2wBSe3AacSAUz0+jg1PxXHIHXIhLjKM6iscwAOUEEBBZcNuSgLCi4bClEWlJAC3P+umzlYQcLsYaGqAgmzgwWrAgmzQoa8LizTa6NalnB9VRyg+ezioAK4159lHINIacGfozK7B8ivEQNm9whiBkjAIGavHypAwhg4BihEHPJFHPI5kbpDgpNAAQsomASMqT8HRJBABDFETAILZgcr5gALaPeMMzDIuGzIuCxIuQzIuCwoudfz2pgFrJgDrJkjrFSOsIRdoeeqkC8To2pyK5PeqX8aZsLJ6g9YcmJYQAwJxBBDAhGTAJCAMQuomAVUhYJhclAAUIJxSqigghJKKKACgxIqqIdL1vi3KzhwSH33L0jtnkEF9fcHgxISTg5rTgFbyGALGeyYAvZQQawSIRs1kMNqIpfVgBLacztEyAbHpQHcSyi5V8jkOLzi/le3qhIFWthK0cJOihq6xj7qkKvkcD3HBlez7KCSNYSD6l2IIIY40xGWL97TKiu3ykd6nZdIq5kJmYSD8vV7zZgE3OuP6nyxBK+sbJBhZYtXVjZ4ZWUDuVhdx1qvFPC6nw/3JBn/marBwKCwS4XUKRn51qlQiRRQQQ4VFFBxCigL/OxpaYURn2w0aP8IIRVPmZsBvnr1aqxevRoAkJKSUmLbsapqBalrHAp/46kvcm20xurrXxEAq0woHDMB9hCcwhKQVkG2sgbE0ipwzAHEDBDLGazlgOErLkolUkIpUUIpVkEhUUFhwSCTMFgjB1aiHDBJPphFLpg4B0yUDxUnhRL5UHL5kCMfci4fMiYDgwUkzA6WrAosmR0smB0sYAsxswWUtoDyfyEqFZBBCTk4iGANMWwgLv7CWogIgKMCCod/oZLaQZxZHeJsJ9R5pf6zzFKOLHsZMhzlSHNUItuOg0wkhkgkRr18MWrJxZCL1I8GWenwfpEMK5USgGuRTSlfP/Th8L+3/528fLyDODxtVB0WKQ1RLwWQqACJjL2+1DLsfVNaZ0HpkAalXTogVkDC5cCWy4Etl4sqnBRVkA9bKKGEFThOAQXkyOOUyIEIOZAgl1lAyiyQzywhZ1ZgzAJiiQVEEgtImBXEsARjNmBKG0BZdB+rZwFOUKApkgEwiGEJESze8CJcfcHIHAC5w1PIlc8hznUAl28HJpGBWUqhspQCYjn/gqov/USvn2un/fJxAKyUgFUmlMhU7wMDOLkVRPm2UMqrIE/lCOs8S+RbAFmOObCVPIKlJAUSjkHGqV5fBKoKdCZofoa6E+F1A1rdiP7fz5xEDFYlH6oqGdq7yF5XTNNoef0/GAcFLJAjtkGOxApSkTVETAUJU0KiUkLClLBQKSFhKlioFLBQKdU98Jod5hgUVlmQSV69vkBXPxSvGyXa2xcVOszkAJcGiNP4JSJmAUuJHZiVHR7UdIdVRiPUTFc3MjkG/n0WafbndSO98OGrtHsFuZO64STCe4DMFQwMcjDIoCrQOaO+NcQxETil+ty35vviDaGAhSQD1pJ0VLFIg6N1OmzEcliJGKxEDJacClYi9dZylCLkKF8gRyVGjlKELLkVsmXVkK+oBpWiKkSsCqwtGV7UzkLt5+qhREpRoYeY8T+r+P8ZFBKG6hYvYK/SvhjX9Tmh3mv1UhEkYK+PZrDXwyUBFB4sK6/5EOAY7KztYacUjmyYByAXDC+gfH2M/u8gUEIOKfcKUtErSLl0vgGnpt5iFbESzWylaGErxTsWCnAyDsjlAKkYnBTgpIBIyiDKY5BIVWAWDMwKgBWgsgYsrIC21tl43y4HifavcDnvIV7lNIOdjSUYVOAggtI2AwrHFKhsM2HPAfbpKEIFdWNC/Tpx/H4wcMgXWyLDyg6ZVnbIqG2LP+vZouorW7g8FsMxlwG2L2Ft+xjMQg51d1dNQF+fg+SFnj8SQiq6t9pQqVevHh4+fMj//ujRI9Srpx0qMiIiAhEREQDUd1RKSrfeH6OTXA6lUgmVSgWlUsk/VCqV1rKCP3McB7FYDIlEAolEUuTngr+LRCIwxiCXKSDNlUGalw9prgz5eTLk58mRL5VDlieHLF8OmVQBuUwJhVwJiSUHC2sRJNbq/y1sRLCwEkEkFoF7PWdF8xCJRLCzs4O9vT3s7e1hYWHYfBOVSgmFUgGFUg6FUg5pfj5evkxFamoq0l6mIT3tFV6lZwJyQIyid4ksLCxgaWkJS0tL/mfN/5p9F4lEfB2F/mcKDtkpSlg7cpDYWGu99owxrf9VKiVUKjlUSiU4ezFEjq7guNcXqUwJxpRQqRTqh1IOFZNDpVJAqZSDEwGWEnX9rCytYGlpDWsrW1hb28La1g42Ng6wtXWATRVH2NpUAQcOuTlSZGfmIDszBznZecjNzkNeTj6kufn8+5efJ4c8XwnGVKjhYo13GtRC9erNUaNGDVStWlVn7gJj5OZnIz0zFelZKZArZVAqlJBKZZDmSvnjSZqXj3yp+riS5skApQSWhU5tC0sJLK0tYWllAStrS1hZWcDK2gIWFiJYW4hgJWYQc4CScVAxDgqleviM+n8VFAoVFHIl5HIF5DIF5HIFlIpMSCwksLS0hZWlE6ysrGBlZQ0ba2tYWVm//t2KP04KHxsFH2KxmD+31BiUKiXkShny83ORL3NHfn428mU5kMpyIJPlIl+ei3xZLmRyKfJleciXS8HAYGtlD1trB9jaOMDO1hG2Nk6ws60GO2sH2FhVgYXEAowxKBQKKBSK12Gc1Q+VSvW/n5UKMJUcTCGDUpkPppRBqciHSCyGSGQBTiSGSCwBJ5JAJFL/z4nEYJzmcpZBxalgZWlVZM4TE2r4MgZwHEScCBxX4HyHCCL+vBdprY8xBqlUiry8PGRnZyM3Nxs52TnIzc1Fbk4e8vLykJf3+niRSiGTyaCEAkylen2JaXzHg0QigqWFBSytLF+/19awtPzfe+3k5IR69eqheo2agEgEFWNQMUClYlAqZWAKKZR52WDSLDBpNphSjpqWNuAsrcFZWENkYQWxhTVEFpavX18xZPlyPHqUjKSkRLxMfQxOVPA1KfA66cwXAlhYvAOxuC5UIhWUTAkFk0HO8iFXSpGvzEO+IgdSRQ7y5TnIV+TBUmIFGysHVLGuCjsrR9hZOcDW0h62llVgLVF3ZjGVCkylglKhgkIugyz/HeTL8iGTySCXyfif82Vy9TmjVEGl4l7f+2WwslHC1l4FB0cO9lXEsBDXglhUBxKxGBKRGGKR+n+JWAxrCyu8W6sxJDbVIbJygsjSERxn+udLHQD+KgXS0pNw7OyvSOKuqo9K61xwYgaxBLCwFMPSSgJrayvY2FrD1tYOVao4ws5OfS5ZSqwgEVtAIpZAIraAWCyBWCTR+l0iUv8vel1XmUyGvLxc5OXmIC83B1JpLvJy85AnzYNUmgdpnhRSaT7ypFJI82Vwb9Xb5H0khJR/b3Xol0KhQJMmTXD8+HHUq1cPrVu3xvbt29GyZUud5UszjwpRXwBlZmZCKpVqNUosLCwoEksZpblozczMBGMMdnZ2sLW1FYymRCovTYOsYGeMrv9VKhUkEom6kW9lBQsLizdugFdmKpUKcrkcHMfB0pISGRJCiD5v9Y6KRCLBjz/+iC5dukCpVOLjjz8WbKSQ0qdJGuboaHxuFVI6OI6DjY0NbGwoag7Rr+BdWfL2iEQiWFlZFV+QEEIIJXwkhBBCCCGElD3UlUYIIYQQQggpc6ihQgghhBBCCClzqKFCCCGEEEIIKXOooUIIIYQQQggpc6ihQgghhBBCCClzqKFCCCGEEEIIKXOooUIIIYQQQggpc6ihQgghhBBCCClzqKFCCCGEEEIIKXOooUIIIYQQQggpc6ihQgghhBBCCClzqKFCCCGEEEIIKXOooUIIIYQQQggpc6ihQgghhBBCCClzqKFCCCGEEEIIKXOooUIIIYQQQggpc6ihQgghhBBCCClzqKFCCCGEEEIIKXOooUIIIYQQQggpczjGGCvtSgipUaMGnJ2dS3QbKSkpqFmzZrktXxbrVBn3gfa5bGyD9sH85ctinSrjPtA+l4waNWrg999/L9FtEELeAKvkfHx8ynX5t7EN2gfzl38b2yhr5d/GNmgfzF/+bWyD9sH85d/GNspaeUJIxUNDvwghhBBCCCFlDjVUCCGEEEIIIWVOpW+oRERElOvyb2MbtA/mL/82tlHWyr+NbdA+mL/829gG7YP5y7+NbZS18oSQiqdMT6YnhBBCCCGEVE6V/o4KIYQQQgghpOyhhgohhBBCCCGkzKGGihkplUosWbKktKtRYSmVytKuQqWmUqlw7ty50q4GIWWCSqXCrl27Srsab4Q+UwkhZR3NUSlGYmIili9fjgcPHkChUPDLDx48qLO8n58fLl68aNQ27ty5g/Hjx+P58+e4ceMG4uPjcfDgQXz55ZdvVPeC8vPzsWfPniL7MWvWLJ3lZ82ahXnz5vG/K5VKDB8+HNu2bdNZ/tGjR4iMjMSZM2fAcRwCAwMRFRWFd999V7BOKSkpWLNmTZE6rV+/Xmf5Bg0aoGvXrhg0aBBCQkLAcZzZ9teU50RFRSE8PBz29vYYPXo0rl69im+//RahoaGC24iLi8Pp06cBAIGBgfD09BQsCwCPHz9GUlKSVn2CgoLMVh8AiI2N5d+3tm3bwtvbW7Bsq1atcPXqVb3rE6JSqZCdnQ0HBweTni/ElGPPWMYeqwBw7ty5IuWHDx8uWD4+Pr5I+X79+mmV2bt3r956Fi7/JoypvynnmymMOR9GjBiBqKgoVK1aFQCQnp6OKVOmFHnPYmNj9W5T3/ng6+uLy5cvG1h748nlcqxatQp///03AKB9+/YYN24cLCwsBJ9jzPvm6uqK/v37Izw8HC1atDBbvd/kNdXIzc2Fra2tuapECCmnJKVdgdJw9uxZzJkzh//CY4yB4zjcv3+/SNk+ffpg1KhR6NmzJ0Si4m9AtW3bFhMmTMCgQYNgZ2fHL9f3wTxmzBgsWrQIY8eOBQB4eHhg8ODBehsqd+7cwaJFi4p8aZ84cUJn+d69e8PR0RE+Pj6wsrIqdj8ePnyIhQsXYubMmcjPz8fAgQPRqlUrwfLh4eEYPHgwoqOjAQBbt25FeHg4jh49Kvic3r17IzAwEJ06dYJYLC62Trdu3cLhw4exYsUKjBo1Cj169MCHH36Idu3avfH+mvKc9evXY9KkSfjjjz+Qnp6OLVu2YNiwYYINg6ioKKxZs4a/mBw6dCgiIiIQGRmps/yMGTOwc+dOtGjRgn99OI4TvDAztj4AMG/ePERHR/N1Cg8PR1hYmOCx17FjR+zZswf9+vXT21DUGDx4MH766SeIxWK0bt0amZmZmDRpEqZNm6ZVrl27djhz5gzs7e211qs5NzMzMwW3YeyxZ8z5r2HssTps2DDcu3cPXl5eWu+d0AXjxx9/jPj4eLRs2ZL/nOE4rkjD49ChQwCAFy9e4Ny5cwgJCQEAnDx5EgEBAYINlZiYGERGRuKff/6BTCaDUqmEnZ2d4OtqbP2NPXdMeQ+MPR/i4+P5RgoAODk56WxkT5kyBQAglUpx+fJleHp6gjGG+Ph4+Pr64vz584J16tSpE77//vsin/fVqlUzy36PHz8ecrkcn3zyCQBgy5YtGD9+PNauXauzvLHvW1xcHH755ReMHj0aKpUKH3/8MT788EPBzgRDv3fe5DU9d+4cRo8ejezsbCQnJyMuLg4///wzVq5cKfgcQkgFVkqJJktV06ZN2a+//sqeP3/OUlNT+Ycufn5+Rq07ODi4yKNDhw56n+Pr68sYY8zLy4tf5unpqfc5Hh4ebOXKlezChQvs8uXL/ENIy5YtDd8JxphKpWIfffQRW7BgAevcuTNbsmSJ3vK66lvcPhT3d33S0tLYsGHDmEgk0vl3Y/fXlOe4u7szxhibOHEi27t3L2NM+z3UVT47O5v/PTs7m1+HLk2aNGFSqbTE6qPZRl5eHv97bm4ua9KkiWD5KlWqMI7jmIWFBbO3t2dVqlRh9vb2guU17/HWrVvZp59+ymQymd59NoWxx54x578h69OlWbNmTKVSGVy+efPmRq2/c+fO7MmTJ/zvT548YaGhoYLlfXx82N27d5mXlxdTKBRs/fr17LPPPhMsb2z9jT13THkPjD0fPDw8WFpaGv/7y5cvmZubm2D5vn37svj4eP7369evs/79++vdhrOzc5GHi4uLYHlj99vDw8OgZRrGvm8FnTp1itWtW5fZ2tqy4cOHs7t37+rctjHfO6a8pn5+fiw5OVnrs8uUz3NCSMVQKe+oODo6olu3bgaVnTRpEubOnYvQ0FCtnkKhOyQnT540uj41atTAvXv3+J7k3bt3o06dOnqfI5FIMH78eIO3ERAQgOvXr8Pd3V1vuYK37CdNmoSxY8eibdu2CAoKQmxsrOB+V69eHVu3bsVHH30EANixYweqV6+ud1s9evTAr7/+ig8++MDg/fjrr7+wc+dO/P777/D19RUcI27o/r7Jc3x8fBAaGorExEQsXLgQWVlZeu+6Mca0euPFYjGYnpGXrq6ukMvlBt8RMrY+AFC3bl1IpVJYW1sDUA/hqVevnmD5rKwsg+qiIZfLIZfLsX//fkyYMAEWFhYG3Yl58eIFpFIp/3uDBg0Eyxp77Blz/msYe6y6ubnh2bNnxZ7HGv7+/khISDB4+M3Dhw+11l27dm0kJyfrfU6jRo2gVCohFosRHh6OVq1aYeHChWapv7HnjinvgbHnw5QpU+Dv74+wsDAwxrB792588cUXguVv376tVX83Nzf8888/ereRmJhoWOVfM3a/xWIx7t27h/feew8AcP/+fb139Ix935RKJY4cOYINGzbgwYMHmDJlCoYMGYLTp0/jgw8+wJ07d7TKG/u9Y8prCgD169fX+t2Qu5iEkIqpUs5R+eyzz6BUKtGvX79iGx8zZ87Eli1b8N5772kNyRAaYvX8+XN8/vnnePLkCX777TckJCTg/PnzGDVqlGB97t+/j4iICJw7dw5OTk5wcXHB1q1b4ezsXKRsWloaAGDZsmWoVasW+vbtq7UPQkMOWrRogX///RcuLi6wsrLihxzEx8drlevQoYNgPfXtd1JSEiIjI3H+/HlwHIeAgAAsW7ZM7wWmvb09cnJyYGVlBQsLi2KH+Tg7O6NVq1YYOHAgevXqpTXUwtT9fZPnqFQqXLt2Da6urqhatSpevnyJx48fw8PDQ2f5xYsXY9OmTejbty8AYP/+/Rg5ciQmT56ss3z//v0RFxeHjh07ar3Hy5Yte+P6REZGguM4JCcn49KlS+jcuTM4jsPRo0fh5+endy5Eeno67t69q9WQEBp+s2zZMnz33Xfw9PTEkSNHkJycjKFDh/LzdAo7ePAgpkyZgidPnqBWrVpISkpC8+bNcfPmTcH6GHvsGXP+a2iOVUtLS1haWhZ7rHbo0AHXrl2Dn5+f1jaE5rb99ddf6NWrF9555x2Djr0JEybg7t27fOPsl19+QePGjbF8+XKd5YOCgnDs2DGMHj0a77zzDurUqYONGzciLi7ujerv7u4OjuOgUChw9+5duLq6GlR/Y94DzbH6+PFjo84HAEhISOA/s0JCQvQ2BD/66CPY2dlh6NChAIBt27YhOzsbO3bsEHxObm4uFi9ejOTkZKxevRp3797F7du30aNHjzfebwA4fvw4wsPD4erqCsYYkpKSsGHDBsHPaWOPO1dXV3To0AGjRo1CQECA1t8mTpxY5LWdM2eOUd87prymAwYMwKeffooJEybgwoULiIqKwuXLl/HLL78IPocQUnFVyoaKrg95oYvwRo0aISEhAZaWlgatu1u3bggPD8c333yDuLg4KBQKtGrVCtevXy/2uTk5OVCpVLC3txcs4+LiAo7jdPbE6xvrnJSUpHN5w4YNi61XWZGZmWnwRGxT9teU5xw8eFBromvPnj11llOpVIiJiYG1tTXOnDkDQD2ZXt+8n02bNulcPmLEiDeuj9C6i9vG2rVrERUVhUePHsHLywsxMTHw9/cXbMDqolAoIJHovpnr6emJEydOoFOnTrh69SpOnjyJrVu3Yt26dQavvzjGnP+m+uuvv3Qub9++vc7ljRo1wuLFi+Hu7q51F0zfsbdv3z7+vQ4KCuIbwLokJSWhdu3akMlkWLJkCTIyMvCf//yH76k3tf5C50xx9TfmPTD2WNV8Tmg6dQoTuqiWSqVaE9eDgoIwfvx4/m6jLoMGDYKPjw82b96MGzduIDc3FwEBAbh27ZrO8qYce/n5+bh9+zYAoGnTpnrvKBl73GVnZ6NKlSqC6yvMxcWlyDJ93zumvKapqamYNGkSjh07BsYYQkNDsWzZMsH3jRBSsVXKhoox+vTpg9WrV6NWrVoGlW/dujUuXbqkFR3Jy8tL5xfX4sWL9a7r008/Nbq+hZn6pW1sFB9joiLdunULzZo1E4wMI9S7OH36dHz55ZewsbFB165dER8fjyVLlvC9dYBp+2vqa/TZZ5/h0qVLGDJkCAD1kKPWrVtjwYIFOsubEjFLJpPxwy+aNm2qN9qPsfUBgCtXrsDHx0dr2eHDhwV7hN3d3XHp0iW8//77uHbtGm7duoXPP/9c8A5MRkYG5s6dq9V4mjVrFhwdHXWW10RR8vT0xNWrVyESieDp6SnY8w+8nah5jDFs27YNiYmJ+Oqrr/Dw4UM8ffoUfn5+gs9JSkrC3bt30alTJ+Tm5kKpVAp2Qvj7++udYFxYTk4OrK2tIRaLcfv2bdy+fRvdunUTPD6ioqIwadKkYpeZ6t69e3j33XdhZWWFU6dOIT4+HsOHD9eazG5O6enpePjwoc67hT169MDhw4f5Th0NZsCEfWNpjteC53Zxx6sxdJ1Xjo6OcHd3F/xOMua4mzhxos71+/r6onfv3m9W+ULS0tLw6NEjwTvOGmfPnkXbtm2LXUYIqRwqVUNl69atGDp0qGADQVfDIDg4GPHx8WjdurVBt9KDg4OxZ88edO7cGbGxsYiJicGMGTN09nTNnTtXb31nz54t+Lfo6Gh07doV9vb2+PrrrxEbG4uvvvqqSA994S/tgm+3vi/trl278lF8Co4P1kRzKSwgIACBgYFFyvfv379I2YiICKxevdro3kVNg2/fvn04fPgwFi9ejKCgIK2LAlP219TXyMPDA9euXeN7wJVKJVq1aiU43GXq1Knw9/c3OGLWqVOnMGLECDg7O4MxhocPH2LTpk2Cw6yMrQ+gbhRu3rwZbm5uANSNm6VLl+LChQs6y2sa4l5eXrhw4QKsrKzQsmVLwaFZ/fv3h5ubG9/rvWXLFsTFxQk2bDp16oT9+/dj5syZSE1NRa1atXDp0iW9+Vvat2/PR83TXCy6ubnhxo0bWuVMOf81xo8fD5FIhBMnTuCff/5Beno6QkNDcenSJZ3l16xZg9WrVyMtLQ337t3D3bt3MW7cOBw/flxn+U8++QSvXr1Cz549tT5nhKJ4+fj44PTp00hPT0e7du3g6+sLS0tLwfDh3t7eRToGdDWcTY2+5uXlhcuXL+PBgwf44IMP0Lt3b9y8eRO//vqrzvKmDJENDg7GwYMHoVAo4OPjg1q1aqFt27bFdvgYqnBELg19DZuAgAAcP34cbdu2RWxsLO7du4ePPvpIMES9sfvdvXt3nD9/nv+sPHXqFHx8fJCYmIhZs2Zh2LBhWuWNPe4iIiJw69YthIWFAQD27NkDFxcXvHz5Eq6urli6dKlWeWOHuul6zwICAvTmG9N1rOpaRgipHCrVZPqcnBwAxk0ILq4xUdjixYvRq1cv3Lt3D23btkVKSgp2796ts6y+hkhx5s+fj7CwMJw5cwbHjh3DtGnTMG7cuCIXmIcPHwZg/KTPR48e4ffffze4fG5uLr777juDyq5evRqA8YEH5HI5AODIkSMICwvT2Stvyv6a+hoBwKtXr/g7LhkZGXrL/vzzz1i8eDHEYjFsbGyKvfibMmUK/vzzTzRt2hSA+s7BRx99hCtXrpilPoA6cMOAAQOwfft2nD59Gps3b8aff/4pWP7dd9/Fq1ev0KdPH3Tu3BlOTk56hyfdu3cPe/bs4X+fPXs2vLy8BMsfOHAA1tbWWLJkCbZt24aMjIxic3Hk5uYWubOha2iZKee/xoULFxAbG8t3BDg5OUEmkwmWX7FiBS5evIg2bdoAABo3bowXL14Ils/Ly4OVlZXWa68rPLEGYwy2trZYt24dxo8fj+nTp+t8XXfs2IHt27cjMTERvXr14pdnZmbqvFOoGZZo7GskEokgkUiwd+9eREZGIjIyUu+wxpEjR/JDZAGgSZMmGDRokN6GSkZGBhwcHLB27VoMHz4cc+fO1ds7f/bsWXh5ecHOzg5bt25FbGwsJk+eLDh3adSoUViyZEmRzhZ95s6di65du+Lhw4cYMmQIzp49i40bN5ptvxUKBf755x/Url0bgLqhM3z4cFy4cAFBQUFFGirGHnfx8fE4e/Ysv7/jx49HYGAgzpw5ozMwQnh4OHx8fPiOg3r16iEsLEywoWLMe3b+/HmcO3cOKSkpWo3PzMxMSkxJSCVWqRoqmjwlxjQQhMb2CvH29sZff/2F27dvgzFW7HAdQN1jN2nSJMTExIDjOPj7+2PJkiVwdXUVfI7mi+XIkSOIiIhA9+7dix3qUnD+QnBwsOCXC2B8FB9TIngVTmYWHByMsWPHCr5ePXv2RLNmzWBjY4NVq1YhJSVF71hnYyZ9axjzGs2cORPe3t4IDg4GYwx///03vv32W8HypkTM0jRSAPVFjaaxJlSfVq1aoUOHDnx9hKI6abi6uuKXX35Bnz590KBBA/z555+wsbERLL9v3z4A6km1HTp0QEZGBrp27SpY3sbGBmfOnOFz3Zw9e1bv+gsGSNA3F6cgQ6PmmXL+a1hYWECpVPLbSElJ0RtRzcrKSmtem0Kh0HsXbcOGDUbVhzGG8+fPY9u2bfz8HV0XcwEBAahTpw5SU1O17oba29sXOwQHMDz6moWFBXbs2IHNmzfzuV70HaupqakYOHAgf3xKJJJiGwcKhQJPnz7Frl27+At9fcaPH4+4uDjExcXhhx9+wOjRozFs2DDBeRymRCLz8fHB3r17ERMTA8YYoqKi9J7nxu73w4cP+UYKANSqVQsPHz5EtWrVdH5OGnvcpaenIzs7m+/0ycnJQVpaGsRisc65MPfu3cPOnTv5yfC2trZ6Ixca857JZDJkZ2dDoVBovYYODg6CnX2EkEqgZKMfl00PHz5kffr0YTVr1mQ1a9Zk/fr1Yw8fPtRZVpMnwt7enllZWTGRSKQ3bwRjjJ09e5Zt27aNbdq0iX/o06ZNG7Z582Yml8uZXC5nW7ZsKTZ/S/fu3VlERARzcXFh6enpTCqV6o2vP2PGDBYSEsLWrVvH1q1bxzp16sRmzpwpWL558+bMwsKCNWnShLm7uzM3Nze9+S80+TWsra0Nyq/BGGOjRo1iw4cPZ8ePH2fHjx9nI0eOZKNGjdL7nJcvXzKFQsEYU+chefr0qc5ya9asYW5ubqxq1aosODiYWVtbF5vPxtjXSKVSsc2bNzNvb2924MABlpSUxC5cuKC3/JYtW9i8efMYY4wlJyfrLa95PU6ePMlOnjzJRo8ezcLDw/Xuw5MnT9iBAwfYgQMHBF8bxhj/fmoetWvX5t9rXe/zy5cv9T6EXL16lXl4eLCGDRuyBg0aMC8vL3bt2rUi5QqeZ7oe+ty7d4917NiR2djYsLp167K2bduyBw8eCJY35vzX2Lp1K+vZsyerV68e+/zzz1mTJk3Yrl27BMtPmzaNffPNN6xp06bszz//ZH369GGff/65YPnbt2+zkJAQPl9EXFwcmz9/vmD5U6dOsZ49e7Jvv/2Wfw0iIyP17sOzZ8/YoUOH2KFDh9jz58/1lj1w4ABr1KgRs7W1Zc7OzozjONaiRQvB8jdv3mSRkZFs+/btjDHG7t+/z9dNl/bt27PU1FTWqlUrxhhj58+fZ0FBQXrrtGvXLubu7s7Gjx/PGFPvc79+/QTLa9Y9d+5ctnbtWq1lusyYMYNNnTqVnTt3jl25coV/6BMQEMAyMjL43xMSEvTm/DB2v8ePH8+6d+/ONm7cyDZu3Mh69OjBxo8fz7Kzs1lwcHCR8sYed2vXrmXOzs5s5MiRbMSIEczFxYWtWbOGZWdns6lTpxYp7+/vz3Jzc/n6//vvv6x169aC6zf2PWNMfewTQohGpWyodOrUia1fv55vGGzYsIF16tSp2OepVCq2b98+NmPGDMEyQ4cOZf7+/mz8+PFswoQJbMKECcVeQOi6MNTX6GCMsZycHLZnzx52584dxpj6AvWPP/7Quw2lUsn/rlAo9DY8Hjx4oPNhTsYmMytozJgxev/u5ubG8vLy+ER9//zzD+vbt6/e5xj7Go0bN4598sknrFmzZowxdRJKTfJOc5SXSqXshx9+YH379mV9+/Zlixcv1pvwLiQkhB05ckRrmdDrVPA9vXr1Klu2bBlbvnw5u3btms73WZPIztgEdxoZGRlaF3RCvvzyS7ZixQqWmZnJMjIy2MqVK9lXX32l9zlSqZRt3bqVff311+zTTz9lc+bMYXPnzhUsb8r5L5VK2T///MN+/PFHtnz5cpaQkKC3gaZUKtnq1avZgAEDWP/+/dnq1av1rj8oKIhduHChxJLc7dq1izVo0IANHz6cDRs2jDk7O7Po6GjB8h4eHiw1NZWvz4kTJ9jHH39stvpcuXKFBQQEMAcHBxYQEMAaN25s9gvUoKAgtmDBAta4cWP29OlTplQq9SZ8NCVZ7+HDh1lQUBDLzs5mly9fZi1atGBXr14VLH/58mWj9lulUrHdu3ezyZMns8mTJ7Po6Gi9CR2NPe4YU3937N+/n+3fv589fvxYb9k///yTBQUFsRo1arDBgwezhg0bspMnTxa7DWO0a9eOtW7dmq1YsYK9evXKrOsmhJQ/lWoyvYauKFxCkbl00Re9qXnz5khISDBosrTGjBkz4OTkhA8//BAcx2Hnzp1IT0/HtGnTAAhHnQIMH5rh4eGBU6dO8etKS0vjAwUUZGoELMD4oVbe3t6Ijo7WSmY2YMAAgyZNFje50thJ34Dhr1HhOhga8ceY8kqlEi1btsStW7cE61uYq6sr6tevj5CQEH54U3Gv07Jly7BmzRr069cPjDHs378fY8aMQWRkpMHb1efVq1fYvHlzkWhwQrkvdL0exUVR6tq1K6pWrQpvb2+DAj+Ycv53794d+/fv54fbPH36FD169BCcLzRr1izMmzeP/12pVGL48OGCk92NiRYIqMPc6vqMEQpE4enpiaNHj/KRolJSUtCpUyfB19XY6Gt3797FzJkzkZCQoHX+C01ET0xMRP369bWGyF67dg2tW7fWWR5Qh7pdt24dbt68qbUNXZEFAeDZs2fYvn07WrdujcDAQCQnJ+PUqVMYPny44DZMsX//fvz3v/9FVlYW9uzZgyZNmugtr1AojBoabEwUL2OPO8DwkOaA+jORMcYPdXv//feRlZWlM2wxoJ7Tous4FXrPNO7cuYMNGzYgOjoafn5+CA8PR+fOnfU+hxBSMVWqOSoaxmSyLhidSKVS4fLly3rnRRibGRgAn139559/1lr+yy+/CEadKpwYLzk5Gc2aNRO8ENc1f0HXfIrBgwfj8OHD8PHxMSoClin5NRYtWoQOHToUSWZmiOLCRRs76Rsw/DXSMHbegjHlxWIxmjZtiuTkZL1JMwuqWrUqjh8/jokTJ6Jnz57YunVrsc9Zu3YtYmJi+LkhM2bMgL+/f5GGSnGNR6GQ0h988AHef//9IvlBhNjZ2WHbtm18o33Hjh16E3sCxgd+MDaTPaAOUz5w4EDs3r0bDx8+RK9evfD9998Lln/48CEWLlyImTNnQiaTYeDAgXqDCBg6z0aj4LalUin27NkjmJsGUH92FTxnqlevDpVKJVi+atWqyM7ORlBQEIYMGYJatWrpfR/Cw8Mxd+5c/N///R9OnjyJDRs26F3/gAEDcPDgQbRs2RIA8Pfff+M///mP3nxTw4YNQ7NmzfDHH39g1qxZ2LZtG5o3by5Y3t7eHpMmTYJYLMadO3dw69Yt/j3XxZiIXJoklBoZGRl477338OOPPwIQboh7eHjgww8/xKBBgwRz2BRUOIrX48eP9UbxMva4KxzSfNmyZTh//rxgSPOePXvit99+Q/fu3QEA//zzD8LCwopE2NMoOMdPKpVi3759qFu3brH73aRJE3z99dfw9fXFxIkTcfXqVTDGsGDBAsEAE4SQCqp0buSUrgcPHrCePXuyGjVqsJo1a7LevXuzpKQknWVHjhzJP0aPHs2+/vprneO7e/TowXr27MmCg4NZ1apVWWhoKOvZsyf/MDdThmYYOn/BFKYMtWJMPaQmLi6OxcXF6R3W9CZOnTrFDhw4wPLz84sta8xrZOy8BWPLBwYGsipVqrCQkBCDjqWCw4Y2bNjA3NzcWL169fTug+Z908jLy9M5PEbXsBhDhsfomxOgS2JiIuvVqxerXr06q1GjBuvdu3exQw7HjBnD4uPjDd6GMed/QT/++CPr0aMHc3NzY2fPntVbVqVSsY8++ogtWLCAde7cmS1evFhveWPn2eiib67A1KlTWWhoKNuwYQPbsGED69q1K5s+fbpg+ezsbKZQKJhcLmcbN25kUVFRLDU1VbC8t7c3Y4xpHTuaZbpcvHiR+fr6sqdPn7IjR44wDw8PlpycrG/3+ONbMxxTJpOxNm3a6K1TTk4Oe/ToEWvYsCEbMGAAGzx4sGD5rl27sp07d/LDT+VyueBQMc2cEaGHkAcPHrDvvvuOeXt7M19fX7Zo0SK9x56npyfLz8/XOrf1DV8z9rgzdrirsUPdClMqlczf319vmbi4ODZ58mTWuHFj9sknn/DzhB4/fswaNGhg8LYIIRVDpRz6VRKEIslo6IseJpVKsXLlSpw5cwYcxyEwMBDjxo3Te+fG2KEZ+/btQ0hICB/d5dWrVzh16hT69OmjVc7UnnNThlqtWLECQ4YM4ZPCpaenY8eOHfjkk090lr9z5w4WLVpUJM+B0F0bpVKJ58+fa5XVd3fC0NeooFu3buH48eNgjKFjx456e3iNLe/n54dFixbxvzPGMGPGDMEcJz///DMf2QpQJ3NcsWKF3mEWixcvxqZNm/is5vv378fIkSMxefJkvfthqCVLlqBKlSro0aOHVhQhoSGEI0aMwNKlS+Hk5ARAPdRk6tSpevehRYsW+Pfff+Hi4gIrKys+7LO+/DGGKhgmlTGGzZs3w8PDgw+9Wzj3SsHzRy6XY+zYsWjbti3fKy90/uTn52P37t148OAB0tLS4ODgAI7jBEMzFxyaqVKpcOXKFUycOJHPYK7Lnj17cPbsWQBAYGCg3kz2xgoICMCZM2cwYMAAhISEoF69evjss8/01uf8+fMYO3YsrK2tceTIEdSsWVPvNvz8/HDx4kUEBQVh5cqVeOedd+Dn5yd4l1cz7HH58uXIy8vD9OnT9X5GGjv87k3dvXsX8+fPx7Zt2wTD77Zp0wYXLlzg66RQKODt7V3k2Db1uDN2uCtg/FC3gm7fvo3u3bvj33//FSzTvn17jBo1CmFhYUUiBG7ZsqVISGZCSMVWKRsqI0aMQFRUlNYF8pQpU3ReDBmb9XrGjBlF8onoWlbQwIEDYW9vz2dY3759O169eoXo6GjB5xibGE/XF66uuTa6kjBq6EvG2LdvX2zYsAFLly7FiRMn4OTkBLlcLpjwzZg6aXh6emLcuHFF8hwUzqwOAMuXL8fcuXNRu3ZtfshRcRevxtbHFMY0nnTNL/Hw8NC7D2fOnMHdu3cRHh6OlJQUZGdnC44f14iNjeXzZwQGBurNf2FswrcVK1bgiy++QNWqVfmhMvqGEOp6vYt7D5KSknQuFxrqZ8z5b2xSVlPPH2Pn2RRMTiqRSODi4oJZs2bxYaDf1N69ezFjxgy8ePECTB10RW/On0uXLqF58+Z49eoVvvrqK2RmZmLatGl4//33tcr17NlTa8hUQkIC6tSpwzdMhRLpAuphiv3798f169cxcuRIZGdnY/78+VqN84JatWqFlStX4v/+7/+wbt06tGzZEu7u7oLDy4xJ1qth7NwcQH287ty5Ezt37oRYLMagQYME3+fp06ejatWq2Lx5M5YvX46VK1eiRYsWRUL9mnrc7dixA5999lmR4a6DBg3SKld4qNvx48fx3nvvwdnZGYDwULfCiUPfeecdLFy4UGci4IJkMhlu3boFjuPQtGlTrZDLhJDKpVI2VIy5GDI067WGKReXLVq0QEJCQrHLCsrJyYGNjQ1UKhWfGG/IkCGCY+111UHfl/ab+Ouvv/j8Gvq+YNzd3REfH89/kSmVSnh4eAjehfHx8dGb7LCgRo0a4cKFC8XOPSiopF+jgo0nsVgs2PO/atUqrFy5Evfv39cax56VlYW2bdsKzj2ZO3cuLl++jNu3b+POnTt48uQJwsLC+F50cxg0aBB8fHywefNm3LhxA7m5uQgICBDsdXZ1dcXFixdRo0YNg9bv6emJU6dOad1Rad++vVmPU1MaQxrZ2dkAgCpVqpitPoD+z5Q3YWqm+UaNGuHQoUPF3iE0lil3nnVlntd8bXEcV+Sulsbff/+N77//Hm3btsWMGTNw//59LF26VPCiOjY2FpGRkbhx4wbc3Nz4ZL368s20a9eOn5tz6NAhfm5OwQntBbVp0wZyuRxhYWEYNGiQ3lxZgPpu2bp16/Dnn3+CMYYuXbpg9OjRRgVrKc7Tp09x6dIlAOq7Vu+8806RMps2bdK7DkNzHhni119/xdixY/Hee++BMYbExET8/PPPRue4IYRUDJVyMr1KpUJ6errWxVDBHu6CDM16XfDisuAXW1ZWFgICAvTWx9vbGzExMXzv44ULF+Dr66v3OS9evECdOnVgbW2NESNGIC8vD8+fPxe8MPf19cWnn36K//znPwDUPd267kQUdO7cuSLRmgpHzNEVHUyTJDI7O1tvlLCuXbti0KBBfI/ozz//rDN5oGYbPXv2xMqVK9G3b99ihxHVr19fZ+Z6fUx5jYwRFRWF27dvF9t4Gjx4MLp164aZM2dqTea3t7fX+3ru27cPV69e5Yd51K1b16Qs7PoYm/CtUaNGsLW1NXj9U6ZMgb+/P8LCwgAA0dHR+OKLL96s0oUYc/5r3LhxA8OGDeOPxRo1amDz5s38ZPDCMjIyMHfuXK1oSrNmzRI8Jo1NsFpQREQEVq9erfNvpmaar127tlGNlM6dOyM6OlrrLtWHH36IP/74Q6tcwYbI8+fPtS6QhQJkaOp++/ZtXLp0Cb169QIAHDp0qMhnc0FBQUFaUQddXV0FGymAacl68/Ly0LFjRzDG0LBhQ8yZMwc+Pj6CDZX169cLHjO6iEQijBkzBmPGjEFaWhoePXqkt5Fi6HFXuDPt3XffBQA8efIET548KTJUrGBDRCaT4c6dOwBg0GukMWfOHMyZM6fYcp9++ilOnjyJRo0aAVB/5nTv3p0aKoRUUpWyoaLrYujzzz/XWdbQaDymXlwC6rkEAQEB/BCg5ORkNG3aFO7u7oLDlcLCwrSGeYnFYoSFhfFf/IUtX74c8+fPx6BBg8BxHDp37owVK1YI1mnYsGG4d+8evLy8+KEoHMcVaagUjA6WnJwMJycnMMbw6tUrNGjQAImJiYLb+O677/Dzzz9j1apVANQXO6NHjy5SrnAEsoLzNgoPI9L0vrq6uiI4OBjdu3fXatQI9b6a8hoZy9DGk6OjIxwdHfnGgKEsLS3BcRx/rObk5JhUz+K2kZeXx2/j3r17OjNYa9jZ2cHLywsdOnTQKid0wTh8+HD4+vryQ1X27t2LFi1amHEPjDv/NSIiIrB48WJ+iM2pU6cwZswYwaGWH3/8Mdzc3PiIflu2bEF4eLhWFMGCzpw5g40bN5o0z+by5cvFljGUpn6+vr4YNGgQ+vTpo/W+CUVcSk1N5RspAODk5IQXL14IbmfXrl2YNm0agoODwRhDZGQkFi1ahAEDBhQpqxleFxQUhNjYWD4075w5c/joU7qkpKTgv//9b5FwxoWHQQm9J5qLcX1RpqysrKBSqdC4cWP8+OOPqFevHn/XTZdu3brxHTQhISHF3hkJDg7GwYMHoVAo4OPjg1q1aiEgIABLlizRWd7Q405oqBmgf6jYqVOnMGLECDg7O4MxhocPH2LTpk16w9BrHDx40KCGir29Pd9IAdSf5ULhmAkhFV+lHPoFqMdGaz6MQ0JCBC+G7t+/j4iICJw7dw5OTk5wcXHBtm3b9Ia6LThPIDU1VW+ceUB4jL2Grm3pmk9RXL4JQH3xWly4V8D4fDBjxoxB37598cEHHwAAfvvtN+zfv79IyOXC8vLy+IaZORg7p0DI06dPjQoxbYhRo0bxk0kNbTwZ4/vvv8fdu3dx9OhRzJw5E+vXr8fgwYPNlhMFAP7880988803SEhIQGhoKM6ePYsNGzYIjpEXGjJizqEipjD0/NcwNr+LsblajJ1nU1DXrl2NCs+sT3h4uODfOI4TDGrg4+ODffv28Z0tSUlJ6Nu3r2BwDmPzugDq3vv4+Hj+3MnPz4eHh4fghP3Q0FAMGjQI33//PX766Sds2rQJNWvWLDJf0NR9BnTPzZk+fTratGmjs3xubi4OHz6MX375BbGxsejRowc+/PBDwblFmiGJa9euxcOHDzF37ly9Q4nfNEdYcXx8fLB9+3b+8/rOnTv46KOPDBqSW9zwSk1j6ujRo0hKSsLAgQPBcRyio6PRoEEDrFy50iz7QAgpXyrlHZVhw4Zhy5YtWhcnmmUFKZVKrFy5EseOHUNOTg5UKlWxPTsF5wmEh4dDJpNh6NChOucJaJIrCq1T352YmjVr4uDBg/wwiAMHDuidB3Du3DmMHj0a2dnZSE5ORlxcHH7++WfBD39j88HExMRgzZo1/O/dunXD9OnT9T7n4MGDmDZtGmQyGRITE3Ht2jXMmjVLcEJtdHQ0unbtCnt7e3z99deIjY3FV199pTX529CGSHG6d+9uUOJJYzRo0AANGjSATCaDTCYz67oB9cXegAED4ODggNu3b2PevHk4duyYWbcRGhoKHx8fPuFbVFSU3uOuYIMkPT0dDx8+1Dvm/20w9PwvyNXVFfPnz+cjDm3dulXv/AIbGxucOXOGvwA9e/ZskQhGBRnSINElNzfXbI0UAAbnMSpswYIFaNeuHdq3bw/GGE6fPi04HA0wPq8LoL7b5ufnVyRCnZCXL19i1KhRiIqKQvv27dG+fXudCSVN3WdA3ZAZNmwYkpKSIJfLAag7bYQaEra2thg4cCAGDhyI9PR0TJo0Ce3btxeM+qVQKPD06VPs2rWryAR6XYw97uRyOVatWsUPFQsODsbYsWMFh3PJ5XKtTqUmTZrw+12c4hozhw4d4n+uXbs2P5+pZs2aWnfECCGVTIkHQC6DCud2UCgUrHnz5jrL6ovTr4unpydTqVRace+F4tJ3796dqVQqxnEcc3FxYc7OzvzDxcVF73b+/fdf1qZNG1a/fn327rvvMn9/f/bvv/8Klvfz82PJycla9WrZsqVgeWPzwYSGhrL58+ezxMRElpiYyL7++msWGhqqdx+8vb3Zq1evDM4RoHkdT58+zdq3b88OHz7M/Pz8dJbt1KkTS09P539PS0srtj4FFayTuWVlZbGsrCyzr1dXzhJ9ORFMERISYtAyjfbt27OMjAz28uVL5uzszPz8/Nj//d//mbVOxjLm/NdIS0tjkZGRrFWrVszb25tNmjRJ6/gq7Nq1a8zDw4M1bNiQNWzYkHl5ebG4uDhzVJ8xxtjZs2dZ8+bNWf369fntjR8/3mzrHz58eJHzJzw8XLB8SEgI27p1Kzt06BA7dOgQe/HiBRszZoxgeV15XaZNm1Zsva5cucKWLl3Kli5dymJjY/WW1Xx2h4aGssOHD7PY2Fjm6uoqWF4qlbJt27axb775hs2dO5d/6NOkSRN24MABdv/+ffbgwQP+oc+pU6fY+PHjmYuLCwsLC2O7d+8WLLtr1y7m7u7Ov7f37t1j/fr1Eyxv7HE3atQoNnz4cHb8+HF2/PhxNnLkSDZq1CjB8uHh4WzUqFHs5MmT7OTJk2z06NF6j4vbt2+zkJAQ/rsmLi6OzZ8/X7A8IYQUVqnuqCxcuBALFixAXl4eHBwc+DkPlpaWiIiI0PmcVq1aoVevXggLC9MaMiU0btmYeQKHDx8GoI7wZWzEn/feew8xMTFGRSGqX7++1u8Fw6AWZshY4oJ27NiBuXPnom/fvuA4DkFBQcXOsbCwsCgyZ0PfUDNNfY8cOYKIiAh0795dMEx0SkqKUWPmCxszZozBZQ1l7IRsQ+kL5NC2bds3WreGVCpFbm4uUlNTkZ6ezp87mZmZePz4seDzMjIy4ODggLVr12L48OH80JXSYMr5r3Hs2LEi82qio6P5eS6FOTg4IC4ujo+q5eDgoHe+lrH+7//+D3/88Qd/R9XT05PvFTeH+Pj4IuePvmE7iYmJWL16NUJCQvi7mvrmzixatAh79+7lJ/tHREQYlNfF29tbMCdIYV9++SUyMjLwww8/IDIyEpmZmYJzOwCgd+/ecHR0hI+Pj955VwXVrFmTfw8M4ezsjFatWmHgwIFYtGhRscNww8LCtI4xV1dX7NmzR7C8scfdpUuXtIbbhYSEwNPTU7D8qlWrsGLFCv5cCAwM5IOP6DJmzBg+aiagjqw4ePBgnZ/b//3vfzF9+vQioZA19AVCIIRUYKXcUCoVn332mcFlC2am1zz09SAtWrSIRUREMBcXF7Z69Wr2/vvvs2XLlundxvDhw9nFixcNrlNh3bt3L7ZM//792dmzZ1mrVq2YTCZjixYtYoMGDTJ5mwUpFAq9GZ+FfPzxx2zbtm3M3d2d3blzh02YMIGNHTtWsHz37t351zY9PZ1JpVI+i3Rh3t7eWhmfHzx4IJgl/eXLl3of5uLv789OnDjB/37y5MliszQb4tWrVywxMZF9+OGHWr265qz70qVLmbOzM7O0tOTv/rm4uDAPDw/2448/Cj7Pzc2NPXnyhHXu3Jk/xs19l8dYxpz/GrqOHaHjSehv+jK1G0tzJ7HgnT+hc8EUHh4eLC0tjf/95cuXeu92tmrVisnlcjZ+/HjWo0cP9urVK72vz/Tp0w1a9jbpu8Ms5NixY2zUqFFs+/btbM+ePfxDSEZGhkHr/e677xhjjE2YMIFFRkYWeQgx9rhr1aqV1p34e/fu6X3fli5datAyDV9fX8aY9nHq6emps+zBgwcZY4xt3LhR54MQUjlVqjsqt27dQrNmzRAWFqZz/oGunjpjxy+bMk/gwoUL/AR9Ozs7ozNr6+vR1vjpp58wadIkPH78GPXq1UNoaKjOiFam5F0Qi8VISkqCTCYzKjHX8uXL8c0338DKygqDBw9Gly5d8NVXXwmW37VrF37//XdMnToVVatWxdOnT7UigBX0zTffGDxm/k0ilxkjJydHa9J5cHCwWSJzmRolzBiTJk3CpEmTMG/ePEyePBkODg6YP38+YmNj4e/vL/i8WbNmoUuXLmjbti1at26N+/fvo3HjxiVWT31MOf9/++03/Prrr3j8+DEmTpzIL8/MzNQZpvzWrVu4efMmMjIytCItZWZmmnWcff369XHu3DlwHAe5XI6oqCiz5jwxNkw0e514cuXKldi4cSPatWuH9PR0wfJHjx4tMqn9t99+05sY11BCPfIaQj3zpoSI3rBhA27dugW5XK6VWFbfHfcVK1YUiURWeMK+5r0sLky9hqnH3aJFi9ChQwe4urqCMYakpCS9wQM2bdqESZMmaS3buHFjkWUahkbNBNTh54HSD7RBCClbKlXUL02+gQ4dOui8CNcVktHYzPSmJHx8k4g/gDokpb4vl7dh+PDh+Oeff9CrVy+t4Qz6IlrpGjqjbziNxosXL7S+fIUyu6empiImJgYA8P777xebdNDUyGWG6tu3L7y9vbUmZF+5cgX79u0zy/rfBs2xfObMGXz11VeYOnUq5s2bhwsXLpR21YpV8PwvTOj8j4uL44M8FMyNYW9vjw4dOvC5WDQOHDiA/fv3awW60JT/8MMPi82pZKjU1FRMmjQJx44dA2MMoaGhiIqKMirBaXGMiYz2888/a2WIv3LlClasWFHkc0lXMlPGGLKzs/UmMzWGsckJNWHgFQoF7t69C1dXV4NDRDdt2lQw6pguYWFhaNasGbZv345Zs2Zh27ZtaN68OaKiogxehy6mHnf5+fkAwO+DZqJ84aFvO3bswPbt23HmzBkEBgbyy7OysiASiXD8+HGd69cVNXPr1q18RntdevbsWaSh6ejoCF9fX4wdOxbW1taCzyWEVDyVqqGikZeXh5UrV+LMmTPgOA6BgYEYP368zg9AQzPTm5pN/G0ZMWIEoqKitBKyTZkypdgGjqGNAqGwwPqicOlq1OlapnHw4EFMmTIFT548Qa1atZCcnIxmzZoJZrLXMDTRmK4s9ObMTJ+eno7Zs2fzEeACAwMxZ84crbkAZZ0mxOjMmTPh7u6OwYMH6w07+ujRI0RGRmrtc1RUFJ9grryQy+V8JKTY2Nhi50mcP39e752m8qBgmPWUlBRkZ2frDbNuiIyMDKSnp5uUb6qkmBIeXiM8PBzTpk0zONeP5lzRNPjlcjkCAwP5DpXCLl++jG+++QZJSUlaSUmFGk/GHneGfgYnJSUhMTFR5/vm4eGh8+5iQYZGzQTUd29TUlLw0UcfAQB27twJBwcH/o6+vuh8hJAKqBSGm5W6sLAwNmrUKHbixAl24sQJNnr0aBYWFqazrKFjbN/GPIGCzpw5wzp16sQaN26sNWdAiK4oVvoiWx04cIA1atSI2draMmdnZ8ZxHGvRooVZ6v7rr7+yCRMmsFq1ammNux4xYgRr3bq14PM8PDxYamoqX+8TJ06wjz/+uNjt6RtzXZApkcuMcenSJdanTx/m5eXF3NzcmJubW6nP1zCWMfOEGFNHX1u/fj2Ty+VMLpezDRs2sE6dOr3FGheVl5fHfvjhB9a3b1/Wr18/tmTJEpaXl2fw8w09nkwtbwhjo3IZa86cOaxHjx6scePGjDHGHj9+zAICAsy2/oJ+/vnnElmvsZH/hg4datCygpo1a8YsLCxYkyZNmLu7e7HntObzLTAwkF2/fp2lpKTo/dw2JaqYhr7j7unTp+zy5cusWbNmLDY2ll25coVduXKFnTx5kjVt2tSg9R86dKjYMgWjpxkaSU3znatrmbm+gwgh5UelmqOicePGDSQkJPC/d+jQQbBHzNAxtm9jnkBBo0aNwpIlS+Dj46M3epeGSqVCeno6P1QlLS1Nq4eusK+++goxMTHo1KkTrl69ipMnT+q9K2RoFmgAqFu3Lnx9fXHw4EH4+Pjwy+3t7fVG5bGwsODzLahUKnTo0AGTJ0/Wt9sAwEd3Kk7ByGWA+m6aOd/PIUOG4Pvvv4ebmxs/nr28MWaeEKA+Lgom1Bs5ciSWLl36FmoqbPjw4bC3t+cTYW7fvh3Dhg1DdHS0Qc839HgytbwhjI3KZax9+/bh6tWr/J2junXrIisry2zrL+inn34qNuqaKYyN/Ff4zqxCoSg294exOWwiIiKQnp6Or7/+Gr169UJ2djbmz58vWN7YqGIF6Tvu/vjjD2zcuBGPHj3SGp5rb2+PBQsWGLT+WbNmoUePHnrLFBwGLJVKcfjw4WLnUmlyfWnu3icnJ/PRLY2ZA0kIqRgqZUPF29sbMTExeP/99wGoJ7MLTVpcsWIFIiIicOvWLdSrV48fY1vaHB0d0a1bN4PLF5wcyxjD7t279U6ONbZRMGTIEAwaNAiHDx/WygKti6enJzw9PTFkyJBihwwUVLVqVWRnZyMoKAhDhgxBrVq1ig3vCRSfaEyjWrVq/FhxpVKJnJwcODg4GFy/4tSsWZOfMFpe2draak0UrlOnjt6koNWrV8fWrVv5YRw7duww6zwKUxjTUaGLsUlFu3fvblR5Qxjb8WAsY8Ksv6mSaMgB6iAfBS94k5KSdE6yLxy2WlMnQ8JWG5uoc9iwYdizZw8ePHjAz5V5/vy5YPm5c+di9OjR6Nixo9a8EaHJ+gXpO+5GjBiBESNGYM+ePejfv78Re/A/hrxvU6ZM0fp96tSp6NKli97n/PDDD2jXrh3ee+89MMaQmJiIlStXIicnhybaE1IJVao5KppJk3K5HLdv30aDBg3AcRySkpLQrFkzrYuXwowZY/s2fPbZZ1AqlejXr5/WF5i+sfM3b97EyZMnARQ/ObZTp07Yv38/Zs6cidTUVNSqVQuXLl3CuXPndJb38fHBlStXtAIHtG7dGpcuXSpSduDAgdi1axf/fhQmNP46JycHNjY2UKlU2LZtGzIyMjBkyBCdF76JiYlYvnw5Hjx4oHUBJ5T1HgAGDx6Mn376CWKxGK1bt0ZmZiYmTZqEadOmCT7HGMePH8eOHTtMuugor5KSkhAZGYnz58+D4zgEBARg+fLlRXL6vE1Dhw7FhAkTtDoqVqxYgc2bN+t9XlxcHE6fPg1APddGX76JkrZ582YsWLCgSMeDJlDDm/r+++9x9+5dHD16FDNnzsT69esxePBg/i6UOT169KhE5iz9/vvviIiIKBL5T+hCefr06XB3d8f9+/cxe/ZsJCcn49mzZ/Dz8zNbnbp27crnail4J7zwBb3G0KFDcevWLbRs2VIrqpi+uYVJSUm4e/cuOnXqhLy8PCgUCsHvrfz8fL7hVPBzctasWcXuy8WLF41+bdLT09G6dWv8+++/esvl5+fj1q1bANQT/GkCPSGVV6VqqJgyafJNPshLkjGRizSUSiWeP3+utR9Ck+NzcnJgbW0NxlixjQJAHVUrJiYGXbp0wcSJE1G3bl0MGDAA9+7dK1L26dOnqFOnjtHRzhITE1GnTh3+SysvLw/Pnz/XGUHG09MTo0aNgru7u9Ywq/bt2+tcNwB4eXnh2rVr2LZtG2JjY/Htt9/Cx8fH4DDRxTHloqO8GzFiBJYuXarV8z916tRS2WddHRUA+KAM+joqoqKisGbNGr5RuW/fPkRERBS5cC8c3pu9jhzF9IT3NpUxHQ/G+uGHH1CrVi3+2A8NDUXnzp3Ntn5Anbi18FBRc3+uGhP5b9y4cRCLxThx4gT++ecfpKenIzQ0VGdni6l0BWLRx9ioYmvWrMHq1auRlpaGe/fu4e7duxg3bpxgVC5jG05fffUVZs+ezd8J13TmCIXxL9gZpVQqkZKSglmzZmHChAlFyp44cQIhISFa4ZULqsgdOoQQYZVq6Jext+kB07IVvw2aCxRDLV++HHPnzkXt2rUhFouLDb1ZcEiVIbfbdWWBFpqLoBkqZOz7ERYWpnVHRywWIywsTOeFhLW1tVbeC0PI5XLI5XLs378fEyZM4KM8mculS5eMuuioCOLj47VC+FarVs2scymMcfjwYZOfu27dOly4cIE/L2bMmAF/f/8iDRVNpvWSms9RULNmzeDk5MR3PBQc5vSmsrOzsX79elSrVg2DBg2Ch4eHWdarMW7cOOTm5uLkyZMYPXo0du/ebdY7Fxo1atRAjx49MGfOnGLnU1y8eBGxsbFo1aoVAPWcFplMZtb6GJurJSAgAAkJCQY3QlesWIGLFy+iTZs2AIDGjRvrnZfz6NEjo+bZKBQKtGnTBhs2bMDz588xYcIEvXfZCp5zEokEtWvXFhzu+/fffyMkJASHDh3SmT6AGiqEVE6VqqFiCmM/yEva1q1bMXToUCxevFjn34XylkRFReH27dsGzw/Yu3cvZsyYgRcvXoAxVmyPcHR0NNq1awc3NzecPHmS7znXNSejcDJJjeK2oVAotCZTWlpaCl5ITJo0CXPnzkVoaKjBQ+PGjRsHFxcXeHh4ICgoCElJSXB0dBQsbyxjLzoqgpKeS2EMXQ3j1atXGzSRmzGm1eOsaezrExsby4dAb9euHX8BbA7GdjwYa/bs2Zg9ezbi4+Oxc+dOtG/fHu+++26xyWsNde7cOcTHx8PDwwOzZ8/GlClTjJpzZ6yDBw8WG6LcwsICSqWS/2xKSUkxW9CLgrlaNmzYYHCulpiYGHh6ehpc3srKSuszUqFQ6E1+aWzDaeHChejUqRPatGkDJycn/P3332jUqJHOskqlEl26dOGHcBXH3t4eixcvhpubG38XEoDe+hNCKj5qqBTDlGzFJUkzqdXYHtv69esbddE9ffp0HDp0yOBs14WjEOnrOTe1t7lmzZpaCc0OHDggOJTj+vXr2LJlC06cOKE1zErf0Li0tDSMGTMGADB//nyoVCoEBwebVFddYmJi4OXlBRcXF4MTypV3xmY4f9sMjTgVHh6ONm3a8BHh9u/fj1GjRgmWnzdvHqKjo/le4JEjRyIsLEwwUayxjO14MFWtWrXwzjvvoHr16np75o1lY2MDQB2c4cmTJ6hevTqePn1qtvUXZsgI54kTJ6Jv37548eIFvvjiC+zevRtff/21WbZv6t2833//Henp6fzcqKCgIL15l9q3b88HBjh69ChWrlypN4DHmTNnjGo4/f3335g4cSJmzZqF69evIzIyEuvWrUPdunWLlBWLxWjatKnBd/o0kb1u376NS5cuoXfv3mCM4dChQyVyt40QUj5UqjkqxniTbMVl0ahRo3D79m10795d6w6D0B2Ytm3b8kn6DOHp6YlTp05p9Zy3b9/ebMkSAeDevXsYMmQInjx5AsYY6tevjy1btmgl2NRo1KgREhISjApn+cMPP/A/Fwylaa75FMbOyakojMlw/rbpS1ZZmOYOCaCeTK/vDknTpk0RFxenNZ/Ky8vLbEP/OnTogKNHjxoVNc8YK1euxK5du5CSkoKwsDAMHDjQrO/b/PnzERkZiePHj+M///kPOI7D6NGj9YbqfRMqlcqguyO3bt3C8ePHwRhDx44dDe6oKSlRUVFYu3Yt+vXrB8YY9u/fjzFjxggOt1KpVFi3bh3+/PNPMMbQpUsXjB49WvCuRFJSks6GkNBnkp+fHzZu3MgfC3v37sXnn38ueNckKCgIV69ehZ+fn9ZwYn1BTYKCgnDkyBE+AEBWVha6d++Ov//+W/A5hJCKixoqAt4kW/HbYGzGb0Mzx2smMv7111949uwZ+vTpY1CEqoJRiID/9ZybKwpRQZqetypVqgiW6dOnD1avXo1atWqZvJ38/Hx06dIFp06dMnkdpGwzJuKUMZnaO3TogH379vG9369evUK/fv303tEzhrEdD8aaOXMmBg0aBC8vL7Osr7D8/Hy+3vn5+ZBKpbC2tjbrPEBTIv+VNR4eHjh//jx/kZ+TkwN/f3+9HWV5eXlITk5G06ZNi12/sQ2hO3fuoEmTJlrL9EX/8vPz08qzxBjDjBkzcOHCBcE6NW3aFPHx8VrHh4eHR6Wb30cIUaOhXwI0DZFhw4Zhy5YtWn/TtextCw8Px+DBg/kkdVu3bkV4eDiOHj2qs7yhuR8OHToEQD1MytbWFn/++Sf/N30TGocPHw5fX1/+Qmzv3r0l1nNepUoV9OjRQ+9wilevXqFZs2Zo3bq11sWPMRcpubm5ePTo0RvVlZQdQvO6NPRd5M+dOxeXL1/G7du3ER4eDrlcjqFDhxa56xgZGQmO4+Do6IiWLVuic+fO4DgOR48eNevwlQYNGqBBgwaQyWRmn/ANqOcilCR/f3/ExsYCUM+rsLKygre3N7/MHPr06YNRo0ahZ8+e5TbBqrFzow4ePIhp06ZBJpMhMTER165dw6xZswQ/99atW4eYmJhig0RofPjhh0Xeo/HjxwvmqlIoFEUiLebl5QnWH1B/l/j5+WkNsxw5cqTe5xBCKi5qqBTDlGzFb4OxGb8NzRyvCTM5YsQIREVF8T3C6enpgiErNVq0aPHWhvU8fvxY79+F7iDpIxRKk1QMmrlRmjHwmrlOhoyBNzRTuyZxrI+PD3+hBcCsc50A45NOlhXPnj3D48ePkZeXh6tXr/IX3ZmZmcjNzTXrtkyJ/FfWGDs3au7cubh48SJ/vHl5eSExMVGwvKENoVu3buHmzZvIyMjQCh+cmZmp9X2isWrVKqxcuRL379/XihiXlZWFtm3bCu8wgC+++ALdunXjh6Nt2LDBrIEoCCHlCzVUBLxJtuK3wdiM38ZkjgeKTo53cnIqtbCyuhT3xdW+fXs8f/6cD13s5+dX7DAwY0JpkvJHc3EfFBSE2NhYfgz8nDlzis0eb2im9oKhvGUyGe7cuQNAPZzFnOGuDe14KGv++OMPbNy4EY8ePdK6g+Xg4IAFCxaYdVumRP4raz799FMEBwfzc6OKu2i3sLAoEjRFX9QsQxtCrVu3xoABA/DgwQP+rjugjtS1Zs2aIuUHDx6Mbt26YebMmfj222+1ylerVk2wPhre3t7l6n0ihJQcmqNSjLeRrdgUujJ+L1u2TDC6ijGZ44G3Mzm+JO3atQvTpk1DcHAwn5V60aJFGDBgQGlXjZQyU8bAG5up/dSpUxgxYgScnZ3BGMPDhw+xadMmBAUFmWUfQkNDMWjQIHz//fdaHQ/fffedWdZf0vbs2YP+/fuX6DZmzpzJB9swNPJfeTdq1Ch07NgR3377Lfbs2YNly5ZBLpfjp59+EnyOIUEiWrRogWPHjsHZ2RnPnj0r8ndDGh+EEGIKaqgU421kK34bjMkcD7zdyfGGOnv2LObMmYOkpCQoFAo+Atv9+/eLlPX09MTRo0f5uygpKSno1KkT4uLi3na1SRnzzTffYNeuXVq9yAMHDsTnn3+u93lHjx7ViqakL1O7j48Ptm/fzk9ovnPnDj766COzDRs1tuOhrHn27Bm++OILPHnyBL/99hsSEhJw/vx5vcOajGVK5L/yLjc3F9988w0/t7BLly748ssv+ehzplq+fDk/lKtevXr8cn2fwYQQYhaM6NWqVSvGGGNeXl78Mg8Pj9KqDm/48OEsPT2d/z0tLY2Fh4cLlj906BB79eoVu379OgsODmbe3t7swIEDerdx8+ZNtnz5crZ8+XJ28+ZNc1XdZE2bNmW//vore/78OUtNTeUfuri5uWn9rlQqiywjldeVK1fY0qVL2dKlS1lsbKzZ1+/u7m7QMlO1adOGMcZYaGgoO3z4MIuNjWWurq5mW39J69q1K9u5cyf/WSqXy81+fvbu3Zs9f/7crOssyxQKBQsODi7RbYwbN65E108IIYXRAPxilGS24jdh7BySHj16AAAcHR1x8uRJg7bxNifHG8LR0dHg7NVdu3ZFly5d+Dk8O3fuLNHM16R8yc3NhYODAx9qODExUWeoYXt7e51j/NnrnuTMzEyd6/f19cXo0aMxdOhQAMC2bdv4ifbm8OWXXyIjIwM//PADIiMjkZmZiSVLlpht/SUtNTUVAwcO5KOLSSQSrUnd5mCOyH/liVgshkgkQkZGhlHJfY2xatWqElkvIYQIoYZKMUoyW/GbUKlUSE9P15pDUjBXQGEpKSlYs2ZNkZwC5kpm+DZ06NAB06ZNQ79+/YqdHLto0SLs3buXH3sdERGhFYWJVF6GhhoGoDOylyFWrVqFFStWYNmyZQDUY/8/+eSTN6p3QaZ0PJQldnZ2ePnyJd8IjImJMfvFtSmR/8q7KlWqwN3dHZ07d9ZKsKg5DgkhpLyhOSoGKGvZigHdc0g+//xzDB8+XGf5gIAABAYGwsfHR6vnsqQntJpThw4diiwTmhybmJiIOnXqaGUGf/78OZydnUu6mqSM8/Ly4kMNa+5CFpzrUR6U946H2NhYREZG4saNG3Bzc0NKSgp2796tFcqWGG/Tpk06lxeMRkcIIeUJNVTKsYSEBP4iPSQkRO8wLS8vL1y7du0t1az0+fr64ty5c/xEWplMhrZt25abycak5Pj5+eHixYt8gkFDsn0by8XFReeQMXNNOq4IHQ8KhQK3b98GY8zs4ZsB7WF7MpkMcrkcdnZ2gsP1CCGElD009KucGjZsGLZs2aLVONEs06VHjx749ddf8cEHH7ytKprN1q1bMXToUMHM4royiisUCq1oP5aWliWSwZuUPwMHDsTYsWPx6tUrrFmzBuvXr8eYMWPMuo3Lly/zP0ulUkRHRyMtLc1s68/NzS03oYiFXLx4kb8jpMl2LnRH2BQFh+0xxnDgwAHExMSYbf1lUcGktRqOjo7w9fXFl19+qTfXFiGElEXUUCmnbt68qfW7UqnUG/o0KioKCxYsgJWVFSwsLIqdDFyWaJLrGTNfoGbNmjh48CCfffzAgQOoUaNGidSPlC9Tp07F0aNH4eDggDt37mDevHl6Qw2bovAF4eTJk+Hj44N58+aZZf3lueMBUHeq3Lt3D15eXvwdIY7jzNpQKYjjOPTp0wdz587VSkBY0XTr1g1isRiDBw8GAPzyyy/Izc3FO++8g5EjR2olaySEkPKAhn6VMwsXLsSCBQuQl5cHW1tbaN4+S0tLRERE8FF0Krt79+5hyJAhePLkCRhjqF+/Pp/8jZBnz57h4sWL4DgOrVu3xjvvvGPW9WvuEADqwBeXL1/GqlWrzJbHx97eHjk5OeWy4wEAmjdvjoSEBL1Z09/U3r17+Z8178Fff/2F8+fPl9g2S5tmOKOuZe7u7uUmYS8hhGjQHZVyZubMmfzDkEbJrVu30KxZsyJfXhq6ImaVVY8ePUJkZCQfnSkwMBBRUVF49913i5R97733EBMTg+zsbADqaDiEAMDatWsxb948hISEgDGGyMhIzJo1Cx9//LHZtjFlyhT+IlwikcDZ2RnR0dFmW7+p0cjKCjc3Nzx79gx16tQpsW0UvHugeQ8OHDhQYtsrC5RKJS5evAg/Pz8AwKVLl6BUKgGoXwNCCClv6I5KOWNswyMiIgKrV69Ghw4dtHovNT2wuiJmlVWdO3fG4MGDMWzYMADquSvbtm3D0aNH9T6vR48eOHz48NuoIikHmjZtinPnzvHDs16+fImAgADcvn3bbNuQSqXYs2ePVlQujuMwa9asN1pvee946NmzJziOQ1ZWFq5duwY/P79KkePkbbl06RI+/vhjvoPG3t4ea9euRcuWLXHkyBEMHDiwlGtICCHGoYZKOWNqwyMvLw8rV67EmTNnwHEcAgMDMX78eD58b3mgK3KZIdHMWrVqpTcZJqlcAgICcOrUKa2IcMHBwTh37pzZttG1a1dUrVoV3t7eWlG5pkyZ8kbrLe8dD3/99RcYY5gxYwb++9//8ss1yy5cuGC2bd25cwfjx4/H8+fPcePGDcTHx+PgwYP48ssvzbaNsiojIwMASizxIyGEvC3UUCmnjG14DBw4EA4ODhgyZAgAYPv27cjIyMCuXbveZrXfSMeOHREeHs5nm9+xYwc2bNiA48eP633exx9/XG7yS5CSN3z4cFy/fh29e/cGx3E4cOAAPDw8+BweuqLIGcvNzQ03btx44/UIKe8dD7rmUpg7l0379u2xaNEijB07lu+oKOn3pbQ9f/4cn3/+OZ48eYLffvsNCQkJOH/+PEaNGlXaVSOEEJNQQ6WcMrbh0aJFCyQkJBS7rCxLSkpCZGQkzp8/D47jEBAQgGXLlqFBgwaCz6E5KqSw4jKWz549+423ERERgcjISLi7u7/xunQprx0Pq1atwsqVK3H//n2twBZZWVlo27Yttm7darZttW7dGpcuXdK6o1rR80l169YN4eHh+OabbxAXFweFQoFWrVrRJHpCSLlFs+vKqRs3bmg1Mjp06KA34aO3tzdiYmLw/vvvAwAuXLgAX1/fEq+nOTVs2NDgMezXr1/H8OHD+dwVNWrUwKZNm+Dm5laSVSTlgKYhkpmZCY7jYG9vb7Z1a/JYKBQKbNiwAa6urrCysuKHZpnrjoGx539ZMXjwYHTr1g0zZ87UChNsb2+PatWqmXVbNWrUwL179/ghcrt37y7RyftlQWpqKgYOHMgHWpFIJFpDDwkhpLyhhko5ZWjDQ3PhJJfLERAQgAYNGoDjOCQlJaFZs2Zvu9pvZMSIEYiKikLVqlUBAOnp6ZgyZYrOYV1jx47F4sWL0aFDBwDAqVOnEBERYdZ5CKR8unz5MsLDw/nIWY6Ojli/fj18fHzeeN1vK2hDee14cHR0hKOjI3bs2FHi21qxYgUiIiJw69Yt1KtXDy4uLti2bVuJb7c02dnZ4eXLl3zjLCYmhuapEELKNWqolDPGNjwqUrSr+Ph4vpECAE5OToKT5HNycvhGCgAEBwfziSNJ5fbxxx9j5cqVCAwMBACcOXMG4eHhZrnb0bBhwzdehz4VqeOhJCmVSqxcuRLHjh1DTk4OVCqVWe+clVWLFy9Gr169cO/ePbRt2xYpKSnYvXt3aVeLEEJMRg2VcsbYhkdJXzi9TSqVCunp6XBycgIApKWl8aFfC3N1dcX8+fO1Qhm7urq+tbqSskssFvONFABo165duckxUZE6HkqSWCzGmTNnAKjvMlQW3t7e+Ouvv3D79m0wxtC0aVNYWFiUdrUIIcRkNJmelBubN2/GggULEBYWBgCIjo7G559/juHDhxcpm56ejtmzZ2tFRZozZ47WHRlSOU2ePBl5eXn46KOPwHEcdu7cCWtrawwdOhRA2c9FQgwzfvx4PH78GGFhYVqNlX79+pVirUrG3r179f69Iu4zIaRyoIYKKVcSEhL4XBEhISGCE4ijo6P5Bo2+ZaTyKTgksLDykIuEGCY8PLzIMo7jKmSocs2+vnjxAufOnUNISAgA4OTJkwgICKA7cYSQcosaKqTcGDZsGLZs2VLsMkB3ngZdywghpKIIDQ3Fpk2b+OhmT58+xciRI/HHH3+Ucs0IIcQ05WNgNiEAbt68qfW7UqnElStXtJb99ttv+PXXX/H48WNMnDiRX56ZmVlu5iGQknfkyBHcvHkTUqmUXzZr1qxSrBExt8qYmf7hw4daIZhr166N5OTkUqwRIYS8GVFpV4CQ4ixcuBD29vaIj4+Hg4MD7O3tYW9vj1q1aqF3795aZevWrQtfX19YW1vDx8eHf/Tq1Yt6FQkAYNy4cdi5cyeWL18Oxhiio6ORlJRU2tUiZjZmzBgsXLiQn0zu4eGBX375pZRrVbI6duyILl26YOPGjdi4cSO6d++OTp06lXa1CCHEZDT0i5QbM2fO5BOZFUcul4Mxhlu3boHjODRt2hSWlpYlXENSHnh4eCA+Pp7/Pzs7G926dcPp06dLu2rEjCpjZnoA2LdvH/7++28AQFBQEPr27VvKNSKEENPRWBhS5t26dQvNmjVDWFiYzjkmuqI0HT16FGPHjsV7770HxhgSExPx888/o1u3bm+jyqQMs7a2BgDY2triyZMnqF69Op4+fVrKtSLmVhkz0wNA37590bdvXxw+fBg9evQo7eoQQsgboTsqpMyLiIjA6tWr0aFDB/6iAwAYY4JRmpo1a4bDhw+jUaNGAIB79+6he/fuuHXr1lurNymb5s+fj8jISBw/fhz/+c9/wHEcxowZg3nz5pV21YgZ3b9/HxERETh37hycnJzg4uKCrVu3wtnZubSr9lZQ8BBCSEVADRVSbuTl5WHlypVauVHGjx/P95AXpBn2ocEYg5+fn9YyUvmoVCrExMQgICAAAJCfnw+pVApHR8dSrhkpKZUpM31BBYe8EUJIeUUNFVJuDBw4EA4ODhgyZAgAYPv27cjIyMCuXbuKlB0/fjySkpIwcOBAcByH6OhoNGjQgJ9YSgnQKi+6gKsc8vPzsWfPHjx48AAKhYJfXlmiu128eBF+fn6lXQ1CCHkj1FAh5UaLFi2QkJBQ7DJAd7I3jYqa9I0YZurUqfD390e/fv20hhKSiqVr165wdHSEj48PxGIxv3zKlCmlWKuSFR0dja5du8Le3h7z58/H1atX8eWXX+qcx0cIIeUBNVRIuTF06FBMmDAB77//PgDgwoULWLFiBTZv3lyk7MuXL1G9evW3XUVSDtjb2yM3NxdisRhWVlYA1I3XzMzMUq4ZMSc3NzfcuHGjtKvxVmki2Z05cwZfffUVpk6dinnz5uHChQulXTVCCDEJ5VEhZZ67uzs8PDxw5coVBAQEwNnZGS4uLvD398fly5d1Puf9999HWFgYfv31V1BbnBTUu3dvrFq1CnFxccjKykJWVhY1UiqggIAAXL9+vbSr8VZp7hwdOXIEY8aMQffu3SGTyUq5VoQQYjq6o0LKvOKS8TVs2LDIMsYYjh07hvXr1+PSpUsYOHAgRo4ciSZNmpRUNUk5cfLkSZw+fRqnT5/GvXv34O3tjcDAQEyaNKm0q0bMwN3dHRzHQaFQ4O7du3B1dYWVlRUfJTA+Pr60q1hievTogXr16uHo0aOIjY2FjY0N/Pz8EBcXV9pVI4QQk1BDhVR4J0+exNChQ5GTkwNPT098++238Pf3L+1qkVKkVCpx6dIlnDx5Ej/99BNsbGwodHUFYUrHRkWRm5uL33//He7u7mjcuDGePn2K69evIzQ0tLSrRgghJqGGCqmQXr58ia1bt2LLli2oXbs2Ro0ahV69euHatWsICwtDYmJiaVeRlJKOHTsiJycH/v7+CAwMRLt27VCrVq3SrhYxs2HDhmHLli3FLqtIkpOTdS5v0KDBW64JIYSYB2WmJxWSv78/hg0bhv379+Pdd9/ll/v6+mLcuHGlWDNS2jTznW7cuAFHR0dUrVoV/v7+sLGxKe2qETO6efOm1u8KhQJXrlwppdq8Hd27dwfHcWCMQSqVIjExEU2bNi3yWhBCSHlBd1RIhaNUKjF9+nT88MMPpV0VUoZlZWVh48aN+P777/Hs2TPk5+eXdpWIGSxcuBALFixAXl4ebG1tAajnrFlaWiIiIgILFy4s5Rq+PbGxsVi5ciXWrl1b2lUhhBCTUEOFVEj+/v44f/58aVeDlEE//vgjTp8+jStXrsDZ2RmBgYEIDAxESEhIaVeNmNH06dPh7u6O+/fvY/bs2UhOTsazZ88qXRJEd3f3Shf9jBBScdDQL1IheXl5oVevXggLC4OdnR2/nDLSE6lUik8//RQ+Pj6QSOgjsKLKzMxETEwMTpw4gdmzZ8Pe3h79+/fHpUuXSrtqJWbx4sX8zyqVCrGxsahbt24p1ogQQt4MfUuTCkkqlaJ69eo4ceIEv4zjOGqoEEydOrW0q0DegosXLyI2NhatWrUCADg5OVX4nCJZWVn8zxKJBN27d0f//v1LsUaEEPJmqKFCKiSVSoWoqChUrVoVAJCeno4pU6aUbqUIIW+NhYUFlEolOI4DAKSkpEAkqtg5jmfPnl3aVSCEELOihgqpkOLj4/lGCqDuTb169WrpVYgQ8lZNnDgRffv2xYsXL/DFF19g9+7d+Prrr0u7WiVi8uTJWLp0KXr27Mk3zAo6ePBgKdSKEELeHDVUSIWkUqmQnp4OJycnAEBaWhoUCkUp14oQ8rYMGTIEPj4+OH78OBhj2L9/P5o3b17a1SoRw4YNA0DDGgkhFQ9F/SIV0ubNm7FgwQKEhYUBAKKjo/HFF1/wX+iEEFKRpaen4+HDh/Dw8CjtqhBCiMmooUIqrISEBH4yfUhICFq0aFHKNSKEkJITHByMgwcPQqFQwMfHB7Vq1ULbtm21ooERQkh5Qg0VQgghpAJo1aoVrl69irVr1+Lhw4eYO3cuPDw8EB8fX9pVI4QQk1TsECiEEEJIJaFQKPD06VPs2rULPXr0KO3qEELIG6OGCiGEEFIBzJo1C126dEGjRo3QunVr3L9/H40bNy7tahFCiMlo6BchhBBCCCGkzKHwxIQQQkg5FhkZqTN/isayZcveYm0IIcR8qKFCCCGElGO+vr6lXQVCCCkRNPSLEEIIqUByc3Nha2tb2tUghJA3RpPpCSGEkArg/PnzaNGiBZo1awYAiIuLwyeffFLKtSKEENNRQ4UQQgipACZPnow//vgD1atXBwB4enri77//LuVaEUKI6aihQgghhFQQ9evX1/pdLBaXUk0IIeTN0WR6QgghpAKoX78+zp07B47jIJfLERUVhebNm5d2tQghxGQ0mZ4QQgipAFJTUzFp0iQcO3YMjDGEhoZi2bJlqFatWmlXjRBCTEINFUIIIaQCGDFiBJYuXQonJycAQHp6OqZMmYL169eXcs0IIcQ0NEeFEEIIqQDi4+P5RgoAODk54erVq6VYI0IIeTPUUCGEEEIqAJVKhfT0dP73tLQ0KBSKUqwRIYS8GZpMTwghhFQAU6ZMgb+/P8LCwgAA0dHR+OKLL0q5VoQQYjqao0IIIYRUEAkJCThx4gQAICQkBC1atCjlGhFCiOmooUIIIYQQQggpc2iOCiGEEEIIIaTMoYYKIYQQQgghpMyhhgohhBBCCCGkzKGGCiGk3Pnpp5+wefNmo593+fJlTJw4UeffnJ2dkZqa+qZVI4QQQoiZ0GR6QgiBuqFy+fJl1KhRo7SrQgghhBDQHRVCSBmyefNmeHh4wNPTE8OGDcODBw8QEhICDw8PdOzYEcnJyQCAOXPm4PvvvwcABAcHY8aMGfDz80OTJk1w+vRpwfWfOnUKPXr0AAC8fPkSoaGhaNmyJUaPHg3qsyGEEELKFmqoEELKhJs3b+Lrr7/GiRMnEBcXh6ioKERGRmLEiBGIj4/HkCFDBIdtKRQKXLx4EUuXLsXcuXMN2t7cuXPRrl073Lx5E3379uUbQYQQQggpG6ihQggpE06cOIGwsDB+6FW1atVw/vx5DB48GAAwbNgwnDlzRudz+/XrBwDw8fHBgwcPDNre33//jaFDhwIAunfvDicnpzfcA0IIIYSYEzVUCCHlnpWVFQBALBZDoVCUcm0IIYQQYg7UUCGElAkhISGIjo7Gy5cvAQBpaWkICAjAL7/8AgDYtm0bAgMDzba9oKAgbN++HQDw22+/IT093WzrJoQQQsibk5R2BQghBABatmyJL774Au3bt4dYLEarVq2wfPlyhIeHY9GiRahZsyY2bNhgtu3Nnj0bH330EVq2bImAgAA0aNDAbOsmhBBCyJuj8MSEEEIIIYSQMoeGfhFCCCGEEELKHBr6RQipcP744w/MmDFDa5mLiwv27dtXSjUihBBCiLFo6BchhBBCCCGkzKGhX4QQQgghhJAyhxoqhBBCCCGEkDKHGiqEEEIIIYSQMocaKoQQQgghhJAyhxoqhBBCCCGEkDLn/wFUrxjNrDWBGQAAAABJRU5ErkJggg==' style='max-width:100%; margin: auto; display: block; '/>"
      ],
      "text/plain": [
       ":NdOverlay   [Variable]\n",
       "   :Curve   [coin_id]   (value)"
      ]
     },
     "execution_count": 67,
     "metadata": {
      "application/vnd.holoviews_exec.v0+json": {}
     },
     "output_type": "execute_result"
    }
   ],
   "source": [
    "# Plot your data to see what's in your DataFrame\n",
    "df_market_data.hvplot.line(\n",
    "    width=800,\n",
    "    height=400,\n",
    "    rot=90\n",
    ")"
   ]
  },
  {
   "cell_type": "code",
   "execution_count": 68,
   "metadata": {},
   "outputs": [
    {
     "data": {
      "text/plain": [
       "price_change_percentage_24h     float64\n",
       "price_change_percentage_7d      float64\n",
       "price_change_percentage_14d     float64\n",
       "price_change_percentage_30d     float64\n",
       "price_change_percentage_60d     float64\n",
       "price_change_percentage_200d    float64\n",
       "price_change_percentage_1y      float64\n",
       "dtype: object"
      ]
     },
     "execution_count": 68,
     "metadata": {},
     "output_type": "execute_result"
    }
   ],
   "source": [
    "# Check the DataFrame data types\n",
    "df_market_data.dtypes"
   ]
  },
  {
   "attachments": {},
   "cell_type": "markdown",
   "metadata": {},
   "source": [
    "---"
   ]
  },
  {
   "attachments": {},
   "cell_type": "markdown",
   "metadata": {},
   "source": [
    "### Prepare the Data"
   ]
  },
  {
   "cell_type": "code",
   "execution_count": 69,
   "metadata": {},
   "outputs": [],
   "source": [
    "# Use the `StandardScaler()` module from scikit-learn to normalize the data from the CSV file\n",
    "df_market_data_scaled =  StandardScaler().fit_transform(df_market_data[['price_change_percentage_24h', 'price_change_percentage_7d', 'price_change_percentage_14d', 'price_change_percentage_30d', 'price_change_percentage_60d', 'price_change_percentage_200d', 'price_change_percentage_1y']])"
   ]
  },
  {
   "cell_type": "code",
   "execution_count": 70,
   "metadata": {},
   "outputs": [
    {
     "data": {
      "text/html": [
       "<div>\n",
       "<style scoped>\n",
       "    .dataframe tbody tr th:only-of-type {\n",
       "        vertical-align: middle;\n",
       "    }\n",
       "\n",
       "    .dataframe tbody tr th {\n",
       "        vertical-align: top;\n",
       "    }\n",
       "\n",
       "    .dataframe thead th {\n",
       "        text-align: right;\n",
       "    }\n",
       "</style>\n",
       "<table border=\"1\" class=\"dataframe\">\n",
       "  <thead>\n",
       "    <tr style=\"text-align: right;\">\n",
       "      <th></th>\n",
       "      <th>price_change_percentage_24h</th>\n",
       "      <th>price_change_percentage_7d</th>\n",
       "      <th>price_change_percentage_14d</th>\n",
       "      <th>price_change_percentage_30d</th>\n",
       "      <th>price_change_percentage_60d</th>\n",
       "      <th>price_change_percentage_200d</th>\n",
       "      <th>price_change_percentage_1y</th>\n",
       "    </tr>\n",
       "    <tr>\n",
       "      <th>Crypto_names</th>\n",
       "      <th></th>\n",
       "      <th></th>\n",
       "      <th></th>\n",
       "      <th></th>\n",
       "      <th></th>\n",
       "      <th></th>\n",
       "      <th></th>\n",
       "    </tr>\n",
       "  </thead>\n",
       "  <tbody>\n",
       "    <tr>\n",
       "      <th>bitcoin</th>\n",
       "      <td>0.508529</td>\n",
       "      <td>0.493193</td>\n",
       "      <td>0.772200</td>\n",
       "      <td>0.235460</td>\n",
       "      <td>-0.067495</td>\n",
       "      <td>-0.355953</td>\n",
       "      <td>-0.251637</td>\n",
       "    </tr>\n",
       "    <tr>\n",
       "      <th>ethereum</th>\n",
       "      <td>0.185446</td>\n",
       "      <td>0.934445</td>\n",
       "      <td>0.558692</td>\n",
       "      <td>-0.054341</td>\n",
       "      <td>-0.273483</td>\n",
       "      <td>-0.115759</td>\n",
       "      <td>-0.199352</td>\n",
       "    </tr>\n",
       "    <tr>\n",
       "      <th>tether</th>\n",
       "      <td>0.021774</td>\n",
       "      <td>-0.706337</td>\n",
       "      <td>-0.021680</td>\n",
       "      <td>-0.061030</td>\n",
       "      <td>0.008005</td>\n",
       "      <td>-0.550247</td>\n",
       "      <td>-0.282061</td>\n",
       "    </tr>\n",
       "    <tr>\n",
       "      <th>ripple</th>\n",
       "      <td>-0.040764</td>\n",
       "      <td>-0.810928</td>\n",
       "      <td>0.249458</td>\n",
       "      <td>-0.050388</td>\n",
       "      <td>-0.373164</td>\n",
       "      <td>-0.458259</td>\n",
       "      <td>-0.295546</td>\n",
       "    </tr>\n",
       "    <tr>\n",
       "      <th>bitcoin-cash</th>\n",
       "      <td>1.193036</td>\n",
       "      <td>2.000959</td>\n",
       "      <td>1.760610</td>\n",
       "      <td>0.545842</td>\n",
       "      <td>-0.291203</td>\n",
       "      <td>-0.499848</td>\n",
       "      <td>-0.270317</td>\n",
       "    </tr>\n",
       "  </tbody>\n",
       "</table>\n",
       "</div>"
      ],
      "text/plain": [
       "              price_change_percentage_24h  price_change_percentage_7d  \\\n",
       "Crypto_names                                                            \n",
       "bitcoin                          0.508529                    0.493193   \n",
       "ethereum                         0.185446                    0.934445   \n",
       "tether                           0.021774                   -0.706337   \n",
       "ripple                          -0.040764                   -0.810928   \n",
       "bitcoin-cash                     1.193036                    2.000959   \n",
       "\n",
       "              price_change_percentage_14d  price_change_percentage_30d  \\\n",
       "Crypto_names                                                             \n",
       "bitcoin                          0.772200                     0.235460   \n",
       "ethereum                         0.558692                    -0.054341   \n",
       "tether                          -0.021680                    -0.061030   \n",
       "ripple                           0.249458                    -0.050388   \n",
       "bitcoin-cash                     1.760610                     0.545842   \n",
       "\n",
       "              price_change_percentage_60d  price_change_percentage_200d  \\\n",
       "Crypto_names                                                              \n",
       "bitcoin                         -0.067495                     -0.355953   \n",
       "ethereum                        -0.273483                     -0.115759   \n",
       "tether                           0.008005                     -0.550247   \n",
       "ripple                          -0.373164                     -0.458259   \n",
       "bitcoin-cash                    -0.291203                     -0.499848   \n",
       "\n",
       "              price_change_percentage_1y  \n",
       "Crypto_names                              \n",
       "bitcoin                        -0.251637  \n",
       "ethereum                       -0.199352  \n",
       "tether                         -0.282061  \n",
       "ripple                         -0.295546  \n",
       "bitcoin-cash                   -0.270317  "
      ]
     },
     "execution_count": 70,
     "metadata": {},
     "output_type": "execute_result"
    }
   ],
   "source": [
    "# Create a DataFrame with the scaled data\n",
    "df_market_data_transformed = pd.DataFrame(df_market_data_scaled, columns=['price_change_percentage_24h', 'price_change_percentage_7d', 'price_change_percentage_14d', 'price_change_percentage_30d', 'price_change_percentage_60d', 'price_change_percentage_200d', 'price_change_percentage_1y'])\n",
    "# df_market_data_transformed.head()\n",
    "\n",
    "# Copy the crypto names from the original data\n",
    "df_market_data_transformed['Crypto_names'] = df_market_data.index\n",
    "\n",
    "# Set the coinid column as index\n",
    "df_market_data_transformed = df_market_data_transformed.set_index('Crypto_names')\n",
    "\n",
    "# Display sample data\n",
    "df_market_data_transformed.head()"
   ]
  },
  {
   "attachments": {},
   "cell_type": "markdown",
   "metadata": {},
   "source": [
    "---"
   ]
  },
  {
   "attachments": {},
   "cell_type": "markdown",
   "metadata": {},
   "source": [
    "### Find the Best Value for k Using the Original Data."
   ]
  },
  {
   "cell_type": "code",
   "execution_count": 71,
   "metadata": {},
   "outputs": [],
   "source": [
    "# Start by importing the K-means algorithm\n",
    "from sklearn.cluster import KMeans"
   ]
  },
  {
   "cell_type": "code",
   "execution_count": 72,
   "metadata": {},
   "outputs": [
    {
     "data": {
      "text/plain": [
       "[1, 2, 3, 4, 5, 6, 7, 8, 9, 10]"
      ]
     },
     "execution_count": 72,
     "metadata": {},
     "output_type": "execute_result"
    }
   ],
   "source": [
    "# Create a list with the number of k-values from 1 to 11\n",
    "k = list(range(1,11))\n",
    "k"
   ]
  },
  {
   "cell_type": "code",
   "execution_count": 73,
   "metadata": {},
   "outputs": [
    {
     "name": "stderr",
     "output_type": "stream",
     "text": [
      "c:\\Users\\alvar\\anaconda3\\envs\\machlearn\\Lib\\site-packages\\sklearn\\cluster\\_kmeans.py:1412: FutureWarning: The default value of `n_init` will change from 10 to 'auto' in 1.4. Set the value of `n_init` explicitly to suppress the warning\n",
      "  super()._check_params_vs_input(X, default_n_init=10)\n",
      "c:\\Users\\alvar\\anaconda3\\envs\\machlearn\\Lib\\site-packages\\sklearn\\cluster\\_kmeans.py:1412: FutureWarning: The default value of `n_init` will change from 10 to 'auto' in 1.4. Set the value of `n_init` explicitly to suppress the warning\n",
      "  super()._check_params_vs_input(X, default_n_init=10)\n",
      "c:\\Users\\alvar\\anaconda3\\envs\\machlearn\\Lib\\site-packages\\sklearn\\cluster\\_kmeans.py:1412: FutureWarning: The default value of `n_init` will change from 10 to 'auto' in 1.4. Set the value of `n_init` explicitly to suppress the warning\n",
      "  super()._check_params_vs_input(X, default_n_init=10)\n",
      "c:\\Users\\alvar\\anaconda3\\envs\\machlearn\\Lib\\site-packages\\sklearn\\cluster\\_kmeans.py:1412: FutureWarning: The default value of `n_init` will change from 10 to 'auto' in 1.4. Set the value of `n_init` explicitly to suppress the warning\n",
      "  super()._check_params_vs_input(X, default_n_init=10)\n",
      "c:\\Users\\alvar\\anaconda3\\envs\\machlearn\\Lib\\site-packages\\sklearn\\cluster\\_kmeans.py:1412: FutureWarning: The default value of `n_init` will change from 10 to 'auto' in 1.4. Set the value of `n_init` explicitly to suppress the warning\n",
      "  super()._check_params_vs_input(X, default_n_init=10)\n",
      "c:\\Users\\alvar\\anaconda3\\envs\\machlearn\\Lib\\site-packages\\sklearn\\cluster\\_kmeans.py:1412: FutureWarning: The default value of `n_init` will change from 10 to 'auto' in 1.4. Set the value of `n_init` explicitly to suppress the warning\n",
      "  super()._check_params_vs_input(X, default_n_init=10)\n",
      "c:\\Users\\alvar\\anaconda3\\envs\\machlearn\\Lib\\site-packages\\sklearn\\cluster\\_kmeans.py:1412: FutureWarning: The default value of `n_init` will change from 10 to 'auto' in 1.4. Set the value of `n_init` explicitly to suppress the warning\n",
      "  super()._check_params_vs_input(X, default_n_init=10)\n",
      "c:\\Users\\alvar\\anaconda3\\envs\\machlearn\\Lib\\site-packages\\sklearn\\cluster\\_kmeans.py:1412: FutureWarning: The default value of `n_init` will change from 10 to 'auto' in 1.4. Set the value of `n_init` explicitly to suppress the warning\n",
      "  super()._check_params_vs_input(X, default_n_init=10)\n",
      "c:\\Users\\alvar\\anaconda3\\envs\\machlearn\\Lib\\site-packages\\sklearn\\cluster\\_kmeans.py:1412: FutureWarning: The default value of `n_init` will change from 10 to 'auto' in 1.4. Set the value of `n_init` explicitly to suppress the warning\n",
      "  super()._check_params_vs_input(X, default_n_init=10)\n",
      "c:\\Users\\alvar\\anaconda3\\envs\\machlearn\\Lib\\site-packages\\sklearn\\cluster\\_kmeans.py:1412: FutureWarning: The default value of `n_init` will change from 10 to 'auto' in 1.4. Set the value of `n_init` explicitly to suppress the warning\n",
      "  super()._check_params_vs_input(X, default_n_init=10)\n"
     ]
    }
   ],
   "source": [
    "# Create an empty list to store the inertia values\n",
    "inertia = []\n",
    "\n",
    "# Create a for loop to compute the inertia with each possible value of k\n",
    "# Inside the loop:\n",
    "# 1. Create a KMeans model using the loop counter for the n_clusters\n",
    "# 2. Fit the model to the data using `df_market_data_scaled`\n",
    "# 3. Append the model.inertia_ to the inertia list\n",
    "for i in k:\n",
    "    k_model = KMeans(n_clusters=i, random_state=1)\n",
    "    k_model.fit(df_market_data_transformed)\n",
    "    inertia.append(k_model.inertia_)\n"
   ]
  },
  {
   "cell_type": "code",
   "execution_count": 74,
   "metadata": {},
   "outputs": [
    {
     "data": {
      "text/html": [
       "<div>\n",
       "<style scoped>\n",
       "    .dataframe tbody tr th:only-of-type {\n",
       "        vertical-align: middle;\n",
       "    }\n",
       "\n",
       "    .dataframe tbody tr th {\n",
       "        vertical-align: top;\n",
       "    }\n",
       "\n",
       "    .dataframe thead th {\n",
       "        text-align: right;\n",
       "    }\n",
       "</style>\n",
       "<table border=\"1\" class=\"dataframe\">\n",
       "  <thead>\n",
       "    <tr style=\"text-align: right;\">\n",
       "      <th></th>\n",
       "      <th>k</th>\n",
       "      <th>inertia</th>\n",
       "    </tr>\n",
       "  </thead>\n",
       "  <tbody>\n",
       "    <tr>\n",
       "      <th>0</th>\n",
       "      <td>1</td>\n",
       "      <td>287.000000</td>\n",
       "    </tr>\n",
       "    <tr>\n",
       "      <th>1</th>\n",
       "      <td>2</td>\n",
       "      <td>195.820218</td>\n",
       "    </tr>\n",
       "    <tr>\n",
       "      <th>2</th>\n",
       "      <td>3</td>\n",
       "      <td>123.190482</td>\n",
       "    </tr>\n",
       "    <tr>\n",
       "      <th>3</th>\n",
       "      <td>4</td>\n",
       "      <td>79.022435</td>\n",
       "    </tr>\n",
       "    <tr>\n",
       "      <th>4</th>\n",
       "      <td>5</td>\n",
       "      <td>63.858668</td>\n",
       "    </tr>\n",
       "    <tr>\n",
       "      <th>5</th>\n",
       "      <td>6</td>\n",
       "      <td>53.057788</td>\n",
       "    </tr>\n",
       "    <tr>\n",
       "      <th>6</th>\n",
       "      <td>7</td>\n",
       "      <td>44.406791</td>\n",
       "    </tr>\n",
       "    <tr>\n",
       "      <th>7</th>\n",
       "      <td>8</td>\n",
       "      <td>37.078233</td>\n",
       "    </tr>\n",
       "    <tr>\n",
       "      <th>8</th>\n",
       "      <td>9</td>\n",
       "      <td>32.832187</td>\n",
       "    </tr>\n",
       "    <tr>\n",
       "      <th>9</th>\n",
       "      <td>10</td>\n",
       "      <td>28.165433</td>\n",
       "    </tr>\n",
       "  </tbody>\n",
       "</table>\n",
       "</div>"
      ],
      "text/plain": [
       "    k     inertia\n",
       "0   1  287.000000\n",
       "1   2  195.820218\n",
       "2   3  123.190482\n",
       "3   4   79.022435\n",
       "4   5   63.858668\n",
       "5   6   53.057788\n",
       "6   7   44.406791\n",
       "7   8   37.078233\n",
       "8   9   32.832187\n",
       "9  10   28.165433"
      ]
     },
     "execution_count": 74,
     "metadata": {},
     "output_type": "execute_result"
    }
   ],
   "source": [
    "# Create a dictionary with the data to plot the Elbow curve\n",
    "elbow_data = {\"k\": k, \"inertia\": inertia}\n",
    "\n",
    "# Create a DataFrame with the data to plot the Elbow curve\n",
    "df_elbow = pd.DataFrame(elbow_data)\n",
    "df_elbow"
   ]
  },
  {
   "cell_type": "code",
   "execution_count": 75,
   "metadata": {},
   "outputs": [
    {
     "data": {
      "text/html": [
       "<img src='data:image/png;base64,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' style='max-width:100%; margin: auto; display: block; '/>"
      ],
      "text/plain": [
       ":Curve   [k]   (inertia)"
      ]
     },
     "execution_count": 75,
     "metadata": {
      "application/vnd.holoviews_exec.v0+json": {}
     },
     "output_type": "execute_result"
    }
   ],
   "source": [
    "# Plot a line chart with all the inertia values computed with \n",
    "# the different values of k to visually identify the optimal value for k.\n",
    "elbow_plot = df_elbow.hvplot.line(\n",
    "    x=\"k\", \n",
    "    y=\"inertia\", \n",
    "    title=\"Elbow Curve\", \n",
    "    xticks=k\n",
    ")\n",
    "\n",
    "elbow_plot"
   ]
  },
  {
   "attachments": {},
   "cell_type": "markdown",
   "metadata": {},
   "source": [
    "#### Answer the following question: \n",
    "\n",
    "**Question:** What is the best value for `k`?\n",
    "\n",
    "**Answer:** The best value for k is 4."
   ]
  },
  {
   "attachments": {},
   "cell_type": "markdown",
   "metadata": {},
   "source": [
    "---"
   ]
  },
  {
   "attachments": {},
   "cell_type": "markdown",
   "metadata": {},
   "source": [
    "### Cluster Cryptocurrencies with K-means Using the Original Data"
   ]
  },
  {
   "cell_type": "code",
   "execution_count": 76,
   "metadata": {},
   "outputs": [],
   "source": [
    "# Initialize the K-Means model using the best value for k\n",
    "model = KMeans(n_clusters=4, random_state=0)"
   ]
  },
  {
   "cell_type": "code",
   "execution_count": 77,
   "metadata": {},
   "outputs": [
    {
     "name": "stderr",
     "output_type": "stream",
     "text": [
      "c:\\Users\\alvar\\anaconda3\\envs\\machlearn\\Lib\\site-packages\\sklearn\\cluster\\_kmeans.py:1412: FutureWarning: The default value of `n_init` will change from 10 to 'auto' in 1.4. Set the value of `n_init` explicitly to suppress the warning\n",
      "  super()._check_params_vs_input(X, default_n_init=10)\n"
     ]
    },
    {
     "data": {
      "text/html": [
       "<style>#sk-container-id-5 {color: black;}#sk-container-id-5 pre{padding: 0;}#sk-container-id-5 div.sk-toggleable {background-color: white;}#sk-container-id-5 label.sk-toggleable__label {cursor: pointer;display: block;width: 100%;margin-bottom: 0;padding: 0.3em;box-sizing: border-box;text-align: center;}#sk-container-id-5 label.sk-toggleable__label-arrow:before {content: \"▸\";float: left;margin-right: 0.25em;color: #696969;}#sk-container-id-5 label.sk-toggleable__label-arrow:hover:before {color: black;}#sk-container-id-5 div.sk-estimator:hover label.sk-toggleable__label-arrow:before {color: black;}#sk-container-id-5 div.sk-toggleable__content {max-height: 0;max-width: 0;overflow: hidden;text-align: left;background-color: #f0f8ff;}#sk-container-id-5 div.sk-toggleable__content pre {margin: 0.2em;color: black;border-radius: 0.25em;background-color: #f0f8ff;}#sk-container-id-5 input.sk-toggleable__control:checked~div.sk-toggleable__content {max-height: 200px;max-width: 100%;overflow: auto;}#sk-container-id-5 input.sk-toggleable__control:checked~label.sk-toggleable__label-arrow:before {content: \"▾\";}#sk-container-id-5 div.sk-estimator input.sk-toggleable__control:checked~label.sk-toggleable__label {background-color: #d4ebff;}#sk-container-id-5 div.sk-label input.sk-toggleable__control:checked~label.sk-toggleable__label {background-color: #d4ebff;}#sk-container-id-5 input.sk-hidden--visually {border: 0;clip: rect(1px 1px 1px 1px);clip: rect(1px, 1px, 1px, 1px);height: 1px;margin: -1px;overflow: hidden;padding: 0;position: absolute;width: 1px;}#sk-container-id-5 div.sk-estimator {font-family: monospace;background-color: #f0f8ff;border: 1px dotted black;border-radius: 0.25em;box-sizing: border-box;margin-bottom: 0.5em;}#sk-container-id-5 div.sk-estimator:hover {background-color: #d4ebff;}#sk-container-id-5 div.sk-parallel-item::after {content: \"\";width: 100%;border-bottom: 1px solid gray;flex-grow: 1;}#sk-container-id-5 div.sk-label:hover label.sk-toggleable__label {background-color: #d4ebff;}#sk-container-id-5 div.sk-serial::before {content: \"\";position: absolute;border-left: 1px solid gray;box-sizing: border-box;top: 0;bottom: 0;left: 50%;z-index: 0;}#sk-container-id-5 div.sk-serial {display: flex;flex-direction: column;align-items: center;background-color: white;padding-right: 0.2em;padding-left: 0.2em;position: relative;}#sk-container-id-5 div.sk-item {position: relative;z-index: 1;}#sk-container-id-5 div.sk-parallel {display: flex;align-items: stretch;justify-content: center;background-color: white;position: relative;}#sk-container-id-5 div.sk-item::before, #sk-container-id-5 div.sk-parallel-item::before {content: \"\";position: absolute;border-left: 1px solid gray;box-sizing: border-box;top: 0;bottom: 0;left: 50%;z-index: -1;}#sk-container-id-5 div.sk-parallel-item {display: flex;flex-direction: column;z-index: 1;position: relative;background-color: white;}#sk-container-id-5 div.sk-parallel-item:first-child::after {align-self: flex-end;width: 50%;}#sk-container-id-5 div.sk-parallel-item:last-child::after {align-self: flex-start;width: 50%;}#sk-container-id-5 div.sk-parallel-item:only-child::after {width: 0;}#sk-container-id-5 div.sk-dashed-wrapped {border: 1px dashed gray;margin: 0 0.4em 0.5em 0.4em;box-sizing: border-box;padding-bottom: 0.4em;background-color: white;}#sk-container-id-5 div.sk-label label {font-family: monospace;font-weight: bold;display: inline-block;line-height: 1.2em;}#sk-container-id-5 div.sk-label-container {text-align: center;}#sk-container-id-5 div.sk-container {/* jupyter's `normalize.less` sets `[hidden] { display: none; }` but bootstrap.min.css set `[hidden] { display: none !important; }` so we also need the `!important` here to be able to override the default hidden behavior on the sphinx rendered scikit-learn.org. See: https://github.com/scikit-learn/scikit-learn/issues/21755 */display: inline-block !important;position: relative;}#sk-container-id-5 div.sk-text-repr-fallback {display: none;}</style><div id=\"sk-container-id-5\" class=\"sk-top-container\"><div class=\"sk-text-repr-fallback\"><pre>KMeans(n_clusters=4, random_state=0)</pre><b>In a Jupyter environment, please rerun this cell to show the HTML representation or trust the notebook. <br />On GitHub, the HTML representation is unable to render, please try loading this page with nbviewer.org.</b></div><div class=\"sk-container\" hidden><div class=\"sk-item\"><div class=\"sk-estimator sk-toggleable\"><input class=\"sk-toggleable__control sk-hidden--visually\" id=\"sk-estimator-id-5\" type=\"checkbox\" checked><label for=\"sk-estimator-id-5\" class=\"sk-toggleable__label sk-toggleable__label-arrow\">KMeans</label><div class=\"sk-toggleable__content\"><pre>KMeans(n_clusters=4, random_state=0)</pre></div></div></div></div></div>"
      ],
      "text/plain": [
       "KMeans(n_clusters=4, random_state=0)"
      ]
     },
     "execution_count": 77,
     "metadata": {},
     "output_type": "execute_result"
    }
   ],
   "source": [
    "# Fit the K-Means model using the scaled data\n",
    "model.fit(df_market_data_transformed)"
   ]
  },
  {
   "cell_type": "code",
   "execution_count": 78,
   "metadata": {},
   "outputs": [
    {
     "data": {
      "text/plain": [
       "array([2, 2, 0, 0, 2, 2, 2, 2, 2, 0, 0, 0, 0, 2, 0, 2, 0, 0, 2, 0, 0, 2,\n",
       "       0, 0, 0, 0, 0, 0, 2, 0, 0, 0, 1, 2, 0, 0, 3, 0, 0, 0, 0])"
      ]
     },
     "execution_count": 78,
     "metadata": {},
     "output_type": "execute_result"
    }
   ],
   "source": [
    "# Predict the clusters to group the cryptocurrencies using the scaled data\n",
    "k_4 = model.predict(df_market_data_transformed)\n",
    "\n",
    "# Print the resulting array of cluster values.\n",
    "k_4"
   ]
  },
  {
   "cell_type": "code",
   "execution_count": 79,
   "metadata": {},
   "outputs": [
    {
     "data": {
      "text/html": [
       "<div>\n",
       "<style scoped>\n",
       "    .dataframe tbody tr th:only-of-type {\n",
       "        vertical-align: middle;\n",
       "    }\n",
       "\n",
       "    .dataframe tbody tr th {\n",
       "        vertical-align: top;\n",
       "    }\n",
       "\n",
       "    .dataframe thead th {\n",
       "        text-align: right;\n",
       "    }\n",
       "</style>\n",
       "<table border=\"1\" class=\"dataframe\">\n",
       "  <thead>\n",
       "    <tr style=\"text-align: right;\">\n",
       "      <th></th>\n",
       "      <th>price_change_percentage_24h</th>\n",
       "      <th>price_change_percentage_7d</th>\n",
       "      <th>price_change_percentage_14d</th>\n",
       "      <th>price_change_percentage_30d</th>\n",
       "      <th>price_change_percentage_60d</th>\n",
       "      <th>price_change_percentage_200d</th>\n",
       "      <th>price_change_percentage_1y</th>\n",
       "    </tr>\n",
       "    <tr>\n",
       "      <th>Crypto_names</th>\n",
       "      <th></th>\n",
       "      <th></th>\n",
       "      <th></th>\n",
       "      <th></th>\n",
       "      <th></th>\n",
       "      <th></th>\n",
       "      <th></th>\n",
       "    </tr>\n",
       "  </thead>\n",
       "  <tbody>\n",
       "    <tr>\n",
       "      <th>bitcoin</th>\n",
       "      <td>0.508529</td>\n",
       "      <td>0.493193</td>\n",
       "      <td>0.772200</td>\n",
       "      <td>0.235460</td>\n",
       "      <td>-0.067495</td>\n",
       "      <td>-0.355953</td>\n",
       "      <td>-0.251637</td>\n",
       "    </tr>\n",
       "    <tr>\n",
       "      <th>ethereum</th>\n",
       "      <td>0.185446</td>\n",
       "      <td>0.934445</td>\n",
       "      <td>0.558692</td>\n",
       "      <td>-0.054341</td>\n",
       "      <td>-0.273483</td>\n",
       "      <td>-0.115759</td>\n",
       "      <td>-0.199352</td>\n",
       "    </tr>\n",
       "    <tr>\n",
       "      <th>tether</th>\n",
       "      <td>0.021774</td>\n",
       "      <td>-0.706337</td>\n",
       "      <td>-0.021680</td>\n",
       "      <td>-0.061030</td>\n",
       "      <td>0.008005</td>\n",
       "      <td>-0.550247</td>\n",
       "      <td>-0.282061</td>\n",
       "    </tr>\n",
       "    <tr>\n",
       "      <th>ripple</th>\n",
       "      <td>-0.040764</td>\n",
       "      <td>-0.810928</td>\n",
       "      <td>0.249458</td>\n",
       "      <td>-0.050388</td>\n",
       "      <td>-0.373164</td>\n",
       "      <td>-0.458259</td>\n",
       "      <td>-0.295546</td>\n",
       "    </tr>\n",
       "    <tr>\n",
       "      <th>bitcoin-cash</th>\n",
       "      <td>1.193036</td>\n",
       "      <td>2.000959</td>\n",
       "      <td>1.760610</td>\n",
       "      <td>0.545842</td>\n",
       "      <td>-0.291203</td>\n",
       "      <td>-0.499848</td>\n",
       "      <td>-0.270317</td>\n",
       "    </tr>\n",
       "  </tbody>\n",
       "</table>\n",
       "</div>"
      ],
      "text/plain": [
       "              price_change_percentage_24h  price_change_percentage_7d  \\\n",
       "Crypto_names                                                            \n",
       "bitcoin                          0.508529                    0.493193   \n",
       "ethereum                         0.185446                    0.934445   \n",
       "tether                           0.021774                   -0.706337   \n",
       "ripple                          -0.040764                   -0.810928   \n",
       "bitcoin-cash                     1.193036                    2.000959   \n",
       "\n",
       "              price_change_percentage_14d  price_change_percentage_30d  \\\n",
       "Crypto_names                                                             \n",
       "bitcoin                          0.772200                     0.235460   \n",
       "ethereum                         0.558692                    -0.054341   \n",
       "tether                          -0.021680                    -0.061030   \n",
       "ripple                           0.249458                    -0.050388   \n",
       "bitcoin-cash                     1.760610                     0.545842   \n",
       "\n",
       "              price_change_percentage_60d  price_change_percentage_200d  \\\n",
       "Crypto_names                                                              \n",
       "bitcoin                         -0.067495                     -0.355953   \n",
       "ethereum                        -0.273483                     -0.115759   \n",
       "tether                           0.008005                     -0.550247   \n",
       "ripple                          -0.373164                     -0.458259   \n",
       "bitcoin-cash                    -0.291203                     -0.499848   \n",
       "\n",
       "              price_change_percentage_1y  \n",
       "Crypto_names                              \n",
       "bitcoin                        -0.251637  \n",
       "ethereum                       -0.199352  \n",
       "tether                         -0.282061  \n",
       "ripple                         -0.295546  \n",
       "bitcoin-cash                   -0.270317  "
      ]
     },
     "execution_count": 79,
     "metadata": {},
     "output_type": "execute_result"
    }
   ],
   "source": [
    "# Create a copy of the DataFrame\n",
    "df_market_data_transformed_copy = df_market_data_transformed.copy()\n",
    "df_market_data_transformed_copy.head()"
   ]
  },
  {
   "cell_type": "code",
   "execution_count": 80,
   "metadata": {},
   "outputs": [
    {
     "data": {
      "text/html": [
       "<div>\n",
       "<style scoped>\n",
       "    .dataframe tbody tr th:only-of-type {\n",
       "        vertical-align: middle;\n",
       "    }\n",
       "\n",
       "    .dataframe tbody tr th {\n",
       "        vertical-align: top;\n",
       "    }\n",
       "\n",
       "    .dataframe thead th {\n",
       "        text-align: right;\n",
       "    }\n",
       "</style>\n",
       "<table border=\"1\" class=\"dataframe\">\n",
       "  <thead>\n",
       "    <tr style=\"text-align: right;\">\n",
       "      <th></th>\n",
       "      <th>price_change_percentage_24h</th>\n",
       "      <th>price_change_percentage_7d</th>\n",
       "      <th>price_change_percentage_14d</th>\n",
       "      <th>price_change_percentage_30d</th>\n",
       "      <th>price_change_percentage_60d</th>\n",
       "      <th>price_change_percentage_200d</th>\n",
       "      <th>price_change_percentage_1y</th>\n",
       "      <th>Prediction</th>\n",
       "    </tr>\n",
       "    <tr>\n",
       "      <th>Crypto_names</th>\n",
       "      <th></th>\n",
       "      <th></th>\n",
       "      <th></th>\n",
       "      <th></th>\n",
       "      <th></th>\n",
       "      <th></th>\n",
       "      <th></th>\n",
       "      <th></th>\n",
       "    </tr>\n",
       "  </thead>\n",
       "  <tbody>\n",
       "    <tr>\n",
       "      <th>bitcoin</th>\n",
       "      <td>0.508529</td>\n",
       "      <td>0.493193</td>\n",
       "      <td>0.772200</td>\n",
       "      <td>0.235460</td>\n",
       "      <td>-0.067495</td>\n",
       "      <td>-0.355953</td>\n",
       "      <td>-0.251637</td>\n",
       "      <td>2</td>\n",
       "    </tr>\n",
       "    <tr>\n",
       "      <th>ethereum</th>\n",
       "      <td>0.185446</td>\n",
       "      <td>0.934445</td>\n",
       "      <td>0.558692</td>\n",
       "      <td>-0.054341</td>\n",
       "      <td>-0.273483</td>\n",
       "      <td>-0.115759</td>\n",
       "      <td>-0.199352</td>\n",
       "      <td>2</td>\n",
       "    </tr>\n",
       "    <tr>\n",
       "      <th>tether</th>\n",
       "      <td>0.021774</td>\n",
       "      <td>-0.706337</td>\n",
       "      <td>-0.021680</td>\n",
       "      <td>-0.061030</td>\n",
       "      <td>0.008005</td>\n",
       "      <td>-0.550247</td>\n",
       "      <td>-0.282061</td>\n",
       "      <td>0</td>\n",
       "    </tr>\n",
       "    <tr>\n",
       "      <th>ripple</th>\n",
       "      <td>-0.040764</td>\n",
       "      <td>-0.810928</td>\n",
       "      <td>0.249458</td>\n",
       "      <td>-0.050388</td>\n",
       "      <td>-0.373164</td>\n",
       "      <td>-0.458259</td>\n",
       "      <td>-0.295546</td>\n",
       "      <td>0</td>\n",
       "    </tr>\n",
       "    <tr>\n",
       "      <th>bitcoin-cash</th>\n",
       "      <td>1.193036</td>\n",
       "      <td>2.000959</td>\n",
       "      <td>1.760610</td>\n",
       "      <td>0.545842</td>\n",
       "      <td>-0.291203</td>\n",
       "      <td>-0.499848</td>\n",
       "      <td>-0.270317</td>\n",
       "      <td>2</td>\n",
       "    </tr>\n",
       "  </tbody>\n",
       "</table>\n",
       "</div>"
      ],
      "text/plain": [
       "              price_change_percentage_24h  price_change_percentage_7d  \\\n",
       "Crypto_names                                                            \n",
       "bitcoin                          0.508529                    0.493193   \n",
       "ethereum                         0.185446                    0.934445   \n",
       "tether                           0.021774                   -0.706337   \n",
       "ripple                          -0.040764                   -0.810928   \n",
       "bitcoin-cash                     1.193036                    2.000959   \n",
       "\n",
       "              price_change_percentage_14d  price_change_percentage_30d  \\\n",
       "Crypto_names                                                             \n",
       "bitcoin                          0.772200                     0.235460   \n",
       "ethereum                         0.558692                    -0.054341   \n",
       "tether                          -0.021680                    -0.061030   \n",
       "ripple                           0.249458                    -0.050388   \n",
       "bitcoin-cash                     1.760610                     0.545842   \n",
       "\n",
       "              price_change_percentage_60d  price_change_percentage_200d  \\\n",
       "Crypto_names                                                              \n",
       "bitcoin                         -0.067495                     -0.355953   \n",
       "ethereum                        -0.273483                     -0.115759   \n",
       "tether                           0.008005                     -0.550247   \n",
       "ripple                          -0.373164                     -0.458259   \n",
       "bitcoin-cash                    -0.291203                     -0.499848   \n",
       "\n",
       "              price_change_percentage_1y  Prediction  \n",
       "Crypto_names                                          \n",
       "bitcoin                        -0.251637           2  \n",
       "ethereum                       -0.199352           2  \n",
       "tether                         -0.282061           0  \n",
       "ripple                         -0.295546           0  \n",
       "bitcoin-cash                   -0.270317           2  "
      ]
     },
     "execution_count": 80,
     "metadata": {},
     "output_type": "execute_result"
    }
   ],
   "source": [
    "# Add a new column to the DataFrame with the predicted clusters\n",
    "df_market_data_transformed_copy['Prediction'] = k_4\n",
    "\n",
    "# Display sample data\n",
    "df_market_data_transformed_copy.head()"
   ]
  },
  {
   "cell_type": "code",
   "execution_count": 81,
   "metadata": {},
   "outputs": [
    {
     "name": "stderr",
     "output_type": "stream",
     "text": [
      "c:\\Users\\alvar\\anaconda3\\envs\\machlearn\\Lib\\site-packages\\holoviews\\core\\util.py:1175: FutureWarning: unique with argument that is not not a Series, Index, ExtensionArray, or np.ndarray is deprecated and will raise in a future version.\n",
      "  return pd.unique(values)\n",
      "c:\\Users\\alvar\\anaconda3\\envs\\machlearn\\Lib\\site-packages\\holoviews\\core\\util.py:1175: FutureWarning: unique with argument that is not not a Series, Index, ExtensionArray, or np.ndarray is deprecated and will raise in a future version.\n",
      "  return pd.unique(values)\n",
      "c:\\Users\\alvar\\anaconda3\\envs\\machlearn\\Lib\\site-packages\\holoviews\\core\\util.py:1175: FutureWarning: unique with argument that is not not a Series, Index, ExtensionArray, or np.ndarray is deprecated and will raise in a future version.\n",
      "  return pd.unique(values)\n",
      "c:\\Users\\alvar\\anaconda3\\envs\\machlearn\\Lib\\site-packages\\holoviews\\core\\util.py:1175: FutureWarning: unique with argument that is not not a Series, Index, ExtensionArray, or np.ndarray is deprecated and will raise in a future version.\n",
      "  return pd.unique(values)\n",
      "c:\\Users\\alvar\\anaconda3\\envs\\machlearn\\Lib\\site-packages\\holoviews\\core\\util.py:1175: FutureWarning: unique with argument that is not not a Series, Index, ExtensionArray, or np.ndarray is deprecated and will raise in a future version.\n",
      "  return pd.unique(values)\n",
      "c:\\Users\\alvar\\anaconda3\\envs\\machlearn\\Lib\\site-packages\\holoviews\\core\\util.py:1175: FutureWarning: unique with argument that is not not a Series, Index, ExtensionArray, or np.ndarray is deprecated and will raise in a future version.\n",
      "  return pd.unique(values)\n",
      "c:\\Users\\alvar\\anaconda3\\envs\\machlearn\\Lib\\site-packages\\holoviews\\core\\util.py:1175: FutureWarning: unique with argument that is not not a Series, Index, ExtensionArray, or np.ndarray is deprecated and will raise in a future version.\n",
      "  return pd.unique(values)\n",
      "c:\\Users\\alvar\\anaconda3\\envs\\machlearn\\Lib\\site-packages\\holoviews\\core\\util.py:1175: FutureWarning: unique with argument that is not not a Series, Index, ExtensionArray, or np.ndarray is deprecated and will raise in a future version.\n",
      "  return pd.unique(values)\n",
      "c:\\Users\\alvar\\anaconda3\\envs\\machlearn\\Lib\\site-packages\\holoviews\\core\\util.py:1175: FutureWarning: unique with argument that is not not a Series, Index, ExtensionArray, or np.ndarray is deprecated and will raise in a future version.\n",
      "  return pd.unique(values)\n",
      "c:\\Users\\alvar\\anaconda3\\envs\\machlearn\\Lib\\site-packages\\holoviews\\core\\util.py:1175: FutureWarning: unique with argument that is not not a Series, Index, ExtensionArray, or np.ndarray is deprecated and will raise in a future version.\n",
      "  return pd.unique(values)\n",
      "c:\\Users\\alvar\\anaconda3\\envs\\machlearn\\Lib\\site-packages\\holoviews\\core\\util.py:1175: FutureWarning: unique with argument that is not not a Series, Index, ExtensionArray, or np.ndarray is deprecated and will raise in a future version.\n",
      "  return pd.unique(values)\n",
      "c:\\Users\\alvar\\anaconda3\\envs\\machlearn\\Lib\\site-packages\\holoviews\\core\\util.py:1175: FutureWarning: unique with argument that is not not a Series, Index, ExtensionArray, or np.ndarray is deprecated and will raise in a future version.\n",
      "  return pd.unique(values)\n"
     ]
    },
    {
     "data": {
      "text/html": [
       "<img src='data:image/png;base64,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' style='max-width:100%; margin: auto; display: block; '/>"
      ],
      "text/plain": [
       ":NdOverlay   [Prediction]\n",
       "   :Scatter   [price_change_percentage_24h]   (price_change_percentage_7d,Crypto_names)"
      ]
     },
     "execution_count": 81,
     "metadata": {
      "application/vnd.holoviews_exec.v0+json": {}
     },
     "output_type": "execute_result"
    }
   ],
   "source": [
    "# Create a scatter plot using hvPlot by setting \n",
    "# `x=\"price_change_percentage_24h\"` and `y=\"price_change_percentage_7d\"`. \n",
    "# Color the graph points with the labels found using K-Means and \n",
    "# add the crypto name in the `hover_cols` parameter to identify \n",
    "# the cryptocurrency represented by each data point.\n",
    "\n",
    "market_data_plot = df_market_data_transformed_copy.hvplot.scatter(\n",
    "    x=\"price_change_percentage_24h\",\n",
    "    y=\"price_change_percentage_7d\",\n",
    "    by=\"Prediction\",\n",
    "    hover_cols = ['Crypto_names']\n",
    ")\n",
    "\n",
    "market_data_plot\n"
   ]
  },
  {
   "attachments": {},
   "cell_type": "markdown",
   "metadata": {},
   "source": [
    "---"
   ]
  },
  {
   "attachments": {},
   "cell_type": "markdown",
   "metadata": {},
   "source": [
    "### Optimize Clusters with Principal Component Analysis."
   ]
  },
  {
   "cell_type": "code",
   "execution_count": 82,
   "metadata": {},
   "outputs": [],
   "source": [
    "# Import the PCA module\n",
    "from sklearn.decomposition import PCA"
   ]
  },
  {
   "cell_type": "code",
   "execution_count": 83,
   "metadata": {},
   "outputs": [],
   "source": [
    "# Create a PCA model instance and set `n_components=3`.\n",
    "pca = PCA(n_components=3)"
   ]
  },
  {
   "cell_type": "code",
   "execution_count": 84,
   "metadata": {},
   "outputs": [
    {
     "data": {
      "text/plain": [
       "array([[-0.60066733,  0.84276006,  0.46159457],\n",
       "       [-0.45826071,  0.45846566,  0.95287678],\n",
       "       [-0.43306981, -0.16812638, -0.64175193],\n",
       "       [-0.47183495, -0.22266008, -0.47905316],\n",
       "       [-1.15779997,  2.04120919,  1.85971527]])"
      ]
     },
     "execution_count": 84,
     "metadata": {},
     "output_type": "execute_result"
    }
   ],
   "source": [
    "# Use the PCA model with `fit_transform` to reduce to \n",
    "# three principal components.\n",
    "market_pca = pca.fit_transform(df_market_data_scaled)\n",
    "\n",
    "# View the first five rows of the DataFrame. \n",
    "market_pca[:5]"
   ]
  },
  {
   "cell_type": "code",
   "execution_count": 85,
   "metadata": {},
   "outputs": [
    {
     "data": {
      "text/html": [
       "<div>\n",
       "<style scoped>\n",
       "    .dataframe tbody tr th:only-of-type {\n",
       "        vertical-align: middle;\n",
       "    }\n",
       "\n",
       "    .dataframe tbody tr th {\n",
       "        vertical-align: top;\n",
       "    }\n",
       "\n",
       "    .dataframe thead th {\n",
       "        text-align: right;\n",
       "    }\n",
       "</style>\n",
       "<table border=\"1\" class=\"dataframe\">\n",
       "  <thead>\n",
       "    <tr style=\"text-align: right;\">\n",
       "      <th></th>\n",
       "      <th>PC1</th>\n",
       "      <th>PC2</th>\n",
       "      <th>PC3</th>\n",
       "    </tr>\n",
       "  </thead>\n",
       "  <tbody>\n",
       "    <tr>\n",
       "      <th>0</th>\n",
       "      <td>-0.600667</td>\n",
       "      <td>0.842760</td>\n",
       "      <td>0.461595</td>\n",
       "    </tr>\n",
       "    <tr>\n",
       "      <th>1</th>\n",
       "      <td>-0.458261</td>\n",
       "      <td>0.458466</td>\n",
       "      <td>0.952877</td>\n",
       "    </tr>\n",
       "    <tr>\n",
       "      <th>2</th>\n",
       "      <td>-0.433070</td>\n",
       "      <td>-0.168126</td>\n",
       "      <td>-0.641752</td>\n",
       "    </tr>\n",
       "    <tr>\n",
       "      <th>3</th>\n",
       "      <td>-0.471835</td>\n",
       "      <td>-0.222660</td>\n",
       "      <td>-0.479053</td>\n",
       "    </tr>\n",
       "    <tr>\n",
       "      <th>4</th>\n",
       "      <td>-1.157800</td>\n",
       "      <td>2.041209</td>\n",
       "      <td>1.859715</td>\n",
       "    </tr>\n",
       "  </tbody>\n",
       "</table>\n",
       "</div>"
      ],
      "text/plain": [
       "        PC1       PC2       PC3\n",
       "0 -0.600667  0.842760  0.461595\n",
       "1 -0.458261  0.458466  0.952877\n",
       "2 -0.433070 -0.168126 -0.641752\n",
       "3 -0.471835 -0.222660 -0.479053\n",
       "4 -1.157800  2.041209  1.859715"
      ]
     },
     "execution_count": 85,
     "metadata": {},
     "output_type": "execute_result"
    }
   ],
   "source": [
    "#creating PCA dataframe\n",
    "market_pca_df = pd.DataFrame(\n",
    "    market_pca, \n",
    "    columns=['PC1', 'PC2', 'PC3']\n",
    ")\n",
    "\n",
    "market_pca_df.head()"
   ]
  },
  {
   "cell_type": "code",
   "execution_count": 86,
   "metadata": {},
   "outputs": [
    {
     "data": {
      "text/plain": [
       "array([0.3719856 , 0.34700813, 0.17603793])"
      ]
     },
     "execution_count": 86,
     "metadata": {},
     "output_type": "execute_result"
    }
   ],
   "source": [
    "# Retrieve the explained variance to determine how much information \n",
    "# can be attributed to each principal component.\n",
    "pca.explained_variance_ratio_"
   ]
  },
  {
   "attachments": {},
   "cell_type": "markdown",
   "metadata": {},
   "source": [
    "#### Answer the following question: \n",
    "\n",
    "**Question:** What is the total explained variance of the three principal components?\n",
    "\n",
    "**Answer:** The total explained variance is 89.5%"
   ]
  },
  {
   "cell_type": "code",
   "execution_count": 87,
   "metadata": {},
   "outputs": [
    {
     "data": {
      "text/html": [
       "<div>\n",
       "<style scoped>\n",
       "    .dataframe tbody tr th:only-of-type {\n",
       "        vertical-align: middle;\n",
       "    }\n",
       "\n",
       "    .dataframe tbody tr th {\n",
       "        vertical-align: top;\n",
       "    }\n",
       "\n",
       "    .dataframe thead th {\n",
       "        text-align: right;\n",
       "    }\n",
       "</style>\n",
       "<table border=\"1\" class=\"dataframe\">\n",
       "  <thead>\n",
       "    <tr style=\"text-align: right;\">\n",
       "      <th></th>\n",
       "      <th>PC1</th>\n",
       "      <th>PC2</th>\n",
       "      <th>PC3</th>\n",
       "    </tr>\n",
       "    <tr>\n",
       "      <th>Crypto_names</th>\n",
       "      <th></th>\n",
       "      <th></th>\n",
       "      <th></th>\n",
       "    </tr>\n",
       "  </thead>\n",
       "  <tbody>\n",
       "    <tr>\n",
       "      <th>bitcoin</th>\n",
       "      <td>-0.600667</td>\n",
       "      <td>0.842760</td>\n",
       "      <td>0.461595</td>\n",
       "    </tr>\n",
       "    <tr>\n",
       "      <th>ethereum</th>\n",
       "      <td>-0.458261</td>\n",
       "      <td>0.458466</td>\n",
       "      <td>0.952877</td>\n",
       "    </tr>\n",
       "    <tr>\n",
       "      <th>tether</th>\n",
       "      <td>-0.433070</td>\n",
       "      <td>-0.168126</td>\n",
       "      <td>-0.641752</td>\n",
       "    </tr>\n",
       "    <tr>\n",
       "      <th>ripple</th>\n",
       "      <td>-0.471835</td>\n",
       "      <td>-0.222660</td>\n",
       "      <td>-0.479053</td>\n",
       "    </tr>\n",
       "    <tr>\n",
       "      <th>bitcoin-cash</th>\n",
       "      <td>-1.157800</td>\n",
       "      <td>2.041209</td>\n",
       "      <td>1.859715</td>\n",
       "    </tr>\n",
       "  </tbody>\n",
       "</table>\n",
       "</div>"
      ],
      "text/plain": [
       "                   PC1       PC2       PC3\n",
       "Crypto_names                              \n",
       "bitcoin      -0.600667  0.842760  0.461595\n",
       "ethereum     -0.458261  0.458466  0.952877\n",
       "tether       -0.433070 -0.168126 -0.641752\n",
       "ripple       -0.471835 -0.222660 -0.479053\n",
       "bitcoin-cash -1.157800  2.041209  1.859715"
      ]
     },
     "execution_count": 87,
     "metadata": {},
     "output_type": "execute_result"
    }
   ],
   "source": [
    "# Create a new DataFrame with the PCA data.\n",
    "# Creating a DataFrame with the PCA data\n",
    "market_pca_df = pd.DataFrame(\n",
    "    market_pca, \n",
    "    columns=['PC1', 'PC2', 'PC3']\n",
    ")\n",
    "\n",
    "market_pca_df.head()\n",
    "\n",
    "# Copy the crypto names from the original data\n",
    "market_pca_df['Crypto_names'] = df_market_data.index\n",
    "\n",
    "# Set the coinid column as index\n",
    "market_pca_df = market_pca_df.set_index('Crypto_names')\n",
    "\n",
    "# Display sample data\n",
    "market_pca_df.head()"
   ]
  },
  {
   "attachments": {},
   "cell_type": "markdown",
   "metadata": {},
   "source": [
    "---"
   ]
  },
  {
   "attachments": {},
   "cell_type": "markdown",
   "metadata": {},
   "source": [
    "### Find the Best Value for k Using the PCA Data"
   ]
  },
  {
   "cell_type": "code",
   "execution_count": 88,
   "metadata": {},
   "outputs": [
    {
     "data": {
      "text/plain": [
       "[1, 2, 3, 4, 5, 6, 7, 8, 9, 10]"
      ]
     },
     "execution_count": 88,
     "metadata": {},
     "output_type": "execute_result"
    }
   ],
   "source": [
    "# Create a list with the number of k-values from 1 to 11\n",
    "k_pca = list(range(1,11))\n",
    "k_pca"
   ]
  },
  {
   "cell_type": "code",
   "execution_count": 89,
   "metadata": {},
   "outputs": [
    {
     "name": "stderr",
     "output_type": "stream",
     "text": [
      "c:\\Users\\alvar\\anaconda3\\envs\\machlearn\\Lib\\site-packages\\sklearn\\cluster\\_kmeans.py:1412: FutureWarning: The default value of `n_init` will change from 10 to 'auto' in 1.4. Set the value of `n_init` explicitly to suppress the warning\n",
      "  super()._check_params_vs_input(X, default_n_init=10)\n",
      "c:\\Users\\alvar\\anaconda3\\envs\\machlearn\\Lib\\site-packages\\sklearn\\cluster\\_kmeans.py:1412: FutureWarning: The default value of `n_init` will change from 10 to 'auto' in 1.4. Set the value of `n_init` explicitly to suppress the warning\n",
      "  super()._check_params_vs_input(X, default_n_init=10)\n",
      "c:\\Users\\alvar\\anaconda3\\envs\\machlearn\\Lib\\site-packages\\sklearn\\cluster\\_kmeans.py:1412: FutureWarning: The default value of `n_init` will change from 10 to 'auto' in 1.4. Set the value of `n_init` explicitly to suppress the warning\n",
      "  super()._check_params_vs_input(X, default_n_init=10)\n",
      "c:\\Users\\alvar\\anaconda3\\envs\\machlearn\\Lib\\site-packages\\sklearn\\cluster\\_kmeans.py:1412: FutureWarning: The default value of `n_init` will change from 10 to 'auto' in 1.4. Set the value of `n_init` explicitly to suppress the warning\n",
      "  super()._check_params_vs_input(X, default_n_init=10)\n",
      "c:\\Users\\alvar\\anaconda3\\envs\\machlearn\\Lib\\site-packages\\sklearn\\cluster\\_kmeans.py:1412: FutureWarning: The default value of `n_init` will change from 10 to 'auto' in 1.4. Set the value of `n_init` explicitly to suppress the warning\n",
      "  super()._check_params_vs_input(X, default_n_init=10)\n",
      "c:\\Users\\alvar\\anaconda3\\envs\\machlearn\\Lib\\site-packages\\sklearn\\cluster\\_kmeans.py:1412: FutureWarning: The default value of `n_init` will change from 10 to 'auto' in 1.4. Set the value of `n_init` explicitly to suppress the warning\n",
      "  super()._check_params_vs_input(X, default_n_init=10)\n",
      "c:\\Users\\alvar\\anaconda3\\envs\\machlearn\\Lib\\site-packages\\sklearn\\cluster\\_kmeans.py:1412: FutureWarning: The default value of `n_init` will change from 10 to 'auto' in 1.4. Set the value of `n_init` explicitly to suppress the warning\n",
      "  super()._check_params_vs_input(X, default_n_init=10)\n",
      "c:\\Users\\alvar\\anaconda3\\envs\\machlearn\\Lib\\site-packages\\sklearn\\cluster\\_kmeans.py:1412: FutureWarning: The default value of `n_init` will change from 10 to 'auto' in 1.4. Set the value of `n_init` explicitly to suppress the warning\n",
      "  super()._check_params_vs_input(X, default_n_init=10)\n",
      "c:\\Users\\alvar\\anaconda3\\envs\\machlearn\\Lib\\site-packages\\sklearn\\cluster\\_kmeans.py:1412: FutureWarning: The default value of `n_init` will change from 10 to 'auto' in 1.4. Set the value of `n_init` explicitly to suppress the warning\n",
      "  super()._check_params_vs_input(X, default_n_init=10)\n",
      "c:\\Users\\alvar\\anaconda3\\envs\\machlearn\\Lib\\site-packages\\sklearn\\cluster\\_kmeans.py:1412: FutureWarning: The default value of `n_init` will change from 10 to 'auto' in 1.4. Set the value of `n_init` explicitly to suppress the warning\n",
      "  super()._check_params_vs_input(X, default_n_init=10)\n"
     ]
    }
   ],
   "source": [
    "# Create an empty list to store the inertia values\n",
    "inertia_pca = []\n",
    "\n",
    "# Create a for loop to compute the inertia with each possible value of k\n",
    "# Inside the loop:\n",
    "# 1. Create a KMeans model using the loop counter for the n_clusters\n",
    "# 2. Fit the model to the data using `df_market_data_pca`\n",
    "# 3. Append the model.inertia_ to the inertia list\n",
    "for i in k_pca:\n",
    "    k_model = KMeans(n_clusters=i, random_state=0)\n",
    "    k_model.fit(market_pca_df)\n",
    "    inertia_pca.append(k_model.inertia_)\n",
    "\n"
   ]
  },
  {
   "cell_type": "code",
   "execution_count": 90,
   "metadata": {},
   "outputs": [
    {
     "data": {
      "text/html": [
       "<div>\n",
       "<style scoped>\n",
       "    .dataframe tbody tr th:only-of-type {\n",
       "        vertical-align: middle;\n",
       "    }\n",
       "\n",
       "    .dataframe tbody tr th {\n",
       "        vertical-align: top;\n",
       "    }\n",
       "\n",
       "    .dataframe thead th {\n",
       "        text-align: right;\n",
       "    }\n",
       "</style>\n",
       "<table border=\"1\" class=\"dataframe\">\n",
       "  <thead>\n",
       "    <tr style=\"text-align: right;\">\n",
       "      <th></th>\n",
       "      <th>k</th>\n",
       "      <th>inertia</th>\n",
       "    </tr>\n",
       "  </thead>\n",
       "  <tbody>\n",
       "    <tr>\n",
       "      <th>0</th>\n",
       "      <td>1</td>\n",
       "      <td>256.874086</td>\n",
       "    </tr>\n",
       "    <tr>\n",
       "      <th>1</th>\n",
       "      <td>2</td>\n",
       "      <td>168.811896</td>\n",
       "    </tr>\n",
       "    <tr>\n",
       "      <th>2</th>\n",
       "      <td>3</td>\n",
       "      <td>93.774626</td>\n",
       "    </tr>\n",
       "    <tr>\n",
       "      <th>3</th>\n",
       "      <td>4</td>\n",
       "      <td>49.665497</td>\n",
       "    </tr>\n",
       "    <tr>\n",
       "      <th>4</th>\n",
       "      <td>5</td>\n",
       "      <td>37.839466</td>\n",
       "    </tr>\n",
       "  </tbody>\n",
       "</table>\n",
       "</div>"
      ],
      "text/plain": [
       "   k     inertia\n",
       "0  1  256.874086\n",
       "1  2  168.811896\n",
       "2  3   93.774626\n",
       "3  4   49.665497\n",
       "4  5   37.839466"
      ]
     },
     "execution_count": 90,
     "metadata": {},
     "output_type": "execute_result"
    }
   ],
   "source": [
    "# Create a dictionary with the data to plot the Elbow curve\n",
    "elbow_data_pca = {'k': k_pca, 'inertia': inertia_pca}\n",
    "\n",
    "# Create a DataFrame with the data to plot the Elbow curve\n",
    "df_elbow_pca = pd.DataFrame(elbow_data_pca)\n",
    "df_elbow_pca.head()"
   ]
  },
  {
   "cell_type": "code",
   "execution_count": 91,
   "metadata": {},
   "outputs": [
    {
     "data": {
      "text/html": [
       "<img src='data:image/png;base64,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' style='max-width:100%; margin: auto; display: block; '/>"
      ],
      "text/plain": [
       ":Curve   [k]   (inertia)"
      ]
     },
     "execution_count": 91,
     "metadata": {
      "application/vnd.holoviews_exec.v0+json": {}
     },
     "output_type": "execute_result"
    }
   ],
   "source": [
    "# Plot a line chart with all the inertia values computed with \n",
    "# the different values of k to visually identify the optimal value for k.\n",
    "# Plot the Elbow Curve\n",
    "elbow_pca_plot = df_elbow_pca.hvplot.line(\n",
    "    x=\"k\", \n",
    "    y=\"inertia\", \n",
    "    title=\"PCA Elbow Curve\", \n",
    "    xticks=k\n",
    ")\n",
    "\n",
    "elbow_pca_plot\n"
   ]
  },
  {
   "attachments": {},
   "cell_type": "markdown",
   "metadata": {},
   "source": [
    "#### Answer the following questions: \n",
    "\n",
    "* **Question:** What is the best value for `k` when using the PCA data?\n",
    "\n",
    "  * **Answer:** The best value for K when using PCA data is '4'.\n",
    "\n",
    "\n",
    "* **Question:** Does it differ from the best k value found using the original data?\n",
    "\n",
    "  * **Answer:** The PCA-best value for 'k' is the same as the one found using the original data."
   ]
  },
  {
   "attachments": {},
   "cell_type": "markdown",
   "metadata": {},
   "source": [
    "### Cluster Cryptocurrencies with K-means Using the PCA Data"
   ]
  },
  {
   "cell_type": "code",
   "execution_count": 92,
   "metadata": {},
   "outputs": [],
   "source": [
    "# Initialize the K-Means model using the best value for k\n",
    "model = KMeans(n_clusters=4, random_state=0)"
   ]
  },
  {
   "cell_type": "code",
   "execution_count": 93,
   "metadata": {},
   "outputs": [
    {
     "name": "stderr",
     "output_type": "stream",
     "text": [
      "c:\\Users\\alvar\\anaconda3\\envs\\machlearn\\Lib\\site-packages\\sklearn\\cluster\\_kmeans.py:1412: FutureWarning: The default value of `n_init` will change from 10 to 'auto' in 1.4. Set the value of `n_init` explicitly to suppress the warning\n",
      "  super()._check_params_vs_input(X, default_n_init=10)\n"
     ]
    },
    {
     "data": {
      "text/html": [
       "<style>#sk-container-id-6 {color: black;}#sk-container-id-6 pre{padding: 0;}#sk-container-id-6 div.sk-toggleable {background-color: white;}#sk-container-id-6 label.sk-toggleable__label {cursor: pointer;display: block;width: 100%;margin-bottom: 0;padding: 0.3em;box-sizing: border-box;text-align: center;}#sk-container-id-6 label.sk-toggleable__label-arrow:before {content: \"▸\";float: left;margin-right: 0.25em;color: #696969;}#sk-container-id-6 label.sk-toggleable__label-arrow:hover:before {color: black;}#sk-container-id-6 div.sk-estimator:hover label.sk-toggleable__label-arrow:before {color: black;}#sk-container-id-6 div.sk-toggleable__content {max-height: 0;max-width: 0;overflow: hidden;text-align: left;background-color: #f0f8ff;}#sk-container-id-6 div.sk-toggleable__content pre {margin: 0.2em;color: black;border-radius: 0.25em;background-color: #f0f8ff;}#sk-container-id-6 input.sk-toggleable__control:checked~div.sk-toggleable__content {max-height: 200px;max-width: 100%;overflow: auto;}#sk-container-id-6 input.sk-toggleable__control:checked~label.sk-toggleable__label-arrow:before {content: \"▾\";}#sk-container-id-6 div.sk-estimator input.sk-toggleable__control:checked~label.sk-toggleable__label {background-color: #d4ebff;}#sk-container-id-6 div.sk-label input.sk-toggleable__control:checked~label.sk-toggleable__label {background-color: #d4ebff;}#sk-container-id-6 input.sk-hidden--visually {border: 0;clip: rect(1px 1px 1px 1px);clip: rect(1px, 1px, 1px, 1px);height: 1px;margin: -1px;overflow: hidden;padding: 0;position: absolute;width: 1px;}#sk-container-id-6 div.sk-estimator {font-family: monospace;background-color: #f0f8ff;border: 1px dotted black;border-radius: 0.25em;box-sizing: border-box;margin-bottom: 0.5em;}#sk-container-id-6 div.sk-estimator:hover {background-color: #d4ebff;}#sk-container-id-6 div.sk-parallel-item::after {content: \"\";width: 100%;border-bottom: 1px solid gray;flex-grow: 1;}#sk-container-id-6 div.sk-label:hover label.sk-toggleable__label {background-color: #d4ebff;}#sk-container-id-6 div.sk-serial::before {content: \"\";position: absolute;border-left: 1px solid gray;box-sizing: border-box;top: 0;bottom: 0;left: 50%;z-index: 0;}#sk-container-id-6 div.sk-serial {display: flex;flex-direction: column;align-items: center;background-color: white;padding-right: 0.2em;padding-left: 0.2em;position: relative;}#sk-container-id-6 div.sk-item {position: relative;z-index: 1;}#sk-container-id-6 div.sk-parallel {display: flex;align-items: stretch;justify-content: center;background-color: white;position: relative;}#sk-container-id-6 div.sk-item::before, #sk-container-id-6 div.sk-parallel-item::before {content: \"\";position: absolute;border-left: 1px solid gray;box-sizing: border-box;top: 0;bottom: 0;left: 50%;z-index: -1;}#sk-container-id-6 div.sk-parallel-item {display: flex;flex-direction: column;z-index: 1;position: relative;background-color: white;}#sk-container-id-6 div.sk-parallel-item:first-child::after {align-self: flex-end;width: 50%;}#sk-container-id-6 div.sk-parallel-item:last-child::after {align-self: flex-start;width: 50%;}#sk-container-id-6 div.sk-parallel-item:only-child::after {width: 0;}#sk-container-id-6 div.sk-dashed-wrapped {border: 1px dashed gray;margin: 0 0.4em 0.5em 0.4em;box-sizing: border-box;padding-bottom: 0.4em;background-color: white;}#sk-container-id-6 div.sk-label label {font-family: monospace;font-weight: bold;display: inline-block;line-height: 1.2em;}#sk-container-id-6 div.sk-label-container {text-align: center;}#sk-container-id-6 div.sk-container {/* jupyter's `normalize.less` sets `[hidden] { display: none; }` but bootstrap.min.css set `[hidden] { display: none !important; }` so we also need the `!important` here to be able to override the default hidden behavior on the sphinx rendered scikit-learn.org. See: https://github.com/scikit-learn/scikit-learn/issues/21755 */display: inline-block !important;position: relative;}#sk-container-id-6 div.sk-text-repr-fallback {display: none;}</style><div id=\"sk-container-id-6\" class=\"sk-top-container\"><div class=\"sk-text-repr-fallback\"><pre>KMeans(n_clusters=4, random_state=0)</pre><b>In a Jupyter environment, please rerun this cell to show the HTML representation or trust the notebook. <br />On GitHub, the HTML representation is unable to render, please try loading this page with nbviewer.org.</b></div><div class=\"sk-container\" hidden><div class=\"sk-item\"><div class=\"sk-estimator sk-toggleable\"><input class=\"sk-toggleable__control sk-hidden--visually\" id=\"sk-estimator-id-6\" type=\"checkbox\" checked><label for=\"sk-estimator-id-6\" class=\"sk-toggleable__label sk-toggleable__label-arrow\">KMeans</label><div class=\"sk-toggleable__content\"><pre>KMeans(n_clusters=4, random_state=0)</pre></div></div></div></div></div>"
      ],
      "text/plain": [
       "KMeans(n_clusters=4, random_state=0)"
      ]
     },
     "execution_count": 93,
     "metadata": {},
     "output_type": "execute_result"
    }
   ],
   "source": [
    "# Fit the K-Means model using the PCA data\n",
    "model.fit(market_pca_df)"
   ]
  },
  {
   "cell_type": "code",
   "execution_count": 94,
   "metadata": {},
   "outputs": [
    {
     "data": {
      "text/plain": [
       "array([2, 2, 0, 0, 2, 2, 2, 2, 2, 0, 0, 0, 0, 2, 0, 2, 0, 0, 2, 0, 0, 2,\n",
       "       0, 0, 0, 0, 0, 0, 2, 0, 0, 0, 1, 2, 0, 0, 3, 0, 0, 0, 0])"
      ]
     },
     "execution_count": 94,
     "metadata": {},
     "output_type": "execute_result"
    }
   ],
   "source": [
    "# Predict the clusters to group the cryptocurrencies using the PCA data\n",
    "k3 = model.predict(market_pca_df)\n",
    "\n",
    "# Print the resulting array of cluster values.\n",
    "k3"
   ]
  },
  {
   "cell_type": "code",
   "execution_count": 95,
   "metadata": {},
   "outputs": [
    {
     "data": {
      "text/html": [
       "<div>\n",
       "<style scoped>\n",
       "    .dataframe tbody tr th:only-of-type {\n",
       "        vertical-align: middle;\n",
       "    }\n",
       "\n",
       "    .dataframe tbody tr th {\n",
       "        vertical-align: top;\n",
       "    }\n",
       "\n",
       "    .dataframe thead th {\n",
       "        text-align: right;\n",
       "    }\n",
       "</style>\n",
       "<table border=\"1\" class=\"dataframe\">\n",
       "  <thead>\n",
       "    <tr style=\"text-align: right;\">\n",
       "      <th></th>\n",
       "      <th>PC1</th>\n",
       "      <th>PC2</th>\n",
       "      <th>PC3</th>\n",
       "      <th>pca_predictions</th>\n",
       "    </tr>\n",
       "    <tr>\n",
       "      <th>Crypto_names</th>\n",
       "      <th></th>\n",
       "      <th></th>\n",
       "      <th></th>\n",
       "      <th></th>\n",
       "    </tr>\n",
       "  </thead>\n",
       "  <tbody>\n",
       "    <tr>\n",
       "      <th>bitcoin</th>\n",
       "      <td>-0.600667</td>\n",
       "      <td>0.842760</td>\n",
       "      <td>0.461595</td>\n",
       "      <td>2</td>\n",
       "    </tr>\n",
       "    <tr>\n",
       "      <th>ethereum</th>\n",
       "      <td>-0.458261</td>\n",
       "      <td>0.458466</td>\n",
       "      <td>0.952877</td>\n",
       "      <td>2</td>\n",
       "    </tr>\n",
       "    <tr>\n",
       "      <th>tether</th>\n",
       "      <td>-0.433070</td>\n",
       "      <td>-0.168126</td>\n",
       "      <td>-0.641752</td>\n",
       "      <td>0</td>\n",
       "    </tr>\n",
       "    <tr>\n",
       "      <th>ripple</th>\n",
       "      <td>-0.471835</td>\n",
       "      <td>-0.222660</td>\n",
       "      <td>-0.479053</td>\n",
       "      <td>0</td>\n",
       "    </tr>\n",
       "    <tr>\n",
       "      <th>bitcoin-cash</th>\n",
       "      <td>-1.157800</td>\n",
       "      <td>2.041209</td>\n",
       "      <td>1.859715</td>\n",
       "      <td>2</td>\n",
       "    </tr>\n",
       "  </tbody>\n",
       "</table>\n",
       "</div>"
      ],
      "text/plain": [
       "                   PC1       PC2       PC3  pca_predictions\n",
       "Crypto_names                                               \n",
       "bitcoin      -0.600667  0.842760  0.461595                2\n",
       "ethereum     -0.458261  0.458466  0.952877                2\n",
       "tether       -0.433070 -0.168126 -0.641752                0\n",
       "ripple       -0.471835 -0.222660 -0.479053                0\n",
       "bitcoin-cash -1.157800  2.041209  1.859715                2"
      ]
     },
     "execution_count": 95,
     "metadata": {},
     "output_type": "execute_result"
    }
   ],
   "source": [
    "# Create a copy of the DataFrame with the PCA data\n",
    "market_pca_predictions_df = market_pca_df.copy()\n",
    "\n",
    "# Add a new column to the DataFrame with the predicted clusters\n",
    "market_pca_predictions_df['pca_predictions'] = k3\n",
    "\n",
    "# Display sample data\n",
    "market_pca_predictions_df.head()\n"
   ]
  },
  {
   "cell_type": "code",
   "execution_count": 100,
   "metadata": {},
   "outputs": [
    {
     "name": "stderr",
     "output_type": "stream",
     "text": [
      "c:\\Users\\alvar\\anaconda3\\envs\\machlearn\\Lib\\site-packages\\holoviews\\core\\util.py:1175: FutureWarning: unique with argument that is not not a Series, Index, ExtensionArray, or np.ndarray is deprecated and will raise in a future version.\n",
      "  return pd.unique(values)\n",
      "c:\\Users\\alvar\\anaconda3\\envs\\machlearn\\Lib\\site-packages\\holoviews\\core\\util.py:1175: FutureWarning: unique with argument that is not not a Series, Index, ExtensionArray, or np.ndarray is deprecated and will raise in a future version.\n",
      "  return pd.unique(values)\n",
      "c:\\Users\\alvar\\anaconda3\\envs\\machlearn\\Lib\\site-packages\\holoviews\\core\\util.py:1175: FutureWarning: unique with argument that is not not a Series, Index, ExtensionArray, or np.ndarray is deprecated and will raise in a future version.\n",
      "  return pd.unique(values)\n",
      "c:\\Users\\alvar\\anaconda3\\envs\\machlearn\\Lib\\site-packages\\holoviews\\core\\util.py:1175: FutureWarning: unique with argument that is not not a Series, Index, ExtensionArray, or np.ndarray is deprecated and will raise in a future version.\n",
      "  return pd.unique(values)\n",
      "c:\\Users\\alvar\\anaconda3\\envs\\machlearn\\Lib\\site-packages\\holoviews\\core\\util.py:1175: FutureWarning: unique with argument that is not not a Series, Index, ExtensionArray, or np.ndarray is deprecated and will raise in a future version.\n",
      "  return pd.unique(values)\n",
      "c:\\Users\\alvar\\anaconda3\\envs\\machlearn\\Lib\\site-packages\\holoviews\\core\\util.py:1175: FutureWarning: unique with argument that is not not a Series, Index, ExtensionArray, or np.ndarray is deprecated and will raise in a future version.\n",
      "  return pd.unique(values)\n",
      "c:\\Users\\alvar\\anaconda3\\envs\\machlearn\\Lib\\site-packages\\holoviews\\core\\util.py:1175: FutureWarning: unique with argument that is not not a Series, Index, ExtensionArray, or np.ndarray is deprecated and will raise in a future version.\n",
      "  return pd.unique(values)\n",
      "c:\\Users\\alvar\\anaconda3\\envs\\machlearn\\Lib\\site-packages\\holoviews\\core\\util.py:1175: FutureWarning: unique with argument that is not not a Series, Index, ExtensionArray, or np.ndarray is deprecated and will raise in a future version.\n",
      "  return pd.unique(values)\n",
      "c:\\Users\\alvar\\anaconda3\\envs\\machlearn\\Lib\\site-packages\\holoviews\\core\\util.py:1175: FutureWarning: unique with argument that is not not a Series, Index, ExtensionArray, or np.ndarray is deprecated and will raise in a future version.\n",
      "  return pd.unique(values)\n",
      "c:\\Users\\alvar\\anaconda3\\envs\\machlearn\\Lib\\site-packages\\holoviews\\core\\util.py:1175: FutureWarning: unique with argument that is not not a Series, Index, ExtensionArray, or np.ndarray is deprecated and will raise in a future version.\n",
      "  return pd.unique(values)\n",
      "c:\\Users\\alvar\\anaconda3\\envs\\machlearn\\Lib\\site-packages\\holoviews\\core\\util.py:1175: FutureWarning: unique with argument that is not not a Series, Index, ExtensionArray, or np.ndarray is deprecated and will raise in a future version.\n",
      "  return pd.unique(values)\n",
      "c:\\Users\\alvar\\anaconda3\\envs\\machlearn\\Lib\\site-packages\\holoviews\\core\\util.py:1175: FutureWarning: unique with argument that is not not a Series, Index, ExtensionArray, or np.ndarray is deprecated and will raise in a future version.\n",
      "  return pd.unique(values)\n"
     ]
    },
    {
     "data": {
      "text/html": [
       "<img src='data:image/png;base64,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' style='max-width:100%; margin: auto; display: block; '/>"
      ],
      "text/plain": [
       ":NdOverlay   [pca_predictions]\n",
       "   :Scatter   [PC1]   (PC2,Crypto_names)"
      ]
     },
     "execution_count": 100,
     "metadata": {
      "application/vnd.holoviews_exec.v0+json": {}
     },
     "output_type": "execute_result"
    }
   ],
   "source": [
    "# Create a scatter plot using hvPlot by setting \n",
    "# `x=\"PC1\"` and `y=\"PC2\"`. \n",
    "# Color the graph points with the labels found using K-Means and \n",
    "# add the crypto name in the `hover_cols` parameter to identify \n",
    "# the cryptocurrency represented by each data point.\n",
    "\n",
    "pca_scatter_plot = market_pca_predictions_df.hvplot.scatter(\n",
    "    x='PC1',\n",
    "    y='PC2',\n",
    "    by='pca_predictions', \n",
    "    hover_cols = ['Crypto_names']\n",
    ")\n",
    "\n",
    "pca_scatter_plot\n"
   ]
  },
  {
   "attachments": {},
   "cell_type": "markdown",
   "metadata": {},
   "source": [
    "### Visualize and Compare the Results\n",
    "\n",
    "In this section, you will visually analyze the cluster analysis results by contrasting the outcome with and without using the optimization techniques."
   ]
  },
  {
   "cell_type": "code",
   "execution_count": 99,
   "metadata": {},
   "outputs": [
    {
     "data": {
      "text/html": [
       "<img src='data:image/png;base64,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' style='max-width:100%; margin: auto; display: block; '/>"
      ],
      "text/plain": [
       ":Layout\n",
       "   .Curve.I  :Curve   [k]   (inertia)\n",
       "   .Curve.II :Curve   [k]   (inertia)"
      ]
     },
     "execution_count": 99,
     "metadata": {
      "application/vnd.holoviews_exec.v0+json": {}
     },
     "output_type": "execute_result"
    }
   ],
   "source": [
    "# Composite plot to contrast the Elbow curves\n",
    "elbow_plot + elbow_pca_plot"
   ]
  },
  {
   "cell_type": "code",
   "execution_count": 101,
   "metadata": {},
   "outputs": [
    {
     "name": "stderr",
     "output_type": "stream",
     "text": [
      "c:\\Users\\alvar\\anaconda3\\envs\\machlearn\\Lib\\site-packages\\holoviews\\core\\util.py:1175: FutureWarning: unique with argument that is not not a Series, Index, ExtensionArray, or np.ndarray is deprecated and will raise in a future version.\n",
      "  return pd.unique(values)\n",
      "c:\\Users\\alvar\\anaconda3\\envs\\machlearn\\Lib\\site-packages\\holoviews\\core\\util.py:1175: FutureWarning: unique with argument that is not not a Series, Index, ExtensionArray, or np.ndarray is deprecated and will raise in a future version.\n",
      "  return pd.unique(values)\n",
      "c:\\Users\\alvar\\anaconda3\\envs\\machlearn\\Lib\\site-packages\\holoviews\\core\\util.py:1175: FutureWarning: unique with argument that is not not a Series, Index, ExtensionArray, or np.ndarray is deprecated and will raise in a future version.\n",
      "  return pd.unique(values)\n",
      "c:\\Users\\alvar\\anaconda3\\envs\\machlearn\\Lib\\site-packages\\holoviews\\core\\util.py:1175: FutureWarning: unique with argument that is not not a Series, Index, ExtensionArray, or np.ndarray is deprecated and will raise in a future version.\n",
      "  return pd.unique(values)\n",
      "c:\\Users\\alvar\\anaconda3\\envs\\machlearn\\Lib\\site-packages\\holoviews\\core\\util.py:1175: FutureWarning: unique with argument that is not not a Series, Index, ExtensionArray, or np.ndarray is deprecated and will raise in a future version.\n",
      "  return pd.unique(values)\n",
      "c:\\Users\\alvar\\anaconda3\\envs\\machlearn\\Lib\\site-packages\\holoviews\\core\\util.py:1175: FutureWarning: unique with argument that is not not a Series, Index, ExtensionArray, or np.ndarray is deprecated and will raise in a future version.\n",
      "  return pd.unique(values)\n",
      "c:\\Users\\alvar\\anaconda3\\envs\\machlearn\\Lib\\site-packages\\holoviews\\core\\util.py:1175: FutureWarning: unique with argument that is not not a Series, Index, ExtensionArray, or np.ndarray is deprecated and will raise in a future version.\n",
      "  return pd.unique(values)\n",
      "c:\\Users\\alvar\\anaconda3\\envs\\machlearn\\Lib\\site-packages\\holoviews\\core\\util.py:1175: FutureWarning: unique with argument that is not not a Series, Index, ExtensionArray, or np.ndarray is deprecated and will raise in a future version.\n",
      "  return pd.unique(values)\n",
      "c:\\Users\\alvar\\anaconda3\\envs\\machlearn\\Lib\\site-packages\\holoviews\\core\\util.py:1175: FutureWarning: unique with argument that is not not a Series, Index, ExtensionArray, or np.ndarray is deprecated and will raise in a future version.\n",
      "  return pd.unique(values)\n",
      "c:\\Users\\alvar\\anaconda3\\envs\\machlearn\\Lib\\site-packages\\holoviews\\core\\util.py:1175: FutureWarning: unique with argument that is not not a Series, Index, ExtensionArray, or np.ndarray is deprecated and will raise in a future version.\n",
      "  return pd.unique(values)\n",
      "c:\\Users\\alvar\\anaconda3\\envs\\machlearn\\Lib\\site-packages\\holoviews\\core\\util.py:1175: FutureWarning: unique with argument that is not not a Series, Index, ExtensionArray, or np.ndarray is deprecated and will raise in a future version.\n",
      "  return pd.unique(values)\n",
      "c:\\Users\\alvar\\anaconda3\\envs\\machlearn\\Lib\\site-packages\\holoviews\\core\\util.py:1175: FutureWarning: unique with argument that is not not a Series, Index, ExtensionArray, or np.ndarray is deprecated and will raise in a future version.\n",
      "  return pd.unique(values)\n",
      "c:\\Users\\alvar\\anaconda3\\envs\\machlearn\\Lib\\site-packages\\holoviews\\core\\util.py:1175: FutureWarning: unique with argument that is not not a Series, Index, ExtensionArray, or np.ndarray is deprecated and will raise in a future version.\n",
      "  return pd.unique(values)\n",
      "c:\\Users\\alvar\\anaconda3\\envs\\machlearn\\Lib\\site-packages\\holoviews\\core\\util.py:1175: FutureWarning: unique with argument that is not not a Series, Index, ExtensionArray, or np.ndarray is deprecated and will raise in a future version.\n",
      "  return pd.unique(values)\n",
      "c:\\Users\\alvar\\anaconda3\\envs\\machlearn\\Lib\\site-packages\\holoviews\\core\\util.py:1175: FutureWarning: unique with argument that is not not a Series, Index, ExtensionArray, or np.ndarray is deprecated and will raise in a future version.\n",
      "  return pd.unique(values)\n",
      "c:\\Users\\alvar\\anaconda3\\envs\\machlearn\\Lib\\site-packages\\holoviews\\core\\util.py:1175: FutureWarning: unique with argument that is not not a Series, Index, ExtensionArray, or np.ndarray is deprecated and will raise in a future version.\n",
      "  return pd.unique(values)\n",
      "c:\\Users\\alvar\\anaconda3\\envs\\machlearn\\Lib\\site-packages\\holoviews\\core\\util.py:1175: FutureWarning: unique with argument that is not not a Series, Index, ExtensionArray, or np.ndarray is deprecated and will raise in a future version.\n",
      "  return pd.unique(values)\n",
      "c:\\Users\\alvar\\anaconda3\\envs\\machlearn\\Lib\\site-packages\\holoviews\\core\\util.py:1175: FutureWarning: unique with argument that is not not a Series, Index, ExtensionArray, or np.ndarray is deprecated and will raise in a future version.\n",
      "  return pd.unique(values)\n",
      "c:\\Users\\alvar\\anaconda3\\envs\\machlearn\\Lib\\site-packages\\holoviews\\core\\util.py:1175: FutureWarning: unique with argument that is not not a Series, Index, ExtensionArray, or np.ndarray is deprecated and will raise in a future version.\n",
      "  return pd.unique(values)\n",
      "c:\\Users\\alvar\\anaconda3\\envs\\machlearn\\Lib\\site-packages\\holoviews\\core\\util.py:1175: FutureWarning: unique with argument that is not not a Series, Index, ExtensionArray, or np.ndarray is deprecated and will raise in a future version.\n",
      "  return pd.unique(values)\n",
      "c:\\Users\\alvar\\anaconda3\\envs\\machlearn\\Lib\\site-packages\\holoviews\\core\\util.py:1175: FutureWarning: unique with argument that is not not a Series, Index, ExtensionArray, or np.ndarray is deprecated and will raise in a future version.\n",
      "  return pd.unique(values)\n",
      "c:\\Users\\alvar\\anaconda3\\envs\\machlearn\\Lib\\site-packages\\holoviews\\core\\util.py:1175: FutureWarning: unique with argument that is not not a Series, Index, ExtensionArray, or np.ndarray is deprecated and will raise in a future version.\n",
      "  return pd.unique(values)\n",
      "c:\\Users\\alvar\\anaconda3\\envs\\machlearn\\Lib\\site-packages\\holoviews\\core\\util.py:1175: FutureWarning: unique with argument that is not not a Series, Index, ExtensionArray, or np.ndarray is deprecated and will raise in a future version.\n",
      "  return pd.unique(values)\n",
      "c:\\Users\\alvar\\anaconda3\\envs\\machlearn\\Lib\\site-packages\\holoviews\\core\\util.py:1175: FutureWarning: unique with argument that is not not a Series, Index, ExtensionArray, or np.ndarray is deprecated and will raise in a future version.\n",
      "  return pd.unique(values)\n",
      "c:\\Users\\alvar\\anaconda3\\envs\\machlearn\\Lib\\site-packages\\holoviews\\core\\util.py:1175: FutureWarning: unique with argument that is not not a Series, Index, ExtensionArray, or np.ndarray is deprecated and will raise in a future version.\n",
      "  return pd.unique(values)\n",
      "c:\\Users\\alvar\\anaconda3\\envs\\machlearn\\Lib\\site-packages\\holoviews\\core\\util.py:1175: FutureWarning: unique with argument that is not not a Series, Index, ExtensionArray, or np.ndarray is deprecated and will raise in a future version.\n",
      "  return pd.unique(values)\n",
      "c:\\Users\\alvar\\anaconda3\\envs\\machlearn\\Lib\\site-packages\\holoviews\\core\\util.py:1175: FutureWarning: unique with argument that is not not a Series, Index, ExtensionArray, or np.ndarray is deprecated and will raise in a future version.\n",
      "  return pd.unique(values)\n",
      "c:\\Users\\alvar\\anaconda3\\envs\\machlearn\\Lib\\site-packages\\holoviews\\core\\util.py:1175: FutureWarning: unique with argument that is not not a Series, Index, ExtensionArray, or np.ndarray is deprecated and will raise in a future version.\n",
      "  return pd.unique(values)\n"
     ]
    },
    {
     "data": {
      "text/html": [
       "<img src='data:image/png;base64,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' style='max-width:100%; margin: auto; display: block; '/>"
      ],
      "text/plain": [
       ":Layout\n",
       "   .NdOverlay.I  :NdOverlay   [Prediction]\n",
       "      :Scatter   [price_change_percentage_24h]   (price_change_percentage_7d,Crypto_names)\n",
       "   .NdOverlay.II :NdOverlay   [pca_predictions]\n",
       "      :Scatter   [PC1]   (PC2,Crypto_names)"
      ]
     },
     "execution_count": 101,
     "metadata": {
      "application/vnd.holoviews_exec.v0+json": {}
     },
     "output_type": "execute_result"
    }
   ],
   "source": [
    "# Composite plot to contrast the clusters\n",
    "market_data_plot + pca_scatter_plot"
   ]
  },
  {
   "attachments": {},
   "cell_type": "markdown",
   "metadata": {},
   "source": [
    "#### Answer the following question: \n",
    "\n",
    "  * **Question:** After visually analyzing the cluster analysis results, what is the impact of using fewer features to cluster the data using K-Means?\n",
    "\n",
    "  * **Answer:** Using PCA data yielded tighter clusters (greater precision), than the initial analysis."
   ]
  }
 ],
 "metadata": {
  "kernelspec": {
   "display_name": "Python 3 (ipykernel)",
   "language": "python",
   "name": "python3"
  },
  "language_info": {
   "codemirror_mode": {
    "name": "ipython",
    "version": 3
   },
   "file_extension": ".py",
   "mimetype": "text/x-python",
   "name": "python",
   "nbconvert_exporter": "python",
   "pygments_lexer": "ipython3",
   "version": "3.11.4"
  },
  "nteract": {
   "version": "0.28.0"
  },
  "vscode": {
   "interpreter": {
    "hash": "40d3a090f54c6569ab1632332b64b2c03c39dcf918b08424e98f38b5ae0af88f"
   }
  }
 },
 "nbformat": 4,
 "nbformat_minor": 4
}
